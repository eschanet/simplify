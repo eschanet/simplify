{
 "cells": [
  {
   "cell_type": "code",
   "execution_count": 1,
   "metadata": {},
   "outputs": [],
   "source": [
    "import pyhf\n",
    "import json\n",
    "import numpy as np\n",
    "\n",
    "import simplify\n",
    "\n",
    "# for uncertainties on fit results, I think we still need minuit as optimiser (performance isn't a problem for this tool)\n",
    "pyhf.set_backend(pyhf.tensorlib, \"minuit\")\n",
    "\n",
    "# Get the workspace from model spec\n",
    "\n",
    "spec = json.load(\n",
    "    open(\n",
    "        \"examples/ANA-SUSY-2019-08/BkgOnly.json\", \"r\"\n",
    "    )\n",
    ")"
   ]
  },
  {
   "cell_type": "code",
   "execution_count": 2,
   "metadata": {},
   "outputs": [
    {
     "ename": "KeyboardInterrupt",
     "evalue": "",
     "output_type": "error",
     "traceback": [
      "\u001b[0;31m---------------------------------------------------------------------------\u001b[0m",
      "\u001b[0;31mKeyboardInterrupt\u001b[0m                         Traceback (most recent call last)",
      "\u001b[0;32m<ipython-input-2-aadd4c774d67>\u001b[0m in \u001b[0;36m<module>\u001b[0;34m\u001b[0m\n\u001b[0;32m----> 1\u001b[0;31m \u001b[0moriginal_ws\u001b[0m \u001b[0;34m=\u001b[0m \u001b[0mpyhf\u001b[0m\u001b[0;34m.\u001b[0m\u001b[0mWorkspace\u001b[0m\u001b[0;34m(\u001b[0m\u001b[0mspec\u001b[0m\u001b[0;34m)\u001b[0m \u001b[0;31m# origin ws from full LH\u001b[0m\u001b[0;34m\u001b[0m\u001b[0;34m\u001b[0m\u001b[0m\n\u001b[0m\u001b[1;32m      2\u001b[0m \u001b[0;34m\u001b[0m\u001b[0m\n\u001b[1;32m      3\u001b[0m \u001b[0;31m# pruned_ws = original_ws.prune(channels=['SRLMEM_mct2','SRMMEM_mct2','SRHMEM_mct2']) # prune out SRs from original ws\u001b[0m\u001b[0;34m\u001b[0m\u001b[0;34m\u001b[0m\u001b[0;34m\u001b[0m\u001b[0m\n\u001b[1;32m      4\u001b[0m \u001b[0;31m# no_staterror_ws = original_ws.prune(modifiers=['staterror_SRLMEM_mct2','staterror_SRMMEM_mct2','staterror_SRHMEM_mct2']) # prune out staterror from SRs, but leave SRs in place for now\u001b[0m\u001b[0;34m\u001b[0m\u001b[0;34m\u001b[0m\u001b[0;34m\u001b[0m\u001b[0m\n",
      "\u001b[0;32m~/anaconda3/envs/pyhf/lib/python3.6/site-packages/pyhf/workspace.py\u001b[0m in \u001b[0;36m__init__\u001b[0;34m(self, spec, **config_kwargs)\u001b[0m\n\u001b[1;32m    271\u001b[0m         \u001b[0;31m# run jsonschema validation of input specification against the (provided) schema\u001b[0m\u001b[0;34m\u001b[0m\u001b[0;34m\u001b[0m\u001b[0;34m\u001b[0m\u001b[0m\n\u001b[1;32m    272\u001b[0m         \u001b[0mlog\u001b[0m\u001b[0;34m.\u001b[0m\u001b[0minfo\u001b[0m\u001b[0;34m(\u001b[0m\u001b[0;34mf\"Validating spec against schema: {self.schema}\"\u001b[0m\u001b[0;34m)\u001b[0m\u001b[0;34m\u001b[0m\u001b[0;34m\u001b[0m\u001b[0m\n\u001b[0;32m--> 273\u001b[0;31m         \u001b[0mutils\u001b[0m\u001b[0;34m.\u001b[0m\u001b[0mvalidate\u001b[0m\u001b[0;34m(\u001b[0m\u001b[0mself\u001b[0m\u001b[0;34m,\u001b[0m \u001b[0mself\u001b[0m\u001b[0;34m.\u001b[0m\u001b[0mschema\u001b[0m\u001b[0;34m,\u001b[0m \u001b[0mversion\u001b[0m\u001b[0;34m=\u001b[0m\u001b[0mself\u001b[0m\u001b[0;34m.\u001b[0m\u001b[0mversion\u001b[0m\u001b[0;34m)\u001b[0m\u001b[0;34m\u001b[0m\u001b[0;34m\u001b[0m\u001b[0m\n\u001b[0m\u001b[1;32m    274\u001b[0m \u001b[0;34m\u001b[0m\u001b[0m\n\u001b[1;32m    275\u001b[0m         \u001b[0mself\u001b[0m\u001b[0;34m.\u001b[0m\u001b[0mmeasurement_names\u001b[0m \u001b[0;34m=\u001b[0m \u001b[0;34m[\u001b[0m\u001b[0;34m]\u001b[0m\u001b[0;34m\u001b[0m\u001b[0;34m\u001b[0m\u001b[0m\n",
      "\u001b[0;32m~/anaconda3/envs/pyhf/lib/python3.6/site-packages/pyhf/utils.py\u001b[0m in \u001b[0;36mvalidate\u001b[0;34m(spec, schema_name, version)\u001b[0m\n\u001b[1;32m     49\u001b[0m             \u001b[0mschema\u001b[0m\u001b[0;34m,\u001b[0m \u001b[0mresolver\u001b[0m\u001b[0;34m=\u001b[0m\u001b[0mresolver\u001b[0m\u001b[0;34m,\u001b[0m \u001b[0mformat_checker\u001b[0m\u001b[0;34m=\u001b[0m\u001b[0;32mNone\u001b[0m\u001b[0;34m\u001b[0m\u001b[0;34m\u001b[0m\u001b[0m\n\u001b[1;32m     50\u001b[0m         )\n\u001b[0;32m---> 51\u001b[0;31m         \u001b[0;32mreturn\u001b[0m \u001b[0mvalidator\u001b[0m\u001b[0;34m.\u001b[0m\u001b[0mvalidate\u001b[0m\u001b[0;34m(\u001b[0m\u001b[0mspec\u001b[0m\u001b[0;34m)\u001b[0m\u001b[0;34m\u001b[0m\u001b[0;34m\u001b[0m\u001b[0m\n\u001b[0m\u001b[1;32m     52\u001b[0m     \u001b[0;32mexcept\u001b[0m \u001b[0mjsonschema\u001b[0m\u001b[0;34m.\u001b[0m\u001b[0mValidationError\u001b[0m \u001b[0;32mas\u001b[0m \u001b[0merr\u001b[0m\u001b[0;34m:\u001b[0m\u001b[0;34m\u001b[0m\u001b[0;34m\u001b[0m\u001b[0m\n\u001b[1;32m     53\u001b[0m         \u001b[0;32mraise\u001b[0m \u001b[0mInvalidSpecification\u001b[0m\u001b[0;34m(\u001b[0m\u001b[0merr\u001b[0m\u001b[0;34m)\u001b[0m\u001b[0;34m\u001b[0m\u001b[0;34m\u001b[0m\u001b[0m\n",
      "\u001b[0;32m~/anaconda3/envs/pyhf/lib/python3.6/site-packages/jsonschema/validators.py\u001b[0m in \u001b[0;36mvalidate\u001b[0;34m(self, *args, **kwargs)\u001b[0m\n\u001b[1;32m    350\u001b[0m \u001b[0;34m\u001b[0m\u001b[0m\n\u001b[1;32m    351\u001b[0m         \u001b[0;32mdef\u001b[0m \u001b[0mvalidate\u001b[0m\u001b[0;34m(\u001b[0m\u001b[0mself\u001b[0m\u001b[0;34m,\u001b[0m \u001b[0;34m*\u001b[0m\u001b[0margs\u001b[0m\u001b[0;34m,\u001b[0m \u001b[0;34m**\u001b[0m\u001b[0mkwargs\u001b[0m\u001b[0;34m)\u001b[0m\u001b[0;34m:\u001b[0m\u001b[0;34m\u001b[0m\u001b[0;34m\u001b[0m\u001b[0m\n\u001b[0;32m--> 352\u001b[0;31m             \u001b[0;32mfor\u001b[0m \u001b[0merror\u001b[0m \u001b[0;32min\u001b[0m \u001b[0mself\u001b[0m\u001b[0;34m.\u001b[0m\u001b[0miter_errors\u001b[0m\u001b[0;34m(\u001b[0m\u001b[0;34m*\u001b[0m\u001b[0margs\u001b[0m\u001b[0;34m,\u001b[0m \u001b[0;34m**\u001b[0m\u001b[0mkwargs\u001b[0m\u001b[0;34m)\u001b[0m\u001b[0;34m:\u001b[0m\u001b[0;34m\u001b[0m\u001b[0;34m\u001b[0m\u001b[0m\n\u001b[0m\u001b[1;32m    353\u001b[0m                 \u001b[0;32mraise\u001b[0m \u001b[0merror\u001b[0m\u001b[0;34m\u001b[0m\u001b[0;34m\u001b[0m\u001b[0m\n\u001b[1;32m    354\u001b[0m \u001b[0;34m\u001b[0m\u001b[0m\n",
      "\u001b[0;32m~/anaconda3/envs/pyhf/lib/python3.6/site-packages/jsonschema/validators.py\u001b[0m in \u001b[0;36miter_errors\u001b[0;34m(self, instance, _schema)\u001b[0m\n\u001b[1;32m    326\u001b[0m \u001b[0;34m\u001b[0m\u001b[0m\n\u001b[1;32m    327\u001b[0m                     \u001b[0merrors\u001b[0m \u001b[0;34m=\u001b[0m \u001b[0mvalidator\u001b[0m\u001b[0;34m(\u001b[0m\u001b[0mself\u001b[0m\u001b[0;34m,\u001b[0m \u001b[0mv\u001b[0m\u001b[0;34m,\u001b[0m \u001b[0minstance\u001b[0m\u001b[0;34m,\u001b[0m \u001b[0m_schema\u001b[0m\u001b[0;34m)\u001b[0m \u001b[0;32mor\u001b[0m \u001b[0;34m(\u001b[0m\u001b[0;34m)\u001b[0m\u001b[0;34m\u001b[0m\u001b[0;34m\u001b[0m\u001b[0m\n\u001b[0;32m--> 328\u001b[0;31m                     \u001b[0;32mfor\u001b[0m \u001b[0merror\u001b[0m \u001b[0;32min\u001b[0m \u001b[0merrors\u001b[0m\u001b[0;34m:\u001b[0m\u001b[0;34m\u001b[0m\u001b[0;34m\u001b[0m\u001b[0m\n\u001b[0m\u001b[1;32m    329\u001b[0m                         \u001b[0;31m# set details if not already set by the called fn\u001b[0m\u001b[0;34m\u001b[0m\u001b[0;34m\u001b[0m\u001b[0;34m\u001b[0m\u001b[0m\n\u001b[1;32m    330\u001b[0m                         error._set(\n",
      "\u001b[0;32m~/anaconda3/envs/pyhf/lib/python3.6/site-packages/jsonschema/_validators.py\u001b[0m in \u001b[0;36mref\u001b[0;34m(validator, ref, instance, schema)\u001b[0m\n\u001b[1;32m    261\u001b[0m \u001b[0;34m\u001b[0m\u001b[0m\n\u001b[1;32m    262\u001b[0m         \u001b[0;32mtry\u001b[0m\u001b[0;34m:\u001b[0m\u001b[0;34m\u001b[0m\u001b[0;34m\u001b[0m\u001b[0m\n\u001b[0;32m--> 263\u001b[0;31m             \u001b[0;32mfor\u001b[0m \u001b[0merror\u001b[0m \u001b[0;32min\u001b[0m \u001b[0mvalidator\u001b[0m\u001b[0;34m.\u001b[0m\u001b[0mdescend\u001b[0m\u001b[0;34m(\u001b[0m\u001b[0minstance\u001b[0m\u001b[0;34m,\u001b[0m \u001b[0mresolved\u001b[0m\u001b[0;34m)\u001b[0m\u001b[0;34m:\u001b[0m\u001b[0;34m\u001b[0m\u001b[0;34m\u001b[0m\u001b[0m\n\u001b[0m\u001b[1;32m    264\u001b[0m                 \u001b[0;32myield\u001b[0m \u001b[0merror\u001b[0m\u001b[0;34m\u001b[0m\u001b[0;34m\u001b[0m\u001b[0m\n\u001b[1;32m    265\u001b[0m         \u001b[0;32mfinally\u001b[0m\u001b[0;34m:\u001b[0m\u001b[0;34m\u001b[0m\u001b[0;34m\u001b[0m\u001b[0m\n",
      "\u001b[0;32m~/anaconda3/envs/pyhf/lib/python3.6/site-packages/jsonschema/validators.py\u001b[0m in \u001b[0;36mdescend\u001b[0;34m(self, instance, schema, path, schema_path)\u001b[0m\n\u001b[1;32m    342\u001b[0m \u001b[0;34m\u001b[0m\u001b[0m\n\u001b[1;32m    343\u001b[0m         \u001b[0;32mdef\u001b[0m \u001b[0mdescend\u001b[0m\u001b[0;34m(\u001b[0m\u001b[0mself\u001b[0m\u001b[0;34m,\u001b[0m \u001b[0minstance\u001b[0m\u001b[0;34m,\u001b[0m \u001b[0mschema\u001b[0m\u001b[0;34m,\u001b[0m \u001b[0mpath\u001b[0m\u001b[0;34m=\u001b[0m\u001b[0;32mNone\u001b[0m\u001b[0;34m,\u001b[0m \u001b[0mschema_path\u001b[0m\u001b[0;34m=\u001b[0m\u001b[0;32mNone\u001b[0m\u001b[0;34m)\u001b[0m\u001b[0;34m:\u001b[0m\u001b[0;34m\u001b[0m\u001b[0;34m\u001b[0m\u001b[0m\n\u001b[0;32m--> 344\u001b[0;31m             \u001b[0;32mfor\u001b[0m \u001b[0merror\u001b[0m \u001b[0;32min\u001b[0m \u001b[0mself\u001b[0m\u001b[0;34m.\u001b[0m\u001b[0miter_errors\u001b[0m\u001b[0;34m(\u001b[0m\u001b[0minstance\u001b[0m\u001b[0;34m,\u001b[0m \u001b[0mschema\u001b[0m\u001b[0;34m)\u001b[0m\u001b[0;34m:\u001b[0m\u001b[0;34m\u001b[0m\u001b[0;34m\u001b[0m\u001b[0m\n\u001b[0m\u001b[1;32m    345\u001b[0m                 \u001b[0;32mif\u001b[0m \u001b[0mpath\u001b[0m \u001b[0;32mis\u001b[0m \u001b[0;32mnot\u001b[0m \u001b[0;32mNone\u001b[0m\u001b[0;34m:\u001b[0m\u001b[0;34m\u001b[0m\u001b[0;34m\u001b[0m\u001b[0m\n\u001b[1;32m    346\u001b[0m                     \u001b[0merror\u001b[0m\u001b[0;34m.\u001b[0m\u001b[0mpath\u001b[0m\u001b[0;34m.\u001b[0m\u001b[0mappendleft\u001b[0m\u001b[0;34m(\u001b[0m\u001b[0mpath\u001b[0m\u001b[0;34m)\u001b[0m\u001b[0;34m\u001b[0m\u001b[0;34m\u001b[0m\u001b[0m\n",
      "\u001b[0;32m~/anaconda3/envs/pyhf/lib/python3.6/site-packages/jsonschema/validators.py\u001b[0m in \u001b[0;36miter_errors\u001b[0;34m(self, instance, _schema)\u001b[0m\n\u001b[1;32m    326\u001b[0m \u001b[0;34m\u001b[0m\u001b[0m\n\u001b[1;32m    327\u001b[0m                     \u001b[0merrors\u001b[0m \u001b[0;34m=\u001b[0m \u001b[0mvalidator\u001b[0m\u001b[0;34m(\u001b[0m\u001b[0mself\u001b[0m\u001b[0;34m,\u001b[0m \u001b[0mv\u001b[0m\u001b[0;34m,\u001b[0m \u001b[0minstance\u001b[0m\u001b[0;34m,\u001b[0m \u001b[0m_schema\u001b[0m\u001b[0;34m)\u001b[0m \u001b[0;32mor\u001b[0m \u001b[0;34m(\u001b[0m\u001b[0;34m)\u001b[0m\u001b[0;34m\u001b[0m\u001b[0;34m\u001b[0m\u001b[0m\n\u001b[0;32m--> 328\u001b[0;31m                     \u001b[0;32mfor\u001b[0m \u001b[0merror\u001b[0m \u001b[0;32min\u001b[0m \u001b[0merrors\u001b[0m\u001b[0;34m:\u001b[0m\u001b[0;34m\u001b[0m\u001b[0;34m\u001b[0m\u001b[0m\n\u001b[0m\u001b[1;32m    329\u001b[0m                         \u001b[0;31m# set details if not already set by the called fn\u001b[0m\u001b[0;34m\u001b[0m\u001b[0;34m\u001b[0m\u001b[0;34m\u001b[0m\u001b[0m\n\u001b[1;32m    330\u001b[0m                         error._set(\n",
      "\u001b[0;32m~/anaconda3/envs/pyhf/lib/python3.6/site-packages/jsonschema/_validators.py\u001b[0m in \u001b[0;36mproperties\u001b[0;34m(validator, properties, instance, schema)\u001b[0m\n\u001b[1;32m    284\u001b[0m                 \u001b[0msubschema\u001b[0m\u001b[0;34m,\u001b[0m\u001b[0;34m\u001b[0m\u001b[0;34m\u001b[0m\u001b[0m\n\u001b[1;32m    285\u001b[0m                 \u001b[0mpath\u001b[0m\u001b[0;34m=\u001b[0m\u001b[0mproperty\u001b[0m\u001b[0;34m,\u001b[0m\u001b[0;34m\u001b[0m\u001b[0;34m\u001b[0m\u001b[0m\n\u001b[0;32m--> 286\u001b[0;31m                 \u001b[0mschema_path\u001b[0m\u001b[0;34m=\u001b[0m\u001b[0mproperty\u001b[0m\u001b[0;34m,\u001b[0m\u001b[0;34m\u001b[0m\u001b[0;34m\u001b[0m\u001b[0m\n\u001b[0m\u001b[1;32m    287\u001b[0m             ):\n\u001b[1;32m    288\u001b[0m                 \u001b[0;32myield\u001b[0m \u001b[0merror\u001b[0m\u001b[0;34m\u001b[0m\u001b[0;34m\u001b[0m\u001b[0m\n",
      "\u001b[0;32m~/anaconda3/envs/pyhf/lib/python3.6/site-packages/jsonschema/validators.py\u001b[0m in \u001b[0;36mdescend\u001b[0;34m(self, instance, schema, path, schema_path)\u001b[0m\n\u001b[1;32m    342\u001b[0m \u001b[0;34m\u001b[0m\u001b[0m\n\u001b[1;32m    343\u001b[0m         \u001b[0;32mdef\u001b[0m \u001b[0mdescend\u001b[0m\u001b[0;34m(\u001b[0m\u001b[0mself\u001b[0m\u001b[0;34m,\u001b[0m \u001b[0minstance\u001b[0m\u001b[0;34m,\u001b[0m \u001b[0mschema\u001b[0m\u001b[0;34m,\u001b[0m \u001b[0mpath\u001b[0m\u001b[0;34m=\u001b[0m\u001b[0;32mNone\u001b[0m\u001b[0;34m,\u001b[0m \u001b[0mschema_path\u001b[0m\u001b[0;34m=\u001b[0m\u001b[0;32mNone\u001b[0m\u001b[0;34m)\u001b[0m\u001b[0;34m:\u001b[0m\u001b[0;34m\u001b[0m\u001b[0;34m\u001b[0m\u001b[0m\n\u001b[0;32m--> 344\u001b[0;31m             \u001b[0;32mfor\u001b[0m \u001b[0merror\u001b[0m \u001b[0;32min\u001b[0m \u001b[0mself\u001b[0m\u001b[0;34m.\u001b[0m\u001b[0miter_errors\u001b[0m\u001b[0;34m(\u001b[0m\u001b[0minstance\u001b[0m\u001b[0;34m,\u001b[0m \u001b[0mschema\u001b[0m\u001b[0;34m)\u001b[0m\u001b[0;34m:\u001b[0m\u001b[0;34m\u001b[0m\u001b[0;34m\u001b[0m\u001b[0m\n\u001b[0m\u001b[1;32m    345\u001b[0m                 \u001b[0;32mif\u001b[0m \u001b[0mpath\u001b[0m \u001b[0;32mis\u001b[0m \u001b[0;32mnot\u001b[0m \u001b[0;32mNone\u001b[0m\u001b[0;34m:\u001b[0m\u001b[0;34m\u001b[0m\u001b[0;34m\u001b[0m\u001b[0m\n\u001b[1;32m    346\u001b[0m                     \u001b[0merror\u001b[0m\u001b[0;34m.\u001b[0m\u001b[0mpath\u001b[0m\u001b[0;34m.\u001b[0m\u001b[0mappendleft\u001b[0m\u001b[0;34m(\u001b[0m\u001b[0mpath\u001b[0m\u001b[0;34m)\u001b[0m\u001b[0;34m\u001b[0m\u001b[0;34m\u001b[0m\u001b[0m\n",
      "\u001b[0;32m~/anaconda3/envs/pyhf/lib/python3.6/site-packages/jsonschema/validators.py\u001b[0m in \u001b[0;36miter_errors\u001b[0;34m(self, instance, _schema)\u001b[0m\n\u001b[1;32m    326\u001b[0m \u001b[0;34m\u001b[0m\u001b[0m\n\u001b[1;32m    327\u001b[0m                     \u001b[0merrors\u001b[0m \u001b[0;34m=\u001b[0m \u001b[0mvalidator\u001b[0m\u001b[0;34m(\u001b[0m\u001b[0mself\u001b[0m\u001b[0;34m,\u001b[0m \u001b[0mv\u001b[0m\u001b[0;34m,\u001b[0m \u001b[0minstance\u001b[0m\u001b[0;34m,\u001b[0m \u001b[0m_schema\u001b[0m\u001b[0;34m)\u001b[0m \u001b[0;32mor\u001b[0m \u001b[0;34m(\u001b[0m\u001b[0;34m)\u001b[0m\u001b[0;34m\u001b[0m\u001b[0;34m\u001b[0m\u001b[0m\n\u001b[0;32m--> 328\u001b[0;31m                     \u001b[0;32mfor\u001b[0m \u001b[0merror\u001b[0m \u001b[0;32min\u001b[0m \u001b[0merrors\u001b[0m\u001b[0;34m:\u001b[0m\u001b[0;34m\u001b[0m\u001b[0;34m\u001b[0m\u001b[0m\n\u001b[0m\u001b[1;32m    329\u001b[0m                         \u001b[0;31m# set details if not already set by the called fn\u001b[0m\u001b[0;34m\u001b[0m\u001b[0;34m\u001b[0m\u001b[0;34m\u001b[0m\u001b[0m\n\u001b[1;32m    330\u001b[0m                         error._set(\n",
      "\u001b[0;32m~/anaconda3/envs/pyhf/lib/python3.6/site-packages/jsonschema/_validators.py\u001b[0m in \u001b[0;36mitems\u001b[0;34m(validator, items, instance, schema)\u001b[0m\n\u001b[1;32m     79\u001b[0m     \u001b[0;32melse\u001b[0m\u001b[0;34m:\u001b[0m\u001b[0;34m\u001b[0m\u001b[0;34m\u001b[0m\u001b[0m\n\u001b[1;32m     80\u001b[0m         \u001b[0;32mfor\u001b[0m \u001b[0mindex\u001b[0m\u001b[0;34m,\u001b[0m \u001b[0mitem\u001b[0m \u001b[0;32min\u001b[0m \u001b[0menumerate\u001b[0m\u001b[0;34m(\u001b[0m\u001b[0minstance\u001b[0m\u001b[0;34m)\u001b[0m\u001b[0;34m:\u001b[0m\u001b[0;34m\u001b[0m\u001b[0;34m\u001b[0m\u001b[0m\n\u001b[0;32m---> 81\u001b[0;31m             \u001b[0;32mfor\u001b[0m \u001b[0merror\u001b[0m \u001b[0;32min\u001b[0m \u001b[0mvalidator\u001b[0m\u001b[0;34m.\u001b[0m\u001b[0mdescend\u001b[0m\u001b[0;34m(\u001b[0m\u001b[0mitem\u001b[0m\u001b[0;34m,\u001b[0m \u001b[0mitems\u001b[0m\u001b[0;34m,\u001b[0m \u001b[0mpath\u001b[0m\u001b[0;34m=\u001b[0m\u001b[0mindex\u001b[0m\u001b[0;34m)\u001b[0m\u001b[0;34m:\u001b[0m\u001b[0;34m\u001b[0m\u001b[0;34m\u001b[0m\u001b[0m\n\u001b[0m\u001b[1;32m     82\u001b[0m                 \u001b[0;32myield\u001b[0m \u001b[0merror\u001b[0m\u001b[0;34m\u001b[0m\u001b[0;34m\u001b[0m\u001b[0m\n\u001b[1;32m     83\u001b[0m \u001b[0;34m\u001b[0m\u001b[0m\n",
      "\u001b[0;32m~/anaconda3/envs/pyhf/lib/python3.6/site-packages/jsonschema/validators.py\u001b[0m in \u001b[0;36mdescend\u001b[0;34m(self, instance, schema, path, schema_path)\u001b[0m\n\u001b[1;32m    342\u001b[0m \u001b[0;34m\u001b[0m\u001b[0m\n\u001b[1;32m    343\u001b[0m         \u001b[0;32mdef\u001b[0m \u001b[0mdescend\u001b[0m\u001b[0;34m(\u001b[0m\u001b[0mself\u001b[0m\u001b[0;34m,\u001b[0m \u001b[0minstance\u001b[0m\u001b[0;34m,\u001b[0m \u001b[0mschema\u001b[0m\u001b[0;34m,\u001b[0m \u001b[0mpath\u001b[0m\u001b[0;34m=\u001b[0m\u001b[0;32mNone\u001b[0m\u001b[0;34m,\u001b[0m \u001b[0mschema_path\u001b[0m\u001b[0;34m=\u001b[0m\u001b[0;32mNone\u001b[0m\u001b[0;34m)\u001b[0m\u001b[0;34m:\u001b[0m\u001b[0;34m\u001b[0m\u001b[0;34m\u001b[0m\u001b[0m\n\u001b[0;32m--> 344\u001b[0;31m             \u001b[0;32mfor\u001b[0m \u001b[0merror\u001b[0m \u001b[0;32min\u001b[0m \u001b[0mself\u001b[0m\u001b[0;34m.\u001b[0m\u001b[0miter_errors\u001b[0m\u001b[0;34m(\u001b[0m\u001b[0minstance\u001b[0m\u001b[0;34m,\u001b[0m \u001b[0mschema\u001b[0m\u001b[0;34m)\u001b[0m\u001b[0;34m:\u001b[0m\u001b[0;34m\u001b[0m\u001b[0;34m\u001b[0m\u001b[0m\n\u001b[0m\u001b[1;32m    345\u001b[0m                 \u001b[0;32mif\u001b[0m \u001b[0mpath\u001b[0m \u001b[0;32mis\u001b[0m \u001b[0;32mnot\u001b[0m \u001b[0;32mNone\u001b[0m\u001b[0;34m:\u001b[0m\u001b[0;34m\u001b[0m\u001b[0;34m\u001b[0m\u001b[0m\n\u001b[1;32m    346\u001b[0m                     \u001b[0merror\u001b[0m\u001b[0;34m.\u001b[0m\u001b[0mpath\u001b[0m\u001b[0;34m.\u001b[0m\u001b[0mappendleft\u001b[0m\u001b[0;34m(\u001b[0m\u001b[0mpath\u001b[0m\u001b[0;34m)\u001b[0m\u001b[0;34m\u001b[0m\u001b[0;34m\u001b[0m\u001b[0m\n",
      "\u001b[0;32m~/anaconda3/envs/pyhf/lib/python3.6/site-packages/jsonschema/validators.py\u001b[0m in \u001b[0;36miter_errors\u001b[0;34m(self, instance, _schema)\u001b[0m\n\u001b[1;32m    326\u001b[0m \u001b[0;34m\u001b[0m\u001b[0m\n\u001b[1;32m    327\u001b[0m                     \u001b[0merrors\u001b[0m \u001b[0;34m=\u001b[0m \u001b[0mvalidator\u001b[0m\u001b[0;34m(\u001b[0m\u001b[0mself\u001b[0m\u001b[0;34m,\u001b[0m \u001b[0mv\u001b[0m\u001b[0;34m,\u001b[0m \u001b[0minstance\u001b[0m\u001b[0;34m,\u001b[0m \u001b[0m_schema\u001b[0m\u001b[0;34m)\u001b[0m \u001b[0;32mor\u001b[0m \u001b[0;34m(\u001b[0m\u001b[0;34m)\u001b[0m\u001b[0;34m\u001b[0m\u001b[0;34m\u001b[0m\u001b[0m\n\u001b[0;32m--> 328\u001b[0;31m                     \u001b[0;32mfor\u001b[0m \u001b[0merror\u001b[0m \u001b[0;32min\u001b[0m \u001b[0merrors\u001b[0m\u001b[0;34m:\u001b[0m\u001b[0;34m\u001b[0m\u001b[0;34m\u001b[0m\u001b[0m\n\u001b[0m\u001b[1;32m    329\u001b[0m                         \u001b[0;31m# set details if not already set by the called fn\u001b[0m\u001b[0;34m\u001b[0m\u001b[0;34m\u001b[0m\u001b[0;34m\u001b[0m\u001b[0m\n\u001b[1;32m    330\u001b[0m                         error._set(\n",
      "\u001b[0;32m~/anaconda3/envs/pyhf/lib/python3.6/site-packages/jsonschema/_validators.py\u001b[0m in \u001b[0;36mref\u001b[0;34m(validator, ref, instance, schema)\u001b[0m\n\u001b[1;32m    261\u001b[0m \u001b[0;34m\u001b[0m\u001b[0m\n\u001b[1;32m    262\u001b[0m         \u001b[0;32mtry\u001b[0m\u001b[0;34m:\u001b[0m\u001b[0;34m\u001b[0m\u001b[0;34m\u001b[0m\u001b[0m\n\u001b[0;32m--> 263\u001b[0;31m             \u001b[0;32mfor\u001b[0m \u001b[0merror\u001b[0m \u001b[0;32min\u001b[0m \u001b[0mvalidator\u001b[0m\u001b[0;34m.\u001b[0m\u001b[0mdescend\u001b[0m\u001b[0;34m(\u001b[0m\u001b[0minstance\u001b[0m\u001b[0;34m,\u001b[0m \u001b[0mresolved\u001b[0m\u001b[0;34m)\u001b[0m\u001b[0;34m:\u001b[0m\u001b[0;34m\u001b[0m\u001b[0;34m\u001b[0m\u001b[0m\n\u001b[0m\u001b[1;32m    264\u001b[0m                 \u001b[0;32myield\u001b[0m \u001b[0merror\u001b[0m\u001b[0;34m\u001b[0m\u001b[0;34m\u001b[0m\u001b[0m\n\u001b[1;32m    265\u001b[0m         \u001b[0;32mfinally\u001b[0m\u001b[0;34m:\u001b[0m\u001b[0;34m\u001b[0m\u001b[0;34m\u001b[0m\u001b[0m\n",
      "\u001b[0;32m~/anaconda3/envs/pyhf/lib/python3.6/site-packages/jsonschema/validators.py\u001b[0m in \u001b[0;36mdescend\u001b[0;34m(self, instance, schema, path, schema_path)\u001b[0m\n\u001b[1;32m    342\u001b[0m \u001b[0;34m\u001b[0m\u001b[0m\n\u001b[1;32m    343\u001b[0m         \u001b[0;32mdef\u001b[0m \u001b[0mdescend\u001b[0m\u001b[0;34m(\u001b[0m\u001b[0mself\u001b[0m\u001b[0;34m,\u001b[0m \u001b[0minstance\u001b[0m\u001b[0;34m,\u001b[0m \u001b[0mschema\u001b[0m\u001b[0;34m,\u001b[0m \u001b[0mpath\u001b[0m\u001b[0;34m=\u001b[0m\u001b[0;32mNone\u001b[0m\u001b[0;34m,\u001b[0m \u001b[0mschema_path\u001b[0m\u001b[0;34m=\u001b[0m\u001b[0;32mNone\u001b[0m\u001b[0;34m)\u001b[0m\u001b[0;34m:\u001b[0m\u001b[0;34m\u001b[0m\u001b[0;34m\u001b[0m\u001b[0m\n\u001b[0;32m--> 344\u001b[0;31m             \u001b[0;32mfor\u001b[0m \u001b[0merror\u001b[0m \u001b[0;32min\u001b[0m \u001b[0mself\u001b[0m\u001b[0;34m.\u001b[0m\u001b[0miter_errors\u001b[0m\u001b[0;34m(\u001b[0m\u001b[0minstance\u001b[0m\u001b[0;34m,\u001b[0m \u001b[0mschema\u001b[0m\u001b[0;34m)\u001b[0m\u001b[0;34m:\u001b[0m\u001b[0;34m\u001b[0m\u001b[0;34m\u001b[0m\u001b[0m\n\u001b[0m\u001b[1;32m    345\u001b[0m                 \u001b[0;32mif\u001b[0m \u001b[0mpath\u001b[0m \u001b[0;32mis\u001b[0m \u001b[0;32mnot\u001b[0m \u001b[0;32mNone\u001b[0m\u001b[0;34m:\u001b[0m\u001b[0;34m\u001b[0m\u001b[0;34m\u001b[0m\u001b[0m\n\u001b[1;32m    346\u001b[0m                     \u001b[0merror\u001b[0m\u001b[0;34m.\u001b[0m\u001b[0mpath\u001b[0m\u001b[0;34m.\u001b[0m\u001b[0mappendleft\u001b[0m\u001b[0;34m(\u001b[0m\u001b[0mpath\u001b[0m\u001b[0;34m)\u001b[0m\u001b[0;34m\u001b[0m\u001b[0;34m\u001b[0m\u001b[0m\n",
      "\u001b[0;32m~/anaconda3/envs/pyhf/lib/python3.6/site-packages/jsonschema/validators.py\u001b[0m in \u001b[0;36miter_errors\u001b[0;34m(self, instance, _schema)\u001b[0m\n\u001b[1;32m    326\u001b[0m \u001b[0;34m\u001b[0m\u001b[0m\n\u001b[1;32m    327\u001b[0m                     \u001b[0merrors\u001b[0m \u001b[0;34m=\u001b[0m \u001b[0mvalidator\u001b[0m\u001b[0;34m(\u001b[0m\u001b[0mself\u001b[0m\u001b[0;34m,\u001b[0m \u001b[0mv\u001b[0m\u001b[0;34m,\u001b[0m \u001b[0minstance\u001b[0m\u001b[0;34m,\u001b[0m \u001b[0m_schema\u001b[0m\u001b[0;34m)\u001b[0m \u001b[0;32mor\u001b[0m \u001b[0;34m(\u001b[0m\u001b[0;34m)\u001b[0m\u001b[0;34m\u001b[0m\u001b[0;34m\u001b[0m\u001b[0m\n\u001b[0;32m--> 328\u001b[0;31m                     \u001b[0;32mfor\u001b[0m \u001b[0merror\u001b[0m \u001b[0;32min\u001b[0m \u001b[0merrors\u001b[0m\u001b[0;34m:\u001b[0m\u001b[0;34m\u001b[0m\u001b[0;34m\u001b[0m\u001b[0m\n\u001b[0m\u001b[1;32m    329\u001b[0m                         \u001b[0;31m# set details if not already set by the called fn\u001b[0m\u001b[0;34m\u001b[0m\u001b[0;34m\u001b[0m\u001b[0;34m\u001b[0m\u001b[0m\n\u001b[1;32m    330\u001b[0m                         error._set(\n",
      "\u001b[0;32m~/anaconda3/envs/pyhf/lib/python3.6/site-packages/jsonschema/_validators.py\u001b[0m in \u001b[0;36mproperties\u001b[0;34m(validator, properties, instance, schema)\u001b[0m\n\u001b[1;32m    284\u001b[0m                 \u001b[0msubschema\u001b[0m\u001b[0;34m,\u001b[0m\u001b[0;34m\u001b[0m\u001b[0;34m\u001b[0m\u001b[0m\n\u001b[1;32m    285\u001b[0m                 \u001b[0mpath\u001b[0m\u001b[0;34m=\u001b[0m\u001b[0mproperty\u001b[0m\u001b[0;34m,\u001b[0m\u001b[0;34m\u001b[0m\u001b[0;34m\u001b[0m\u001b[0m\n\u001b[0;32m--> 286\u001b[0;31m                 \u001b[0mschema_path\u001b[0m\u001b[0;34m=\u001b[0m\u001b[0mproperty\u001b[0m\u001b[0;34m,\u001b[0m\u001b[0;34m\u001b[0m\u001b[0;34m\u001b[0m\u001b[0m\n\u001b[0m\u001b[1;32m    287\u001b[0m             ):\n\u001b[1;32m    288\u001b[0m                 \u001b[0;32myield\u001b[0m \u001b[0merror\u001b[0m\u001b[0;34m\u001b[0m\u001b[0;34m\u001b[0m\u001b[0m\n",
      "\u001b[0;32m~/anaconda3/envs/pyhf/lib/python3.6/site-packages/jsonschema/validators.py\u001b[0m in \u001b[0;36mdescend\u001b[0;34m(self, instance, schema, path, schema_path)\u001b[0m\n\u001b[1;32m    342\u001b[0m \u001b[0;34m\u001b[0m\u001b[0m\n\u001b[1;32m    343\u001b[0m         \u001b[0;32mdef\u001b[0m \u001b[0mdescend\u001b[0m\u001b[0;34m(\u001b[0m\u001b[0mself\u001b[0m\u001b[0;34m,\u001b[0m \u001b[0minstance\u001b[0m\u001b[0;34m,\u001b[0m \u001b[0mschema\u001b[0m\u001b[0;34m,\u001b[0m \u001b[0mpath\u001b[0m\u001b[0;34m=\u001b[0m\u001b[0;32mNone\u001b[0m\u001b[0;34m,\u001b[0m \u001b[0mschema_path\u001b[0m\u001b[0;34m=\u001b[0m\u001b[0;32mNone\u001b[0m\u001b[0;34m)\u001b[0m\u001b[0;34m:\u001b[0m\u001b[0;34m\u001b[0m\u001b[0;34m\u001b[0m\u001b[0m\n\u001b[0;32m--> 344\u001b[0;31m             \u001b[0;32mfor\u001b[0m \u001b[0merror\u001b[0m \u001b[0;32min\u001b[0m \u001b[0mself\u001b[0m\u001b[0;34m.\u001b[0m\u001b[0miter_errors\u001b[0m\u001b[0;34m(\u001b[0m\u001b[0minstance\u001b[0m\u001b[0;34m,\u001b[0m \u001b[0mschema\u001b[0m\u001b[0;34m)\u001b[0m\u001b[0;34m:\u001b[0m\u001b[0;34m\u001b[0m\u001b[0;34m\u001b[0m\u001b[0m\n\u001b[0m\u001b[1;32m    345\u001b[0m                 \u001b[0;32mif\u001b[0m \u001b[0mpath\u001b[0m \u001b[0;32mis\u001b[0m \u001b[0;32mnot\u001b[0m \u001b[0;32mNone\u001b[0m\u001b[0;34m:\u001b[0m\u001b[0;34m\u001b[0m\u001b[0;34m\u001b[0m\u001b[0m\n\u001b[1;32m    346\u001b[0m                     \u001b[0merror\u001b[0m\u001b[0;34m.\u001b[0m\u001b[0mpath\u001b[0m\u001b[0;34m.\u001b[0m\u001b[0mappendleft\u001b[0m\u001b[0;34m(\u001b[0m\u001b[0mpath\u001b[0m\u001b[0;34m)\u001b[0m\u001b[0;34m\u001b[0m\u001b[0;34m\u001b[0m\u001b[0m\n",
      "\u001b[0;32m~/anaconda3/envs/pyhf/lib/python3.6/site-packages/jsonschema/validators.py\u001b[0m in \u001b[0;36miter_errors\u001b[0;34m(self, instance, _schema)\u001b[0m\n\u001b[1;32m    326\u001b[0m \u001b[0;34m\u001b[0m\u001b[0m\n\u001b[1;32m    327\u001b[0m                     \u001b[0merrors\u001b[0m \u001b[0;34m=\u001b[0m \u001b[0mvalidator\u001b[0m\u001b[0;34m(\u001b[0m\u001b[0mself\u001b[0m\u001b[0;34m,\u001b[0m \u001b[0mv\u001b[0m\u001b[0;34m,\u001b[0m \u001b[0minstance\u001b[0m\u001b[0;34m,\u001b[0m \u001b[0m_schema\u001b[0m\u001b[0;34m)\u001b[0m \u001b[0;32mor\u001b[0m \u001b[0;34m(\u001b[0m\u001b[0;34m)\u001b[0m\u001b[0;34m\u001b[0m\u001b[0;34m\u001b[0m\u001b[0m\n\u001b[0;32m--> 328\u001b[0;31m                     \u001b[0;32mfor\u001b[0m \u001b[0merror\u001b[0m \u001b[0;32min\u001b[0m \u001b[0merrors\u001b[0m\u001b[0;34m:\u001b[0m\u001b[0;34m\u001b[0m\u001b[0;34m\u001b[0m\u001b[0m\n\u001b[0m\u001b[1;32m    329\u001b[0m                         \u001b[0;31m# set details if not already set by the called fn\u001b[0m\u001b[0;34m\u001b[0m\u001b[0;34m\u001b[0m\u001b[0;34m\u001b[0m\u001b[0m\n\u001b[1;32m    330\u001b[0m                         error._set(\n",
      "\u001b[0;32m~/anaconda3/envs/pyhf/lib/python3.6/site-packages/jsonschema/_validators.py\u001b[0m in \u001b[0;36mitems\u001b[0;34m(validator, items, instance, schema)\u001b[0m\n\u001b[1;32m     79\u001b[0m     \u001b[0;32melse\u001b[0m\u001b[0;34m:\u001b[0m\u001b[0;34m\u001b[0m\u001b[0;34m\u001b[0m\u001b[0m\n\u001b[1;32m     80\u001b[0m         \u001b[0;32mfor\u001b[0m \u001b[0mindex\u001b[0m\u001b[0;34m,\u001b[0m \u001b[0mitem\u001b[0m \u001b[0;32min\u001b[0m \u001b[0menumerate\u001b[0m\u001b[0;34m(\u001b[0m\u001b[0minstance\u001b[0m\u001b[0;34m)\u001b[0m\u001b[0;34m:\u001b[0m\u001b[0;34m\u001b[0m\u001b[0;34m\u001b[0m\u001b[0m\n\u001b[0;32m---> 81\u001b[0;31m             \u001b[0;32mfor\u001b[0m \u001b[0merror\u001b[0m \u001b[0;32min\u001b[0m \u001b[0mvalidator\u001b[0m\u001b[0;34m.\u001b[0m\u001b[0mdescend\u001b[0m\u001b[0;34m(\u001b[0m\u001b[0mitem\u001b[0m\u001b[0;34m,\u001b[0m \u001b[0mitems\u001b[0m\u001b[0;34m,\u001b[0m \u001b[0mpath\u001b[0m\u001b[0;34m=\u001b[0m\u001b[0mindex\u001b[0m\u001b[0;34m)\u001b[0m\u001b[0;34m:\u001b[0m\u001b[0;34m\u001b[0m\u001b[0;34m\u001b[0m\u001b[0m\n\u001b[0m\u001b[1;32m     82\u001b[0m                 \u001b[0;32myield\u001b[0m \u001b[0merror\u001b[0m\u001b[0;34m\u001b[0m\u001b[0;34m\u001b[0m\u001b[0m\n\u001b[1;32m     83\u001b[0m \u001b[0;34m\u001b[0m\u001b[0m\n",
      "\u001b[0;32m~/anaconda3/envs/pyhf/lib/python3.6/site-packages/jsonschema/validators.py\u001b[0m in \u001b[0;36mdescend\u001b[0;34m(self, instance, schema, path, schema_path)\u001b[0m\n\u001b[1;32m    342\u001b[0m \u001b[0;34m\u001b[0m\u001b[0m\n\u001b[1;32m    343\u001b[0m         \u001b[0;32mdef\u001b[0m \u001b[0mdescend\u001b[0m\u001b[0;34m(\u001b[0m\u001b[0mself\u001b[0m\u001b[0;34m,\u001b[0m \u001b[0minstance\u001b[0m\u001b[0;34m,\u001b[0m \u001b[0mschema\u001b[0m\u001b[0;34m,\u001b[0m \u001b[0mpath\u001b[0m\u001b[0;34m=\u001b[0m\u001b[0;32mNone\u001b[0m\u001b[0;34m,\u001b[0m \u001b[0mschema_path\u001b[0m\u001b[0;34m=\u001b[0m\u001b[0;32mNone\u001b[0m\u001b[0;34m)\u001b[0m\u001b[0;34m:\u001b[0m\u001b[0;34m\u001b[0m\u001b[0;34m\u001b[0m\u001b[0m\n\u001b[0;32m--> 344\u001b[0;31m             \u001b[0;32mfor\u001b[0m \u001b[0merror\u001b[0m \u001b[0;32min\u001b[0m \u001b[0mself\u001b[0m\u001b[0;34m.\u001b[0m\u001b[0miter_errors\u001b[0m\u001b[0;34m(\u001b[0m\u001b[0minstance\u001b[0m\u001b[0;34m,\u001b[0m \u001b[0mschema\u001b[0m\u001b[0;34m)\u001b[0m\u001b[0;34m:\u001b[0m\u001b[0;34m\u001b[0m\u001b[0;34m\u001b[0m\u001b[0m\n\u001b[0m\u001b[1;32m    345\u001b[0m                 \u001b[0;32mif\u001b[0m \u001b[0mpath\u001b[0m \u001b[0;32mis\u001b[0m \u001b[0;32mnot\u001b[0m \u001b[0;32mNone\u001b[0m\u001b[0;34m:\u001b[0m\u001b[0;34m\u001b[0m\u001b[0;34m\u001b[0m\u001b[0m\n\u001b[1;32m    346\u001b[0m                     \u001b[0merror\u001b[0m\u001b[0;34m.\u001b[0m\u001b[0mpath\u001b[0m\u001b[0;34m.\u001b[0m\u001b[0mappendleft\u001b[0m\u001b[0;34m(\u001b[0m\u001b[0mpath\u001b[0m\u001b[0;34m)\u001b[0m\u001b[0;34m\u001b[0m\u001b[0;34m\u001b[0m\u001b[0m\n",
      "\u001b[0;32m~/anaconda3/envs/pyhf/lib/python3.6/site-packages/jsonschema/validators.py\u001b[0m in \u001b[0;36miter_errors\u001b[0;34m(self, instance, _schema)\u001b[0m\n\u001b[1;32m    326\u001b[0m \u001b[0;34m\u001b[0m\u001b[0m\n\u001b[1;32m    327\u001b[0m                     \u001b[0merrors\u001b[0m \u001b[0;34m=\u001b[0m \u001b[0mvalidator\u001b[0m\u001b[0;34m(\u001b[0m\u001b[0mself\u001b[0m\u001b[0;34m,\u001b[0m \u001b[0mv\u001b[0m\u001b[0;34m,\u001b[0m \u001b[0minstance\u001b[0m\u001b[0;34m,\u001b[0m \u001b[0m_schema\u001b[0m\u001b[0;34m)\u001b[0m \u001b[0;32mor\u001b[0m \u001b[0;34m(\u001b[0m\u001b[0;34m)\u001b[0m\u001b[0;34m\u001b[0m\u001b[0;34m\u001b[0m\u001b[0m\n\u001b[0;32m--> 328\u001b[0;31m                     \u001b[0;32mfor\u001b[0m \u001b[0merror\u001b[0m \u001b[0;32min\u001b[0m \u001b[0merrors\u001b[0m\u001b[0;34m:\u001b[0m\u001b[0;34m\u001b[0m\u001b[0;34m\u001b[0m\u001b[0m\n\u001b[0m\u001b[1;32m    329\u001b[0m                         \u001b[0;31m# set details if not already set by the called fn\u001b[0m\u001b[0;34m\u001b[0m\u001b[0;34m\u001b[0m\u001b[0;34m\u001b[0m\u001b[0m\n\u001b[1;32m    330\u001b[0m                         error._set(\n",
      "\u001b[0;32m~/anaconda3/envs/pyhf/lib/python3.6/site-packages/jsonschema/_validators.py\u001b[0m in \u001b[0;36mref\u001b[0;34m(validator, ref, instance, schema)\u001b[0m\n\u001b[1;32m    261\u001b[0m \u001b[0;34m\u001b[0m\u001b[0m\n\u001b[1;32m    262\u001b[0m         \u001b[0;32mtry\u001b[0m\u001b[0;34m:\u001b[0m\u001b[0;34m\u001b[0m\u001b[0;34m\u001b[0m\u001b[0m\n\u001b[0;32m--> 263\u001b[0;31m             \u001b[0;32mfor\u001b[0m \u001b[0merror\u001b[0m \u001b[0;32min\u001b[0m \u001b[0mvalidator\u001b[0m\u001b[0;34m.\u001b[0m\u001b[0mdescend\u001b[0m\u001b[0;34m(\u001b[0m\u001b[0minstance\u001b[0m\u001b[0;34m,\u001b[0m \u001b[0mresolved\u001b[0m\u001b[0;34m)\u001b[0m\u001b[0;34m:\u001b[0m\u001b[0;34m\u001b[0m\u001b[0;34m\u001b[0m\u001b[0m\n\u001b[0m\u001b[1;32m    264\u001b[0m                 \u001b[0;32myield\u001b[0m \u001b[0merror\u001b[0m\u001b[0;34m\u001b[0m\u001b[0;34m\u001b[0m\u001b[0m\n\u001b[1;32m    265\u001b[0m         \u001b[0;32mfinally\u001b[0m\u001b[0;34m:\u001b[0m\u001b[0;34m\u001b[0m\u001b[0;34m\u001b[0m\u001b[0m\n",
      "\u001b[0;32m~/anaconda3/envs/pyhf/lib/python3.6/site-packages/jsonschema/validators.py\u001b[0m in \u001b[0;36mdescend\u001b[0;34m(self, instance, schema, path, schema_path)\u001b[0m\n\u001b[1;32m    342\u001b[0m \u001b[0;34m\u001b[0m\u001b[0m\n\u001b[1;32m    343\u001b[0m         \u001b[0;32mdef\u001b[0m \u001b[0mdescend\u001b[0m\u001b[0;34m(\u001b[0m\u001b[0mself\u001b[0m\u001b[0;34m,\u001b[0m \u001b[0minstance\u001b[0m\u001b[0;34m,\u001b[0m \u001b[0mschema\u001b[0m\u001b[0;34m,\u001b[0m \u001b[0mpath\u001b[0m\u001b[0;34m=\u001b[0m\u001b[0;32mNone\u001b[0m\u001b[0;34m,\u001b[0m \u001b[0mschema_path\u001b[0m\u001b[0;34m=\u001b[0m\u001b[0;32mNone\u001b[0m\u001b[0;34m)\u001b[0m\u001b[0;34m:\u001b[0m\u001b[0;34m\u001b[0m\u001b[0;34m\u001b[0m\u001b[0m\n\u001b[0;32m--> 344\u001b[0;31m             \u001b[0;32mfor\u001b[0m \u001b[0merror\u001b[0m \u001b[0;32min\u001b[0m \u001b[0mself\u001b[0m\u001b[0;34m.\u001b[0m\u001b[0miter_errors\u001b[0m\u001b[0;34m(\u001b[0m\u001b[0minstance\u001b[0m\u001b[0;34m,\u001b[0m \u001b[0mschema\u001b[0m\u001b[0;34m)\u001b[0m\u001b[0;34m:\u001b[0m\u001b[0;34m\u001b[0m\u001b[0;34m\u001b[0m\u001b[0m\n\u001b[0m\u001b[1;32m    345\u001b[0m                 \u001b[0;32mif\u001b[0m \u001b[0mpath\u001b[0m \u001b[0;32mis\u001b[0m \u001b[0;32mnot\u001b[0m \u001b[0;32mNone\u001b[0m\u001b[0;34m:\u001b[0m\u001b[0;34m\u001b[0m\u001b[0;34m\u001b[0m\u001b[0m\n\u001b[1;32m    346\u001b[0m                     \u001b[0merror\u001b[0m\u001b[0;34m.\u001b[0m\u001b[0mpath\u001b[0m\u001b[0;34m.\u001b[0m\u001b[0mappendleft\u001b[0m\u001b[0;34m(\u001b[0m\u001b[0mpath\u001b[0m\u001b[0;34m)\u001b[0m\u001b[0;34m\u001b[0m\u001b[0;34m\u001b[0m\u001b[0m\n",
      "\u001b[0;32m~/anaconda3/envs/pyhf/lib/python3.6/site-packages/jsonschema/validators.py\u001b[0m in \u001b[0;36miter_errors\u001b[0;34m(self, instance, _schema)\u001b[0m\n\u001b[1;32m    326\u001b[0m \u001b[0;34m\u001b[0m\u001b[0m\n\u001b[1;32m    327\u001b[0m                     \u001b[0merrors\u001b[0m \u001b[0;34m=\u001b[0m \u001b[0mvalidator\u001b[0m\u001b[0;34m(\u001b[0m\u001b[0mself\u001b[0m\u001b[0;34m,\u001b[0m \u001b[0mv\u001b[0m\u001b[0;34m,\u001b[0m \u001b[0minstance\u001b[0m\u001b[0;34m,\u001b[0m \u001b[0m_schema\u001b[0m\u001b[0;34m)\u001b[0m \u001b[0;32mor\u001b[0m \u001b[0;34m(\u001b[0m\u001b[0;34m)\u001b[0m\u001b[0;34m\u001b[0m\u001b[0;34m\u001b[0m\u001b[0m\n\u001b[0;32m--> 328\u001b[0;31m                     \u001b[0;32mfor\u001b[0m \u001b[0merror\u001b[0m \u001b[0;32min\u001b[0m \u001b[0merrors\u001b[0m\u001b[0;34m:\u001b[0m\u001b[0;34m\u001b[0m\u001b[0;34m\u001b[0m\u001b[0m\n\u001b[0m\u001b[1;32m    329\u001b[0m                         \u001b[0;31m# set details if not already set by the called fn\u001b[0m\u001b[0;34m\u001b[0m\u001b[0;34m\u001b[0m\u001b[0;34m\u001b[0m\u001b[0m\n\u001b[1;32m    330\u001b[0m                         error._set(\n",
      "\u001b[0;32m~/anaconda3/envs/pyhf/lib/python3.6/site-packages/jsonschema/_validators.py\u001b[0m in \u001b[0;36mproperties\u001b[0;34m(validator, properties, instance, schema)\u001b[0m\n\u001b[1;32m    284\u001b[0m                 \u001b[0msubschema\u001b[0m\u001b[0;34m,\u001b[0m\u001b[0;34m\u001b[0m\u001b[0;34m\u001b[0m\u001b[0m\n\u001b[1;32m    285\u001b[0m                 \u001b[0mpath\u001b[0m\u001b[0;34m=\u001b[0m\u001b[0mproperty\u001b[0m\u001b[0;34m,\u001b[0m\u001b[0;34m\u001b[0m\u001b[0;34m\u001b[0m\u001b[0m\n\u001b[0;32m--> 286\u001b[0;31m                 \u001b[0mschema_path\u001b[0m\u001b[0;34m=\u001b[0m\u001b[0mproperty\u001b[0m\u001b[0;34m,\u001b[0m\u001b[0;34m\u001b[0m\u001b[0;34m\u001b[0m\u001b[0m\n\u001b[0m\u001b[1;32m    287\u001b[0m             ):\n\u001b[1;32m    288\u001b[0m                 \u001b[0;32myield\u001b[0m \u001b[0merror\u001b[0m\u001b[0;34m\u001b[0m\u001b[0;34m\u001b[0m\u001b[0m\n",
      "\u001b[0;32m~/anaconda3/envs/pyhf/lib/python3.6/site-packages/jsonschema/validators.py\u001b[0m in \u001b[0;36mdescend\u001b[0;34m(self, instance, schema, path, schema_path)\u001b[0m\n\u001b[1;32m    342\u001b[0m \u001b[0;34m\u001b[0m\u001b[0m\n\u001b[1;32m    343\u001b[0m         \u001b[0;32mdef\u001b[0m \u001b[0mdescend\u001b[0m\u001b[0;34m(\u001b[0m\u001b[0mself\u001b[0m\u001b[0;34m,\u001b[0m \u001b[0minstance\u001b[0m\u001b[0;34m,\u001b[0m \u001b[0mschema\u001b[0m\u001b[0;34m,\u001b[0m \u001b[0mpath\u001b[0m\u001b[0;34m=\u001b[0m\u001b[0;32mNone\u001b[0m\u001b[0;34m,\u001b[0m \u001b[0mschema_path\u001b[0m\u001b[0;34m=\u001b[0m\u001b[0;32mNone\u001b[0m\u001b[0;34m)\u001b[0m\u001b[0;34m:\u001b[0m\u001b[0;34m\u001b[0m\u001b[0;34m\u001b[0m\u001b[0m\n\u001b[0;32m--> 344\u001b[0;31m             \u001b[0;32mfor\u001b[0m \u001b[0merror\u001b[0m \u001b[0;32min\u001b[0m \u001b[0mself\u001b[0m\u001b[0;34m.\u001b[0m\u001b[0miter_errors\u001b[0m\u001b[0;34m(\u001b[0m\u001b[0minstance\u001b[0m\u001b[0;34m,\u001b[0m \u001b[0mschema\u001b[0m\u001b[0;34m)\u001b[0m\u001b[0;34m:\u001b[0m\u001b[0;34m\u001b[0m\u001b[0;34m\u001b[0m\u001b[0m\n\u001b[0m\u001b[1;32m    345\u001b[0m                 \u001b[0;32mif\u001b[0m \u001b[0mpath\u001b[0m \u001b[0;32mis\u001b[0m \u001b[0;32mnot\u001b[0m \u001b[0;32mNone\u001b[0m\u001b[0;34m:\u001b[0m\u001b[0;34m\u001b[0m\u001b[0;34m\u001b[0m\u001b[0m\n\u001b[1;32m    346\u001b[0m                     \u001b[0merror\u001b[0m\u001b[0;34m.\u001b[0m\u001b[0mpath\u001b[0m\u001b[0;34m.\u001b[0m\u001b[0mappendleft\u001b[0m\u001b[0;34m(\u001b[0m\u001b[0mpath\u001b[0m\u001b[0;34m)\u001b[0m\u001b[0;34m\u001b[0m\u001b[0;34m\u001b[0m\u001b[0m\n",
      "\u001b[0;32m~/anaconda3/envs/pyhf/lib/python3.6/site-packages/jsonschema/validators.py\u001b[0m in \u001b[0;36miter_errors\u001b[0;34m(self, instance, _schema)\u001b[0m\n\u001b[1;32m    326\u001b[0m \u001b[0;34m\u001b[0m\u001b[0m\n\u001b[1;32m    327\u001b[0m                     \u001b[0merrors\u001b[0m \u001b[0;34m=\u001b[0m \u001b[0mvalidator\u001b[0m\u001b[0;34m(\u001b[0m\u001b[0mself\u001b[0m\u001b[0;34m,\u001b[0m \u001b[0mv\u001b[0m\u001b[0;34m,\u001b[0m \u001b[0minstance\u001b[0m\u001b[0;34m,\u001b[0m \u001b[0m_schema\u001b[0m\u001b[0;34m)\u001b[0m \u001b[0;32mor\u001b[0m \u001b[0;34m(\u001b[0m\u001b[0;34m)\u001b[0m\u001b[0;34m\u001b[0m\u001b[0;34m\u001b[0m\u001b[0m\n\u001b[0;32m--> 328\u001b[0;31m                     \u001b[0;32mfor\u001b[0m \u001b[0merror\u001b[0m \u001b[0;32min\u001b[0m \u001b[0merrors\u001b[0m\u001b[0;34m:\u001b[0m\u001b[0;34m\u001b[0m\u001b[0;34m\u001b[0m\u001b[0m\n\u001b[0m\u001b[1;32m    329\u001b[0m                         \u001b[0;31m# set details if not already set by the called fn\u001b[0m\u001b[0;34m\u001b[0m\u001b[0;34m\u001b[0m\u001b[0;34m\u001b[0m\u001b[0m\n\u001b[1;32m    330\u001b[0m                         error._set(\n",
      "\u001b[0;32m~/anaconda3/envs/pyhf/lib/python3.6/site-packages/jsonschema/_validators.py\u001b[0m in \u001b[0;36mitems\u001b[0;34m(validator, items, instance, schema)\u001b[0m\n\u001b[1;32m     79\u001b[0m     \u001b[0;32melse\u001b[0m\u001b[0;34m:\u001b[0m\u001b[0;34m\u001b[0m\u001b[0;34m\u001b[0m\u001b[0m\n\u001b[1;32m     80\u001b[0m         \u001b[0;32mfor\u001b[0m \u001b[0mindex\u001b[0m\u001b[0;34m,\u001b[0m \u001b[0mitem\u001b[0m \u001b[0;32min\u001b[0m \u001b[0menumerate\u001b[0m\u001b[0;34m(\u001b[0m\u001b[0minstance\u001b[0m\u001b[0;34m)\u001b[0m\u001b[0;34m:\u001b[0m\u001b[0;34m\u001b[0m\u001b[0;34m\u001b[0m\u001b[0m\n\u001b[0;32m---> 81\u001b[0;31m             \u001b[0;32mfor\u001b[0m \u001b[0merror\u001b[0m \u001b[0;32min\u001b[0m \u001b[0mvalidator\u001b[0m\u001b[0;34m.\u001b[0m\u001b[0mdescend\u001b[0m\u001b[0;34m(\u001b[0m\u001b[0mitem\u001b[0m\u001b[0;34m,\u001b[0m \u001b[0mitems\u001b[0m\u001b[0;34m,\u001b[0m \u001b[0mpath\u001b[0m\u001b[0;34m=\u001b[0m\u001b[0mindex\u001b[0m\u001b[0;34m)\u001b[0m\u001b[0;34m:\u001b[0m\u001b[0;34m\u001b[0m\u001b[0;34m\u001b[0m\u001b[0m\n\u001b[0m\u001b[1;32m     82\u001b[0m                 \u001b[0;32myield\u001b[0m \u001b[0merror\u001b[0m\u001b[0;34m\u001b[0m\u001b[0;34m\u001b[0m\u001b[0m\n\u001b[1;32m     83\u001b[0m \u001b[0;34m\u001b[0m\u001b[0m\n",
      "\u001b[0;32m~/anaconda3/envs/pyhf/lib/python3.6/site-packages/jsonschema/validators.py\u001b[0m in \u001b[0;36mdescend\u001b[0;34m(self, instance, schema, path, schema_path)\u001b[0m\n\u001b[1;32m    342\u001b[0m \u001b[0;34m\u001b[0m\u001b[0m\n\u001b[1;32m    343\u001b[0m         \u001b[0;32mdef\u001b[0m \u001b[0mdescend\u001b[0m\u001b[0;34m(\u001b[0m\u001b[0mself\u001b[0m\u001b[0;34m,\u001b[0m \u001b[0minstance\u001b[0m\u001b[0;34m,\u001b[0m \u001b[0mschema\u001b[0m\u001b[0;34m,\u001b[0m \u001b[0mpath\u001b[0m\u001b[0;34m=\u001b[0m\u001b[0;32mNone\u001b[0m\u001b[0;34m,\u001b[0m \u001b[0mschema_path\u001b[0m\u001b[0;34m=\u001b[0m\u001b[0;32mNone\u001b[0m\u001b[0;34m)\u001b[0m\u001b[0;34m:\u001b[0m\u001b[0;34m\u001b[0m\u001b[0;34m\u001b[0m\u001b[0m\n\u001b[0;32m--> 344\u001b[0;31m             \u001b[0;32mfor\u001b[0m \u001b[0merror\u001b[0m \u001b[0;32min\u001b[0m \u001b[0mself\u001b[0m\u001b[0;34m.\u001b[0m\u001b[0miter_errors\u001b[0m\u001b[0;34m(\u001b[0m\u001b[0minstance\u001b[0m\u001b[0;34m,\u001b[0m \u001b[0mschema\u001b[0m\u001b[0;34m)\u001b[0m\u001b[0;34m:\u001b[0m\u001b[0;34m\u001b[0m\u001b[0;34m\u001b[0m\u001b[0m\n\u001b[0m\u001b[1;32m    345\u001b[0m                 \u001b[0;32mif\u001b[0m \u001b[0mpath\u001b[0m \u001b[0;32mis\u001b[0m \u001b[0;32mnot\u001b[0m \u001b[0;32mNone\u001b[0m\u001b[0;34m:\u001b[0m\u001b[0;34m\u001b[0m\u001b[0;34m\u001b[0m\u001b[0m\n\u001b[1;32m    346\u001b[0m                     \u001b[0merror\u001b[0m\u001b[0;34m.\u001b[0m\u001b[0mpath\u001b[0m\u001b[0;34m.\u001b[0m\u001b[0mappendleft\u001b[0m\u001b[0;34m(\u001b[0m\u001b[0mpath\u001b[0m\u001b[0;34m)\u001b[0m\u001b[0;34m\u001b[0m\u001b[0;34m\u001b[0m\u001b[0m\n",
      "\u001b[0;32m~/anaconda3/envs/pyhf/lib/python3.6/site-packages/jsonschema/validators.py\u001b[0m in \u001b[0;36miter_errors\u001b[0;34m(self, instance, _schema)\u001b[0m\n\u001b[1;32m    326\u001b[0m \u001b[0;34m\u001b[0m\u001b[0m\n\u001b[1;32m    327\u001b[0m                     \u001b[0merrors\u001b[0m \u001b[0;34m=\u001b[0m \u001b[0mvalidator\u001b[0m\u001b[0;34m(\u001b[0m\u001b[0mself\u001b[0m\u001b[0;34m,\u001b[0m \u001b[0mv\u001b[0m\u001b[0;34m,\u001b[0m \u001b[0minstance\u001b[0m\u001b[0;34m,\u001b[0m \u001b[0m_schema\u001b[0m\u001b[0;34m)\u001b[0m \u001b[0;32mor\u001b[0m \u001b[0;34m(\u001b[0m\u001b[0;34m)\u001b[0m\u001b[0;34m\u001b[0m\u001b[0;34m\u001b[0m\u001b[0m\n\u001b[0;32m--> 328\u001b[0;31m                     \u001b[0;32mfor\u001b[0m \u001b[0merror\u001b[0m \u001b[0;32min\u001b[0m \u001b[0merrors\u001b[0m\u001b[0;34m:\u001b[0m\u001b[0;34m\u001b[0m\u001b[0;34m\u001b[0m\u001b[0m\n\u001b[0m\u001b[1;32m    329\u001b[0m                         \u001b[0;31m# set details if not already set by the called fn\u001b[0m\u001b[0;34m\u001b[0m\u001b[0;34m\u001b[0m\u001b[0;34m\u001b[0m\u001b[0m\n\u001b[1;32m    330\u001b[0m                         error._set(\n",
      "\u001b[0;32m~/anaconda3/envs/pyhf/lib/python3.6/site-packages/jsonschema/_validators.py\u001b[0m in \u001b[0;36manyOf\u001b[0;34m(validator, anyOf, instance, schema)\u001b[0m\n\u001b[1;32m    320\u001b[0m     \u001b[0mall_errors\u001b[0m \u001b[0;34m=\u001b[0m \u001b[0;34m[\u001b[0m\u001b[0;34m]\u001b[0m\u001b[0;34m\u001b[0m\u001b[0;34m\u001b[0m\u001b[0m\n\u001b[1;32m    321\u001b[0m     \u001b[0;32mfor\u001b[0m \u001b[0mindex\u001b[0m\u001b[0;34m,\u001b[0m \u001b[0msubschema\u001b[0m \u001b[0;32min\u001b[0m \u001b[0menumerate\u001b[0m\u001b[0;34m(\u001b[0m\u001b[0manyOf\u001b[0m\u001b[0;34m)\u001b[0m\u001b[0;34m:\u001b[0m\u001b[0;34m\u001b[0m\u001b[0;34m\u001b[0m\u001b[0m\n\u001b[0;32m--> 322\u001b[0;31m         \u001b[0merrs\u001b[0m \u001b[0;34m=\u001b[0m \u001b[0mlist\u001b[0m\u001b[0;34m(\u001b[0m\u001b[0mvalidator\u001b[0m\u001b[0;34m.\u001b[0m\u001b[0mdescend\u001b[0m\u001b[0;34m(\u001b[0m\u001b[0minstance\u001b[0m\u001b[0;34m,\u001b[0m \u001b[0msubschema\u001b[0m\u001b[0;34m,\u001b[0m \u001b[0mschema_path\u001b[0m\u001b[0;34m=\u001b[0m\u001b[0mindex\u001b[0m\u001b[0;34m)\u001b[0m\u001b[0;34m)\u001b[0m\u001b[0;34m\u001b[0m\u001b[0;34m\u001b[0m\u001b[0m\n\u001b[0m\u001b[1;32m    323\u001b[0m         \u001b[0;32mif\u001b[0m \u001b[0;32mnot\u001b[0m \u001b[0merrs\u001b[0m\u001b[0;34m:\u001b[0m\u001b[0;34m\u001b[0m\u001b[0;34m\u001b[0m\u001b[0m\n\u001b[1;32m    324\u001b[0m             \u001b[0;32mbreak\u001b[0m\u001b[0;34m\u001b[0m\u001b[0;34m\u001b[0m\u001b[0m\n",
      "\u001b[0;32m~/anaconda3/envs/pyhf/lib/python3.6/site-packages/jsonschema/validators.py\u001b[0m in \u001b[0;36mdescend\u001b[0;34m(self, instance, schema, path, schema_path)\u001b[0m\n\u001b[1;32m    342\u001b[0m \u001b[0;34m\u001b[0m\u001b[0m\n\u001b[1;32m    343\u001b[0m         \u001b[0;32mdef\u001b[0m \u001b[0mdescend\u001b[0m\u001b[0;34m(\u001b[0m\u001b[0mself\u001b[0m\u001b[0;34m,\u001b[0m \u001b[0minstance\u001b[0m\u001b[0;34m,\u001b[0m \u001b[0mschema\u001b[0m\u001b[0;34m,\u001b[0m \u001b[0mpath\u001b[0m\u001b[0;34m=\u001b[0m\u001b[0;32mNone\u001b[0m\u001b[0;34m,\u001b[0m \u001b[0mschema_path\u001b[0m\u001b[0;34m=\u001b[0m\u001b[0;32mNone\u001b[0m\u001b[0;34m)\u001b[0m\u001b[0;34m:\u001b[0m\u001b[0;34m\u001b[0m\u001b[0;34m\u001b[0m\u001b[0m\n\u001b[0;32m--> 344\u001b[0;31m             \u001b[0;32mfor\u001b[0m \u001b[0merror\u001b[0m \u001b[0;32min\u001b[0m \u001b[0mself\u001b[0m\u001b[0;34m.\u001b[0m\u001b[0miter_errors\u001b[0m\u001b[0;34m(\u001b[0m\u001b[0minstance\u001b[0m\u001b[0;34m,\u001b[0m \u001b[0mschema\u001b[0m\u001b[0;34m)\u001b[0m\u001b[0;34m:\u001b[0m\u001b[0;34m\u001b[0m\u001b[0;34m\u001b[0m\u001b[0m\n\u001b[0m\u001b[1;32m    345\u001b[0m                 \u001b[0;32mif\u001b[0m \u001b[0mpath\u001b[0m \u001b[0;32mis\u001b[0m \u001b[0;32mnot\u001b[0m \u001b[0;32mNone\u001b[0m\u001b[0;34m:\u001b[0m\u001b[0;34m\u001b[0m\u001b[0;34m\u001b[0m\u001b[0m\n\u001b[1;32m    346\u001b[0m                     \u001b[0merror\u001b[0m\u001b[0;34m.\u001b[0m\u001b[0mpath\u001b[0m\u001b[0;34m.\u001b[0m\u001b[0mappendleft\u001b[0m\u001b[0;34m(\u001b[0m\u001b[0mpath\u001b[0m\u001b[0;34m)\u001b[0m\u001b[0;34m\u001b[0m\u001b[0;34m\u001b[0m\u001b[0m\n",
      "\u001b[0;32m~/anaconda3/envs/pyhf/lib/python3.6/site-packages/jsonschema/validators.py\u001b[0m in \u001b[0;36miter_errors\u001b[0;34m(self, instance, _schema)\u001b[0m\n\u001b[1;32m    326\u001b[0m \u001b[0;34m\u001b[0m\u001b[0m\n\u001b[1;32m    327\u001b[0m                     \u001b[0merrors\u001b[0m \u001b[0;34m=\u001b[0m \u001b[0mvalidator\u001b[0m\u001b[0;34m(\u001b[0m\u001b[0mself\u001b[0m\u001b[0;34m,\u001b[0m \u001b[0mv\u001b[0m\u001b[0;34m,\u001b[0m \u001b[0minstance\u001b[0m\u001b[0;34m,\u001b[0m \u001b[0m_schema\u001b[0m\u001b[0;34m)\u001b[0m \u001b[0;32mor\u001b[0m \u001b[0;34m(\u001b[0m\u001b[0;34m)\u001b[0m\u001b[0;34m\u001b[0m\u001b[0;34m\u001b[0m\u001b[0m\n\u001b[0;32m--> 328\u001b[0;31m                     \u001b[0;32mfor\u001b[0m \u001b[0merror\u001b[0m \u001b[0;32min\u001b[0m \u001b[0merrors\u001b[0m\u001b[0;34m:\u001b[0m\u001b[0;34m\u001b[0m\u001b[0;34m\u001b[0m\u001b[0m\n\u001b[0m\u001b[1;32m    329\u001b[0m                         \u001b[0;31m# set details if not already set by the called fn\u001b[0m\u001b[0;34m\u001b[0m\u001b[0;34m\u001b[0m\u001b[0;34m\u001b[0m\u001b[0m\n\u001b[1;32m    330\u001b[0m                         error._set(\n",
      "\u001b[0;32m~/anaconda3/envs/pyhf/lib/python3.6/site-packages/jsonschema/_validators.py\u001b[0m in \u001b[0;36mref\u001b[0;34m(validator, ref, instance, schema)\u001b[0m\n\u001b[1;32m    261\u001b[0m \u001b[0;34m\u001b[0m\u001b[0m\n\u001b[1;32m    262\u001b[0m         \u001b[0;32mtry\u001b[0m\u001b[0;34m:\u001b[0m\u001b[0;34m\u001b[0m\u001b[0;34m\u001b[0m\u001b[0m\n\u001b[0;32m--> 263\u001b[0;31m             \u001b[0;32mfor\u001b[0m \u001b[0merror\u001b[0m \u001b[0;32min\u001b[0m \u001b[0mvalidator\u001b[0m\u001b[0;34m.\u001b[0m\u001b[0mdescend\u001b[0m\u001b[0;34m(\u001b[0m\u001b[0minstance\u001b[0m\u001b[0;34m,\u001b[0m \u001b[0mresolved\u001b[0m\u001b[0;34m)\u001b[0m\u001b[0;34m:\u001b[0m\u001b[0;34m\u001b[0m\u001b[0;34m\u001b[0m\u001b[0m\n\u001b[0m\u001b[1;32m    264\u001b[0m                 \u001b[0;32myield\u001b[0m \u001b[0merror\u001b[0m\u001b[0;34m\u001b[0m\u001b[0;34m\u001b[0m\u001b[0m\n\u001b[1;32m    265\u001b[0m         \u001b[0;32mfinally\u001b[0m\u001b[0;34m:\u001b[0m\u001b[0;34m\u001b[0m\u001b[0;34m\u001b[0m\u001b[0m\n",
      "\u001b[0;32m~/anaconda3/envs/pyhf/lib/python3.6/site-packages/jsonschema/validators.py\u001b[0m in \u001b[0;36mdescend\u001b[0;34m(self, instance, schema, path, schema_path)\u001b[0m\n\u001b[1;32m    342\u001b[0m \u001b[0;34m\u001b[0m\u001b[0m\n\u001b[1;32m    343\u001b[0m         \u001b[0;32mdef\u001b[0m \u001b[0mdescend\u001b[0m\u001b[0;34m(\u001b[0m\u001b[0mself\u001b[0m\u001b[0;34m,\u001b[0m \u001b[0minstance\u001b[0m\u001b[0;34m,\u001b[0m \u001b[0mschema\u001b[0m\u001b[0;34m,\u001b[0m \u001b[0mpath\u001b[0m\u001b[0;34m=\u001b[0m\u001b[0;32mNone\u001b[0m\u001b[0;34m,\u001b[0m \u001b[0mschema_path\u001b[0m\u001b[0;34m=\u001b[0m\u001b[0;32mNone\u001b[0m\u001b[0;34m)\u001b[0m\u001b[0;34m:\u001b[0m\u001b[0;34m\u001b[0m\u001b[0;34m\u001b[0m\u001b[0m\n\u001b[0;32m--> 344\u001b[0;31m             \u001b[0;32mfor\u001b[0m \u001b[0merror\u001b[0m \u001b[0;32min\u001b[0m \u001b[0mself\u001b[0m\u001b[0;34m.\u001b[0m\u001b[0miter_errors\u001b[0m\u001b[0;34m(\u001b[0m\u001b[0minstance\u001b[0m\u001b[0;34m,\u001b[0m \u001b[0mschema\u001b[0m\u001b[0;34m)\u001b[0m\u001b[0;34m:\u001b[0m\u001b[0;34m\u001b[0m\u001b[0;34m\u001b[0m\u001b[0m\n\u001b[0m\u001b[1;32m    345\u001b[0m                 \u001b[0;32mif\u001b[0m \u001b[0mpath\u001b[0m \u001b[0;32mis\u001b[0m \u001b[0;32mnot\u001b[0m \u001b[0;32mNone\u001b[0m\u001b[0;34m:\u001b[0m\u001b[0;34m\u001b[0m\u001b[0;34m\u001b[0m\u001b[0m\n\u001b[1;32m    346\u001b[0m                     \u001b[0merror\u001b[0m\u001b[0;34m.\u001b[0m\u001b[0mpath\u001b[0m\u001b[0;34m.\u001b[0m\u001b[0mappendleft\u001b[0m\u001b[0;34m(\u001b[0m\u001b[0mpath\u001b[0m\u001b[0;34m)\u001b[0m\u001b[0;34m\u001b[0m\u001b[0;34m\u001b[0m\u001b[0m\n",
      "\u001b[0;32m~/anaconda3/envs/pyhf/lib/python3.6/site-packages/jsonschema/validators.py\u001b[0m in \u001b[0;36miter_errors\u001b[0;34m(self, instance, _schema)\u001b[0m\n\u001b[1;32m    326\u001b[0m \u001b[0;34m\u001b[0m\u001b[0m\n\u001b[1;32m    327\u001b[0m                     \u001b[0merrors\u001b[0m \u001b[0;34m=\u001b[0m \u001b[0mvalidator\u001b[0m\u001b[0;34m(\u001b[0m\u001b[0mself\u001b[0m\u001b[0;34m,\u001b[0m \u001b[0mv\u001b[0m\u001b[0;34m,\u001b[0m \u001b[0minstance\u001b[0m\u001b[0;34m,\u001b[0m \u001b[0m_schema\u001b[0m\u001b[0;34m)\u001b[0m \u001b[0;32mor\u001b[0m \u001b[0;34m(\u001b[0m\u001b[0;34m)\u001b[0m\u001b[0;34m\u001b[0m\u001b[0;34m\u001b[0m\u001b[0m\n\u001b[0;32m--> 328\u001b[0;31m                     \u001b[0;32mfor\u001b[0m \u001b[0merror\u001b[0m \u001b[0;32min\u001b[0m \u001b[0merrors\u001b[0m\u001b[0;34m:\u001b[0m\u001b[0;34m\u001b[0m\u001b[0;34m\u001b[0m\u001b[0m\n\u001b[0m\u001b[1;32m    329\u001b[0m                         \u001b[0;31m# set details if not already set by the called fn\u001b[0m\u001b[0;34m\u001b[0m\u001b[0;34m\u001b[0m\u001b[0;34m\u001b[0m\u001b[0m\n\u001b[1;32m    330\u001b[0m                         error._set(\n",
      "\u001b[0;32m~/anaconda3/envs/pyhf/lib/python3.6/site-packages/jsonschema/_validators.py\u001b[0m in \u001b[0;36mproperties\u001b[0;34m(validator, properties, instance, schema)\u001b[0m\n\u001b[1;32m    284\u001b[0m                 \u001b[0msubschema\u001b[0m\u001b[0;34m,\u001b[0m\u001b[0;34m\u001b[0m\u001b[0;34m\u001b[0m\u001b[0m\n\u001b[1;32m    285\u001b[0m                 \u001b[0mpath\u001b[0m\u001b[0;34m=\u001b[0m\u001b[0mproperty\u001b[0m\u001b[0;34m,\u001b[0m\u001b[0;34m\u001b[0m\u001b[0;34m\u001b[0m\u001b[0m\n\u001b[0;32m--> 286\u001b[0;31m                 \u001b[0mschema_path\u001b[0m\u001b[0;34m=\u001b[0m\u001b[0mproperty\u001b[0m\u001b[0;34m,\u001b[0m\u001b[0;34m\u001b[0m\u001b[0;34m\u001b[0m\u001b[0m\n\u001b[0m\u001b[1;32m    287\u001b[0m             ):\n\u001b[1;32m    288\u001b[0m                 \u001b[0;32myield\u001b[0m \u001b[0merror\u001b[0m\u001b[0;34m\u001b[0m\u001b[0;34m\u001b[0m\u001b[0m\n",
      "\u001b[0;32m~/anaconda3/envs/pyhf/lib/python3.6/site-packages/jsonschema/validators.py\u001b[0m in \u001b[0;36mdescend\u001b[0;34m(self, instance, schema, path, schema_path)\u001b[0m\n\u001b[1;32m    342\u001b[0m \u001b[0;34m\u001b[0m\u001b[0m\n\u001b[1;32m    343\u001b[0m         \u001b[0;32mdef\u001b[0m \u001b[0mdescend\u001b[0m\u001b[0;34m(\u001b[0m\u001b[0mself\u001b[0m\u001b[0;34m,\u001b[0m \u001b[0minstance\u001b[0m\u001b[0;34m,\u001b[0m \u001b[0mschema\u001b[0m\u001b[0;34m,\u001b[0m \u001b[0mpath\u001b[0m\u001b[0;34m=\u001b[0m\u001b[0;32mNone\u001b[0m\u001b[0;34m,\u001b[0m \u001b[0mschema_path\u001b[0m\u001b[0;34m=\u001b[0m\u001b[0;32mNone\u001b[0m\u001b[0;34m)\u001b[0m\u001b[0;34m:\u001b[0m\u001b[0;34m\u001b[0m\u001b[0;34m\u001b[0m\u001b[0m\n\u001b[0;32m--> 344\u001b[0;31m             \u001b[0;32mfor\u001b[0m \u001b[0merror\u001b[0m \u001b[0;32min\u001b[0m \u001b[0mself\u001b[0m\u001b[0;34m.\u001b[0m\u001b[0miter_errors\u001b[0m\u001b[0;34m(\u001b[0m\u001b[0minstance\u001b[0m\u001b[0;34m,\u001b[0m \u001b[0mschema\u001b[0m\u001b[0;34m)\u001b[0m\u001b[0;34m:\u001b[0m\u001b[0;34m\u001b[0m\u001b[0;34m\u001b[0m\u001b[0m\n\u001b[0m\u001b[1;32m    345\u001b[0m                 \u001b[0;32mif\u001b[0m \u001b[0mpath\u001b[0m \u001b[0;32mis\u001b[0m \u001b[0;32mnot\u001b[0m \u001b[0;32mNone\u001b[0m\u001b[0;34m:\u001b[0m\u001b[0;34m\u001b[0m\u001b[0;34m\u001b[0m\u001b[0m\n\u001b[1;32m    346\u001b[0m                     \u001b[0merror\u001b[0m\u001b[0;34m.\u001b[0m\u001b[0mpath\u001b[0m\u001b[0;34m.\u001b[0m\u001b[0mappendleft\u001b[0m\u001b[0;34m(\u001b[0m\u001b[0mpath\u001b[0m\u001b[0;34m)\u001b[0m\u001b[0;34m\u001b[0m\u001b[0;34m\u001b[0m\u001b[0m\n",
      "\u001b[0;32m~/anaconda3/envs/pyhf/lib/python3.6/site-packages/jsonschema/validators.py\u001b[0m in \u001b[0;36miter_errors\u001b[0;34m(self, instance, _schema)\u001b[0m\n\u001b[1;32m    326\u001b[0m \u001b[0;34m\u001b[0m\u001b[0m\n\u001b[1;32m    327\u001b[0m                     \u001b[0merrors\u001b[0m \u001b[0;34m=\u001b[0m \u001b[0mvalidator\u001b[0m\u001b[0;34m(\u001b[0m\u001b[0mself\u001b[0m\u001b[0;34m,\u001b[0m \u001b[0mv\u001b[0m\u001b[0;34m,\u001b[0m \u001b[0minstance\u001b[0m\u001b[0;34m,\u001b[0m \u001b[0m_schema\u001b[0m\u001b[0;34m)\u001b[0m \u001b[0;32mor\u001b[0m \u001b[0;34m(\u001b[0m\u001b[0;34m)\u001b[0m\u001b[0;34m\u001b[0m\u001b[0;34m\u001b[0m\u001b[0m\n\u001b[0;32m--> 328\u001b[0;31m                     \u001b[0;32mfor\u001b[0m \u001b[0merror\u001b[0m \u001b[0;32min\u001b[0m \u001b[0merrors\u001b[0m\u001b[0;34m:\u001b[0m\u001b[0;34m\u001b[0m\u001b[0;34m\u001b[0m\u001b[0m\n\u001b[0m\u001b[1;32m    329\u001b[0m                         \u001b[0;31m# set details if not already set by the called fn\u001b[0m\u001b[0;34m\u001b[0m\u001b[0;34m\u001b[0m\u001b[0;34m\u001b[0m\u001b[0m\n\u001b[1;32m    330\u001b[0m                         error._set(\n",
      "\u001b[0;32m~/anaconda3/envs/pyhf/lib/python3.6/site-packages/jsonschema/_validators.py\u001b[0m in \u001b[0;36mproperties\u001b[0;34m(validator, properties, instance, schema)\u001b[0m\n\u001b[1;32m    284\u001b[0m                 \u001b[0msubschema\u001b[0m\u001b[0;34m,\u001b[0m\u001b[0;34m\u001b[0m\u001b[0;34m\u001b[0m\u001b[0m\n\u001b[1;32m    285\u001b[0m                 \u001b[0mpath\u001b[0m\u001b[0;34m=\u001b[0m\u001b[0mproperty\u001b[0m\u001b[0;34m,\u001b[0m\u001b[0;34m\u001b[0m\u001b[0;34m\u001b[0m\u001b[0m\n\u001b[0;32m--> 286\u001b[0;31m                 \u001b[0mschema_path\u001b[0m\u001b[0;34m=\u001b[0m\u001b[0mproperty\u001b[0m\u001b[0;34m,\u001b[0m\u001b[0;34m\u001b[0m\u001b[0;34m\u001b[0m\u001b[0m\n\u001b[0m\u001b[1;32m    287\u001b[0m             ):\n\u001b[1;32m    288\u001b[0m                 \u001b[0;32myield\u001b[0m \u001b[0merror\u001b[0m\u001b[0;34m\u001b[0m\u001b[0;34m\u001b[0m\u001b[0m\n",
      "\u001b[0;32m~/anaconda3/envs/pyhf/lib/python3.6/site-packages/jsonschema/validators.py\u001b[0m in \u001b[0;36mdescend\u001b[0;34m(self, instance, schema, path, schema_path)\u001b[0m\n\u001b[1;32m    342\u001b[0m \u001b[0;34m\u001b[0m\u001b[0m\n\u001b[1;32m    343\u001b[0m         \u001b[0;32mdef\u001b[0m \u001b[0mdescend\u001b[0m\u001b[0;34m(\u001b[0m\u001b[0mself\u001b[0m\u001b[0;34m,\u001b[0m \u001b[0minstance\u001b[0m\u001b[0;34m,\u001b[0m \u001b[0mschema\u001b[0m\u001b[0;34m,\u001b[0m \u001b[0mpath\u001b[0m\u001b[0;34m=\u001b[0m\u001b[0;32mNone\u001b[0m\u001b[0;34m,\u001b[0m \u001b[0mschema_path\u001b[0m\u001b[0;34m=\u001b[0m\u001b[0;32mNone\u001b[0m\u001b[0;34m)\u001b[0m\u001b[0;34m:\u001b[0m\u001b[0;34m\u001b[0m\u001b[0;34m\u001b[0m\u001b[0m\n\u001b[0;32m--> 344\u001b[0;31m             \u001b[0;32mfor\u001b[0m \u001b[0merror\u001b[0m \u001b[0;32min\u001b[0m \u001b[0mself\u001b[0m\u001b[0;34m.\u001b[0m\u001b[0miter_errors\u001b[0m\u001b[0;34m(\u001b[0m\u001b[0minstance\u001b[0m\u001b[0;34m,\u001b[0m \u001b[0mschema\u001b[0m\u001b[0;34m)\u001b[0m\u001b[0;34m:\u001b[0m\u001b[0;34m\u001b[0m\u001b[0;34m\u001b[0m\u001b[0m\n\u001b[0m\u001b[1;32m    345\u001b[0m                 \u001b[0;32mif\u001b[0m \u001b[0mpath\u001b[0m \u001b[0;32mis\u001b[0m \u001b[0;32mnot\u001b[0m \u001b[0;32mNone\u001b[0m\u001b[0;34m:\u001b[0m\u001b[0;34m\u001b[0m\u001b[0;34m\u001b[0m\u001b[0m\n\u001b[1;32m    346\u001b[0m                     \u001b[0merror\u001b[0m\u001b[0;34m.\u001b[0m\u001b[0mpath\u001b[0m\u001b[0;34m.\u001b[0m\u001b[0mappendleft\u001b[0m\u001b[0;34m(\u001b[0m\u001b[0mpath\u001b[0m\u001b[0;34m)\u001b[0m\u001b[0;34m\u001b[0m\u001b[0;34m\u001b[0m\u001b[0m\n",
      "\u001b[0;32m~/anaconda3/envs/pyhf/lib/python3.6/site-packages/jsonschema/validators.py\u001b[0m in \u001b[0;36miter_errors\u001b[0;34m(self, instance, _schema)\u001b[0m\n\u001b[1;32m    326\u001b[0m \u001b[0;34m\u001b[0m\u001b[0m\n\u001b[1;32m    327\u001b[0m                     \u001b[0merrors\u001b[0m \u001b[0;34m=\u001b[0m \u001b[0mvalidator\u001b[0m\u001b[0;34m(\u001b[0m\u001b[0mself\u001b[0m\u001b[0;34m,\u001b[0m \u001b[0mv\u001b[0m\u001b[0;34m,\u001b[0m \u001b[0minstance\u001b[0m\u001b[0;34m,\u001b[0m \u001b[0m_schema\u001b[0m\u001b[0;34m)\u001b[0m \u001b[0;32mor\u001b[0m \u001b[0;34m(\u001b[0m\u001b[0;34m)\u001b[0m\u001b[0;34m\u001b[0m\u001b[0;34m\u001b[0m\u001b[0m\n\u001b[0;32m--> 328\u001b[0;31m                     \u001b[0;32mfor\u001b[0m \u001b[0merror\u001b[0m \u001b[0;32min\u001b[0m \u001b[0merrors\u001b[0m\u001b[0;34m:\u001b[0m\u001b[0;34m\u001b[0m\u001b[0;34m\u001b[0m\u001b[0m\n\u001b[0m\u001b[1;32m    329\u001b[0m                         \u001b[0;31m# set details if not already set by the called fn\u001b[0m\u001b[0;34m\u001b[0m\u001b[0;34m\u001b[0m\u001b[0;34m\u001b[0m\u001b[0m\n\u001b[1;32m    330\u001b[0m                         error._set(\n",
      "\u001b[0;32m~/anaconda3/envs/pyhf/lib/python3.6/site-packages/jsonschema/_validators.py\u001b[0m in \u001b[0;36mitems\u001b[0;34m(validator, items, instance, schema)\u001b[0m\n\u001b[1;32m     79\u001b[0m     \u001b[0;32melse\u001b[0m\u001b[0;34m:\u001b[0m\u001b[0;34m\u001b[0m\u001b[0;34m\u001b[0m\u001b[0m\n\u001b[1;32m     80\u001b[0m         \u001b[0;32mfor\u001b[0m \u001b[0mindex\u001b[0m\u001b[0;34m,\u001b[0m \u001b[0mitem\u001b[0m \u001b[0;32min\u001b[0m \u001b[0menumerate\u001b[0m\u001b[0;34m(\u001b[0m\u001b[0minstance\u001b[0m\u001b[0;34m)\u001b[0m\u001b[0;34m:\u001b[0m\u001b[0;34m\u001b[0m\u001b[0;34m\u001b[0m\u001b[0m\n\u001b[0;32m---> 81\u001b[0;31m             \u001b[0;32mfor\u001b[0m \u001b[0merror\u001b[0m \u001b[0;32min\u001b[0m \u001b[0mvalidator\u001b[0m\u001b[0;34m.\u001b[0m\u001b[0mdescend\u001b[0m\u001b[0;34m(\u001b[0m\u001b[0mitem\u001b[0m\u001b[0;34m,\u001b[0m \u001b[0mitems\u001b[0m\u001b[0;34m,\u001b[0m \u001b[0mpath\u001b[0m\u001b[0;34m=\u001b[0m\u001b[0mindex\u001b[0m\u001b[0;34m)\u001b[0m\u001b[0;34m:\u001b[0m\u001b[0;34m\u001b[0m\u001b[0;34m\u001b[0m\u001b[0m\n\u001b[0m\u001b[1;32m     82\u001b[0m                 \u001b[0;32myield\u001b[0m \u001b[0merror\u001b[0m\u001b[0;34m\u001b[0m\u001b[0;34m\u001b[0m\u001b[0m\n\u001b[1;32m     83\u001b[0m \u001b[0;34m\u001b[0m\u001b[0m\n",
      "\u001b[0;32m~/anaconda3/envs/pyhf/lib/python3.6/site-packages/jsonschema/validators.py\u001b[0m in \u001b[0;36mdescend\u001b[0;34m(self, instance, schema, path, schema_path)\u001b[0m\n\u001b[1;32m    342\u001b[0m \u001b[0;34m\u001b[0m\u001b[0m\n\u001b[1;32m    343\u001b[0m         \u001b[0;32mdef\u001b[0m \u001b[0mdescend\u001b[0m\u001b[0;34m(\u001b[0m\u001b[0mself\u001b[0m\u001b[0;34m,\u001b[0m \u001b[0minstance\u001b[0m\u001b[0;34m,\u001b[0m \u001b[0mschema\u001b[0m\u001b[0;34m,\u001b[0m \u001b[0mpath\u001b[0m\u001b[0;34m=\u001b[0m\u001b[0;32mNone\u001b[0m\u001b[0;34m,\u001b[0m \u001b[0mschema_path\u001b[0m\u001b[0;34m=\u001b[0m\u001b[0;32mNone\u001b[0m\u001b[0;34m)\u001b[0m\u001b[0;34m:\u001b[0m\u001b[0;34m\u001b[0m\u001b[0;34m\u001b[0m\u001b[0m\n\u001b[0;32m--> 344\u001b[0;31m             \u001b[0;32mfor\u001b[0m \u001b[0merror\u001b[0m \u001b[0;32min\u001b[0m \u001b[0mself\u001b[0m\u001b[0;34m.\u001b[0m\u001b[0miter_errors\u001b[0m\u001b[0;34m(\u001b[0m\u001b[0minstance\u001b[0m\u001b[0;34m,\u001b[0m \u001b[0mschema\u001b[0m\u001b[0;34m)\u001b[0m\u001b[0;34m:\u001b[0m\u001b[0;34m\u001b[0m\u001b[0;34m\u001b[0m\u001b[0m\n\u001b[0m\u001b[1;32m    345\u001b[0m                 \u001b[0;32mif\u001b[0m \u001b[0mpath\u001b[0m \u001b[0;32mis\u001b[0m \u001b[0;32mnot\u001b[0m \u001b[0;32mNone\u001b[0m\u001b[0;34m:\u001b[0m\u001b[0;34m\u001b[0m\u001b[0;34m\u001b[0m\u001b[0m\n\u001b[1;32m    346\u001b[0m                     \u001b[0merror\u001b[0m\u001b[0;34m.\u001b[0m\u001b[0mpath\u001b[0m\u001b[0;34m.\u001b[0m\u001b[0mappendleft\u001b[0m\u001b[0;34m(\u001b[0m\u001b[0mpath\u001b[0m\u001b[0;34m)\u001b[0m\u001b[0;34m\u001b[0m\u001b[0;34m\u001b[0m\u001b[0m\n",
      "\u001b[0;32m~/anaconda3/envs/pyhf/lib/python3.6/site-packages/jsonschema/validators.py\u001b[0m in \u001b[0;36miter_errors\u001b[0;34m(self, instance, _schema)\u001b[0m\n\u001b[1;32m    326\u001b[0m \u001b[0;34m\u001b[0m\u001b[0m\n\u001b[1;32m    327\u001b[0m                     \u001b[0merrors\u001b[0m \u001b[0;34m=\u001b[0m \u001b[0mvalidator\u001b[0m\u001b[0;34m(\u001b[0m\u001b[0mself\u001b[0m\u001b[0;34m,\u001b[0m \u001b[0mv\u001b[0m\u001b[0;34m,\u001b[0m \u001b[0minstance\u001b[0m\u001b[0;34m,\u001b[0m \u001b[0m_schema\u001b[0m\u001b[0;34m)\u001b[0m \u001b[0;32mor\u001b[0m \u001b[0;34m(\u001b[0m\u001b[0;34m)\u001b[0m\u001b[0;34m\u001b[0m\u001b[0;34m\u001b[0m\u001b[0m\n\u001b[0;32m--> 328\u001b[0;31m                     \u001b[0;32mfor\u001b[0m \u001b[0merror\u001b[0m \u001b[0;32min\u001b[0m \u001b[0merrors\u001b[0m\u001b[0;34m:\u001b[0m\u001b[0;34m\u001b[0m\u001b[0;34m\u001b[0m\u001b[0m\n\u001b[0m\u001b[1;32m    329\u001b[0m                         \u001b[0;31m# set details if not already set by the called fn\u001b[0m\u001b[0;34m\u001b[0m\u001b[0;34m\u001b[0m\u001b[0;34m\u001b[0m\u001b[0m\n\u001b[1;32m    330\u001b[0m                         error._set(\n",
      "\u001b[0;32m~/anaconda3/envs/pyhf/lib/python3.6/site-packages/jsonschema/_validators.py\u001b[0m in \u001b[0;36mtype\u001b[0;34m(validator, types, instance, schema)\u001b[0m\n\u001b[1;32m    270\u001b[0m     \u001b[0mtypes\u001b[0m \u001b[0;34m=\u001b[0m \u001b[0mensure_list\u001b[0m\u001b[0;34m(\u001b[0m\u001b[0mtypes\u001b[0m\u001b[0;34m)\u001b[0m\u001b[0;34m\u001b[0m\u001b[0;34m\u001b[0m\u001b[0m\n\u001b[1;32m    271\u001b[0m \u001b[0;34m\u001b[0m\u001b[0m\n\u001b[0;32m--> 272\u001b[0;31m     \u001b[0;32mif\u001b[0m \u001b[0;32mnot\u001b[0m \u001b[0many\u001b[0m\u001b[0;34m(\u001b[0m\u001b[0mvalidator\u001b[0m\u001b[0;34m.\u001b[0m\u001b[0mis_type\u001b[0m\u001b[0;34m(\u001b[0m\u001b[0minstance\u001b[0m\u001b[0;34m,\u001b[0m \u001b[0mtype\u001b[0m\u001b[0;34m)\u001b[0m \u001b[0;32mfor\u001b[0m \u001b[0mtype\u001b[0m \u001b[0;32min\u001b[0m \u001b[0mtypes\u001b[0m\u001b[0;34m)\u001b[0m\u001b[0;34m:\u001b[0m\u001b[0;34m\u001b[0m\u001b[0;34m\u001b[0m\u001b[0m\n\u001b[0m\u001b[1;32m    273\u001b[0m         \u001b[0;32myield\u001b[0m \u001b[0mValidationError\u001b[0m\u001b[0;34m(\u001b[0m\u001b[0mtypes_msg\u001b[0m\u001b[0;34m(\u001b[0m\u001b[0minstance\u001b[0m\u001b[0;34m,\u001b[0m \u001b[0mtypes\u001b[0m\u001b[0;34m)\u001b[0m\u001b[0;34m)\u001b[0m\u001b[0;34m\u001b[0m\u001b[0;34m\u001b[0m\u001b[0m\n\u001b[1;32m    274\u001b[0m \u001b[0;34m\u001b[0m\u001b[0m\n",
      "\u001b[0;32m~/anaconda3/envs/pyhf/lib/python3.6/site-packages/jsonschema/_validators.py\u001b[0m in \u001b[0;36m<genexpr>\u001b[0;34m(.0)\u001b[0m\n\u001b[1;32m    270\u001b[0m     \u001b[0mtypes\u001b[0m \u001b[0;34m=\u001b[0m \u001b[0mensure_list\u001b[0m\u001b[0;34m(\u001b[0m\u001b[0mtypes\u001b[0m\u001b[0;34m)\u001b[0m\u001b[0;34m\u001b[0m\u001b[0;34m\u001b[0m\u001b[0m\n\u001b[1;32m    271\u001b[0m \u001b[0;34m\u001b[0m\u001b[0m\n\u001b[0;32m--> 272\u001b[0;31m     \u001b[0;32mif\u001b[0m \u001b[0;32mnot\u001b[0m \u001b[0many\u001b[0m\u001b[0;34m(\u001b[0m\u001b[0mvalidator\u001b[0m\u001b[0;34m.\u001b[0m\u001b[0mis_type\u001b[0m\u001b[0;34m(\u001b[0m\u001b[0minstance\u001b[0m\u001b[0;34m,\u001b[0m \u001b[0mtype\u001b[0m\u001b[0;34m)\u001b[0m \u001b[0;32mfor\u001b[0m \u001b[0mtype\u001b[0m \u001b[0;32min\u001b[0m \u001b[0mtypes\u001b[0m\u001b[0;34m)\u001b[0m\u001b[0;34m:\u001b[0m\u001b[0;34m\u001b[0m\u001b[0;34m\u001b[0m\u001b[0m\n\u001b[0m\u001b[1;32m    273\u001b[0m         \u001b[0;32myield\u001b[0m \u001b[0mValidationError\u001b[0m\u001b[0;34m(\u001b[0m\u001b[0mtypes_msg\u001b[0m\u001b[0;34m(\u001b[0m\u001b[0minstance\u001b[0m\u001b[0;34m,\u001b[0m \u001b[0mtypes\u001b[0m\u001b[0;34m)\u001b[0m\u001b[0;34m)\u001b[0m\u001b[0;34m\u001b[0m\u001b[0;34m\u001b[0m\u001b[0m\n\u001b[1;32m    274\u001b[0m \u001b[0;34m\u001b[0m\u001b[0m\n",
      "\u001b[0;32m~/anaconda3/envs/pyhf/lib/python3.6/site-packages/jsonschema/validators.py\u001b[0m in \u001b[0;36mis_type\u001b[0;34m(self, instance, type)\u001b[0m\n\u001b[1;32m    355\u001b[0m         \u001b[0;32mdef\u001b[0m \u001b[0mis_type\u001b[0m\u001b[0;34m(\u001b[0m\u001b[0mself\u001b[0m\u001b[0;34m,\u001b[0m \u001b[0minstance\u001b[0m\u001b[0;34m,\u001b[0m \u001b[0mtype\u001b[0m\u001b[0;34m)\u001b[0m\u001b[0;34m:\u001b[0m\u001b[0;34m\u001b[0m\u001b[0;34m\u001b[0m\u001b[0m\n\u001b[1;32m    356\u001b[0m             \u001b[0;32mtry\u001b[0m\u001b[0;34m:\u001b[0m\u001b[0;34m\u001b[0m\u001b[0;34m\u001b[0m\u001b[0m\n\u001b[0;32m--> 357\u001b[0;31m                 \u001b[0;32mreturn\u001b[0m \u001b[0mself\u001b[0m\u001b[0;34m.\u001b[0m\u001b[0mTYPE_CHECKER\u001b[0m\u001b[0;34m.\u001b[0m\u001b[0mis_type\u001b[0m\u001b[0;34m(\u001b[0m\u001b[0minstance\u001b[0m\u001b[0;34m,\u001b[0m \u001b[0mtype\u001b[0m\u001b[0;34m)\u001b[0m\u001b[0;34m\u001b[0m\u001b[0;34m\u001b[0m\u001b[0m\n\u001b[0m\u001b[1;32m    358\u001b[0m             \u001b[0;32mexcept\u001b[0m \u001b[0mexceptions\u001b[0m\u001b[0;34m.\u001b[0m\u001b[0mUndefinedTypeCheck\u001b[0m\u001b[0;34m:\u001b[0m\u001b[0;34m\u001b[0m\u001b[0;34m\u001b[0m\u001b[0m\n\u001b[1;32m    359\u001b[0m                 \u001b[0;32mraise\u001b[0m \u001b[0mexceptions\u001b[0m\u001b[0;34m.\u001b[0m\u001b[0mUnknownType\u001b[0m\u001b[0;34m(\u001b[0m\u001b[0mtype\u001b[0m\u001b[0;34m,\u001b[0m \u001b[0minstance\u001b[0m\u001b[0;34m,\u001b[0m \u001b[0mself\u001b[0m\u001b[0;34m.\u001b[0m\u001b[0mschema\u001b[0m\u001b[0;34m)\u001b[0m\u001b[0;34m\u001b[0m\u001b[0;34m\u001b[0m\u001b[0m\n",
      "\u001b[0;32m~/anaconda3/envs/pyhf/lib/python3.6/site-packages/jsonschema/_types.py\u001b[0m in \u001b[0;36mis_type\u001b[0;34m(self, instance, type)\u001b[0m\n\u001b[1;32m     93\u001b[0m             \u001b[0;32mraise\u001b[0m \u001b[0mUndefinedTypeCheck\u001b[0m\u001b[0;34m(\u001b[0m\u001b[0mtype\u001b[0m\u001b[0;34m)\u001b[0m\u001b[0;34m\u001b[0m\u001b[0;34m\u001b[0m\u001b[0m\n\u001b[1;32m     94\u001b[0m \u001b[0;34m\u001b[0m\u001b[0m\n\u001b[0;32m---> 95\u001b[0;31m         \u001b[0;32mreturn\u001b[0m \u001b[0mfn\u001b[0m\u001b[0;34m(\u001b[0m\u001b[0mself\u001b[0m\u001b[0;34m,\u001b[0m \u001b[0minstance\u001b[0m\u001b[0;34m)\u001b[0m\u001b[0;34m\u001b[0m\u001b[0;34m\u001b[0m\u001b[0m\n\u001b[0m\u001b[1;32m     96\u001b[0m \u001b[0;34m\u001b[0m\u001b[0m\n\u001b[1;32m     97\u001b[0m     \u001b[0;32mdef\u001b[0m \u001b[0mredefine\u001b[0m\u001b[0;34m(\u001b[0m\u001b[0mself\u001b[0m\u001b[0;34m,\u001b[0m \u001b[0mtype\u001b[0m\u001b[0;34m,\u001b[0m \u001b[0mfn\u001b[0m\u001b[0;34m)\u001b[0m\u001b[0;34m:\u001b[0m\u001b[0;34m\u001b[0m\u001b[0;34m\u001b[0m\u001b[0m\n",
      "\u001b[0;32m~/anaconda3/envs/pyhf/lib/python3.6/site-packages/jsonschema/_types.py\u001b[0m in \u001b[0;36mis_number\u001b[0;34m(checker, instance)\u001b[0m\n\u001b[1;32m     31\u001b[0m     \u001b[0;32mif\u001b[0m \u001b[0misinstance\u001b[0m\u001b[0;34m(\u001b[0m\u001b[0minstance\u001b[0m\u001b[0;34m,\u001b[0m \u001b[0mbool\u001b[0m\u001b[0;34m)\u001b[0m\u001b[0;34m:\u001b[0m\u001b[0;34m\u001b[0m\u001b[0;34m\u001b[0m\u001b[0m\n\u001b[1;32m     32\u001b[0m         \u001b[0;32mreturn\u001b[0m \u001b[0;32mFalse\u001b[0m\u001b[0;34m\u001b[0m\u001b[0;34m\u001b[0m\u001b[0m\n\u001b[0;32m---> 33\u001b[0;31m     \u001b[0;32mreturn\u001b[0m \u001b[0misinstance\u001b[0m\u001b[0;34m(\u001b[0m\u001b[0minstance\u001b[0m\u001b[0;34m,\u001b[0m \u001b[0mnumbers\u001b[0m\u001b[0;34m.\u001b[0m\u001b[0mNumber\u001b[0m\u001b[0;34m)\u001b[0m\u001b[0;34m\u001b[0m\u001b[0;34m\u001b[0m\u001b[0m\n\u001b[0m\u001b[1;32m     34\u001b[0m \u001b[0;34m\u001b[0m\u001b[0m\n\u001b[1;32m     35\u001b[0m \u001b[0;34m\u001b[0m\u001b[0m\n",
      "\u001b[0;31mKeyboardInterrupt\u001b[0m: "
     ]
    }
   ],
   "source": [
    "original_ws = pyhf.Workspace(spec) # origin ws from full LH\n",
    "\n",
    "# pruned_ws = original_ws.prune(channels=['SRLMEM_mct2','SRMMEM_mct2','SRHMEM_mct2']) # prune out SRs from original ws\n",
    "# no_staterror_ws = original_ws.prune(modifiers=['staterror_SRLMEM_mct2','staterror_SRMMEM_mct2','staterror_SRHMEM_mct2']) # prune out staterror from SRs, but leave SRs in place for now"
   ]
  },
  {
   "cell_type": "code",
   "execution_count": 3,
   "metadata": {},
   "outputs": [],
   "source": [
    "# get model and data for each ws we just created\n",
    "original_model = original_ws.model(modifier_settings = {\"normsys\": {\"interpcode\": \"code4\"},\"histosys\": {\"interpcode\": \"code4p\"},}, poi_name = None)\n",
    "original_data = original_ws.data(original_model)\n",
    "\n",
    "# pruned_model = pruned_ws.model(modifier_settings = {\"normsys\": {\"interpcode\": \"code4\"},\"histosys\": {\"interpcode\": \"code4p\"},},poi_name = None)\n",
    "# pruned_data = pruned_ws.data(pruned_model)\n",
    "# no_staterror_model = no_staterror_ws.model(modifier_settings = {\"normsys\": {\"interpcode\": \"code4\"},\"histosys\": {\"interpcode\": \"code4p\"},},poi_name = None)\n",
    "# no_staterror_data = no_staterror_ws.data(no_staterror_model)"
   ]
  },
  {
   "cell_type": "code",
   "execution_count": 4,
   "metadata": {},
   "outputs": [
    {
     "name": "stderr",
     "output_type": "stream",
     "text": [
      "&lt;\u001b[1;32mINFO\u001b[0m&gt; simplify.logger.simplify.fitter fit: performing maximum likelihood fit\n"
     ]
    },
    {
     "name": "stderr",
     "output_type": "stream",
     "text": [
      "&lt;\u001b[1;32mINFO\u001b[0m&gt; simplify.logger.simplify.fitter print_results: lumi                                     :  0.999631 +/- 0.016881\n"
     ]
    },
    {
     "name": "stderr",
     "output_type": "stream",
     "text": [
      "&lt;\u001b[1;32mINFO\u001b[0m&gt; simplify.logger.simplify.fitter print_results: EL_EFF_ISO                               : -0.656843 +/- 0.899070\n"
     ]
    },
    {
     "name": "stderr",
     "output_type": "stream",
     "text": [
      "&lt;\u001b[1;32mINFO\u001b[0m&gt; simplify.logger.simplify.fitter print_results: EL_EFF_RECO                              : -0.006797 +/- 0.996622\n"
     ]
    },
    {
     "name": "stderr",
     "output_type": "stream",
     "text": [
      "&lt;\u001b[1;32mINFO\u001b[0m&gt; simplify.logger.simplify.fitter print_results: EL_EFF_TRIG                              :  0.000000 +/- 0.996641\n"
     ]
    },
    {
     "name": "stderr",
     "output_type": "stream",
     "text": [
      "&lt;\u001b[1;32mINFO\u001b[0m&gt; simplify.logger.simplify.fitter print_results: FT_EFF_B                                 :  0.082283 +/- 0.975888\n"
     ]
    },
    {
     "name": "stderr",
     "output_type": "stream",
     "text": [
      "&lt;\u001b[1;32mINFO\u001b[0m&gt; simplify.logger.simplify.fitter print_results: MUON_EFF_RECO_STAT                       : -0.001126 +/- 0.993354\n"
     ]
    },
    {
     "name": "stderr",
     "output_type": "stream",
     "text": [
      "&lt;\u001b[1;32mINFO\u001b[0m&gt; simplify.logger.simplify.fitter print_results: MUON_EFF_RECO_SYS                        : -0.059632 +/- 0.991446\n"
     ]
    },
    {
     "name": "stderr",
     "output_type": "stream",
     "text": [
      "&lt;\u001b[1;32mINFO\u001b[0m&gt; simplify.logger.simplify.fitter print_results: JET_EffectiveNP_Mixed1                   :  0.002102 +/- 0.801190\n"
     ]
    },
    {
     "name": "stderr",
     "output_type": "stream",
     "text": [
      "&lt;\u001b[1;32mINFO\u001b[0m&gt; simplify.logger.simplify.fitter print_results: JET_EffectiveNP_Mixed2                   : -0.017255 +/- 0.810866\n"
     ]
    },
    {
     "name": "stderr",
     "output_type": "stream",
     "text": [
      "&lt;\u001b[1;32mINFO\u001b[0m&gt; simplify.logger.simplify.fitter print_results: JET_EffectiveNP_Modelling1               : -0.092410 +/- 0.772766\n"
     ]
    },
    {
     "name": "stderr",
     "output_type": "stream",
     "text": [
      "&lt;\u001b[1;32mINFO\u001b[0m&gt; simplify.logger.simplify.fitter print_results: JET_EffectiveNP_Modelling3               :  0.010437 +/- 0.792408\n"
     ]
    },
    {
     "name": "stderr",
     "output_type": "stream",
     "text": [
      "&lt;\u001b[1;32mINFO\u001b[0m&gt; simplify.logger.simplify.fitter print_results: JET_EffectiveNP_Modelling2               : -0.016148 +/- 0.801874\n"
     ]
    },
    {
     "name": "stderr",
     "output_type": "stream",
     "text": [
      "&lt;\u001b[1;32mINFO\u001b[0m&gt; simplify.logger.simplify.fitter print_results: MUON_EFF_TrigStatUncertainty             : -0.004590 +/- 0.996280\n"
     ]
    },
    {
     "name": "stderr",
     "output_type": "stream",
     "text": [
      "&lt;\u001b[1;32mINFO\u001b[0m&gt; simplify.logger.simplify.fitter print_results: JET_EffectiveNP_Statistical1             :  0.022273 +/- 0.798936\n"
     ]
    },
    {
     "name": "stderr",
     "output_type": "stream",
     "text": [
      "&lt;\u001b[1;32mINFO\u001b[0m&gt; simplify.logger.simplify.fitter print_results: JET_EffectiveNP_Statistical3             :  0.009268 +/- 0.798988\n"
     ]
    },
    {
     "name": "stderr",
     "output_type": "stream",
     "text": [
      "&lt;\u001b[1;32mINFO\u001b[0m&gt; simplify.logger.simplify.fitter print_results: JET_EffectiveNP_Statistical5             : -0.007743 +/- 0.799784\n"
     ]
    },
    {
     "name": "stderr",
     "output_type": "stream",
     "text": [
      "&lt;\u001b[1;32mINFO\u001b[0m&gt; simplify.logger.simplify.fitter print_results: JET_JER_EffectiveNP_1                    : -0.000870 +/- 0.786076\n"
     ]
    },
    {
     "name": "stderr",
     "output_type": "stream",
     "text": [
      "&lt;\u001b[1;32mINFO\u001b[0m&gt; simplify.logger.simplify.fitter print_results: JET_JER_EffectiveNP_10                   :  0.018502 +/- 0.883272\n"
     ]
    },
    {
     "name": "stderr",
     "output_type": "stream",
     "text": [
      "&lt;\u001b[1;32mINFO\u001b[0m&gt; simplify.logger.simplify.fitter print_results: JET_JER_EffectiveNP_9                    :  0.186559 +/- 0.804103\n"
     ]
    },
    {
     "name": "stderr",
     "output_type": "stream",
     "text": [
      "&lt;\u001b[1;32mINFO\u001b[0m&gt; simplify.logger.simplify.fitter print_results: JET_Pileup_OffsetMu                      :  0.038774 +/- 0.807965\n"
     ]
    },
    {
     "name": "stderr",
     "output_type": "stream",
     "text": [
      "&lt;\u001b[1;32mINFO\u001b[0m&gt; simplify.logger.simplify.fitter print_results: staterror_SRSF_0c_cuts                   :  0.992781 +/- 0.045991\n"
     ]
    },
    {
     "name": "stderr",
     "output_type": "stream",
     "text": [
      "&lt;\u001b[1;32mINFO\u001b[0m&gt; simplify.logger.simplify.fitter print_results: staterror_SRSF_1c_cuts                   :  1.026122 +/- 0.067830\n"
     ]
    },
    {
     "name": "stderr",
     "output_type": "stream",
     "text": [
      "&lt;\u001b[1;32mINFO\u001b[0m&gt; simplify.logger.simplify.fitter print_results: staterror_SRSF_0d_cuts                   :  1.008503 +/- 0.056515\n"
     ]
    },
    {
     "name": "stderr",
     "output_type": "stream",
     "text": [
      "&lt;\u001b[1;32mINFO\u001b[0m&gt; simplify.logger.simplify.fitter print_results: staterror_SRSF_1d_cuts                   :  0.986916 +/- 0.083129\n"
     ]
    },
    {
     "name": "stderr",
     "output_type": "stream",
     "text": [
      "&lt;\u001b[1;32mINFO\u001b[0m&gt; simplify.logger.simplify.fitter print_results: staterror_SRSF_0e_cuts                   :  1.008096 +/- 0.056539\n"
     ]
    },
    {
     "name": "stderr",
     "output_type": "stream",
     "text": [
      "&lt;\u001b[1;32mINFO\u001b[0m&gt; simplify.logger.simplify.fitter print_results: staterror_SRSF_1e_cuts                   :  0.982167 +/- 0.099237\n"
     ]
    },
    {
     "name": "stderr",
     "output_type": "stream",
     "text": [
      "&lt;\u001b[1;32mINFO\u001b[0m&gt; simplify.logger.simplify.fitter print_results: staterror_SRSF_0f_cuts                   :  1.008264 +/- 0.068294\n"
     ]
    },
    {
     "name": "stderr",
     "output_type": "stream",
     "text": [
      "&lt;\u001b[1;32mINFO\u001b[0m&gt; simplify.logger.simplify.fitter print_results: staterror_SRSF_1f_cuts                   :  1.011533 +/- 0.114925\n"
     ]
    },
    {
     "name": "stderr",
     "output_type": "stream",
     "text": [
      "&lt;\u001b[1;32mINFO\u001b[0m&gt; simplify.logger.simplify.fitter print_results: staterror_SRSF_0g_cuts                   :  0.993651 +/- 0.090324\n"
     ]
    },
    {
     "name": "stderr",
     "output_type": "stream",
     "text": [
      "&lt;\u001b[1;32mINFO\u001b[0m&gt; simplify.logger.simplify.fitter print_results: staterror_SRSF_1g_cuts                   :  0.978435 +/- 0.080389\n"
     ]
    },
    {
     "name": "stderr",
     "output_type": "stream",
     "text": [
      "&lt;\u001b[1;32mINFO\u001b[0m&gt; simplify.logger.simplify.fitter print_results: staterror_SRSF_0h_cuts                   :  0.966205 +/- 0.143458\n"
     ]
    },
    {
     "name": "stderr",
     "output_type": "stream",
     "text": [
      "&lt;\u001b[1;32mINFO\u001b[0m&gt; simplify.logger.simplify.fitter print_results: staterror_SRSF_1h_cuts                   :  0.978834 +/- 0.156620\n"
     ]
    },
    {
     "name": "stderr",
     "output_type": "stream",
     "text": [
      "&lt;\u001b[1;32mINFO\u001b[0m&gt; simplify.logger.simplify.fitter print_results: staterror_SRSF_0i_cuts                   :  1.003385 +/- 0.083225\n"
     ]
    },
    {
     "name": "stderr",
     "output_type": "stream",
     "text": [
      "&lt;\u001b[1;32mINFO\u001b[0m&gt; simplify.logger.simplify.fitter print_results: staterror_SRSF_1i_cuts                   :  0.939898 +/- 0.156050\n"
     ]
    },
    {
     "name": "stderr",
     "output_type": "stream",
     "text": [
      "&lt;\u001b[1;32mINFO\u001b[0m&gt; simplify.logger.simplify.fitter print_results: staterror_SRDF_0a_cuts                   :  0.994775 +/- 0.083113\n"
     ]
    },
    {
     "name": "stderr",
     "output_type": "stream",
     "text": [
      "&lt;\u001b[1;32mINFO\u001b[0m&gt; simplify.logger.simplify.fitter print_results: staterror_SRDF_1a_cuts                   :  0.989058 +/- 0.066434\n"
     ]
    },
    {
     "name": "stderr",
     "output_type": "stream",
     "text": [
      "&lt;\u001b[1;32mINFO\u001b[0m&gt; simplify.logger.simplify.fitter print_results: staterror_SRDF_0b_cuts                   :  1.003243 +/- 0.064355\n"
     ]
    },
    {
     "name": "stdout",
     "output_type": "stream",
     "text": [
      "------------------------------------------------------------------\n",
      "| FCN = 184.7                   |   Ncalls=14580 (14580 total)   |\n",
      "| EDM = 1.08e-07 (Goal: 0.0002) |            up = 1.0            |\n",
      "------------------------------------------------------------------\n",
      "|  Valid Min.   | Valid Param.  | Above EDM | Reached call limit |\n",
      "------------------------------------------------------------------\n",
      "|     True      |     True      |   False   |       False        |\n",
      "------------------------------------------------------------------\n",
      "| Hesse failed  |   Has cov.    | Accurate  | Pos. def. | Forced |\n",
      "------------------------------------------------------------------\n",
      "|     False     |     True      |   True    |   True    | False  |\n",
      "------------------------------------------------------------------\n"
     ]
    },
    {
     "name": "stderr",
     "output_type": "stream",
     "text": [
      "&lt;\u001b[1;32mINFO\u001b[0m&gt; simplify.logger.simplify.fitter print_results: staterror_SRDF_1b_cuts                   :  1.008568 +/- 0.081252"
     ]
    },
    {
     "name": "stderr",
     "output_type": "stream",
     "text": [
      "\n"
     ]
    },
    {
     "name": "stderr",
     "output_type": "stream",
     "text": [
      "&lt;\u001b[1;32mINFO\u001b[0m&gt; simplify.logger.simplify.fitter print_results: staterror_SRDF_0c_cuts                   :  1.000752 +/- 0.057413\n"
     ]
    },
    {
     "name": "stderr",
     "output_type": "stream",
     "text": [
      "&lt;\u001b[1;32mINFO\u001b[0m&gt; simplify.logger.simplify.fitter print_results: staterror_SRDF_1c_cuts                   :  1.001552 +/- 0.064670"
     ]
    },
    {
     "name": "stderr",
     "output_type": "stream",
     "text": [
      "\n"
     ]
    },
    {
     "name": "stderr",
     "output_type": "stream",
     "text": [
      "&lt;\u001b[1;32mINFO\u001b[0m&gt; simplify.logger.simplify.fitter print_results: staterror_SRDF_0d_cuts                   :  0.980214 +/- 0.061920\n"
     ]
    },
    {
     "name": "stderr",
     "output_type": "stream",
     "text": [
      "&lt;\u001b[1;32mINFO\u001b[0m&gt; simplify.logger.simplify.fitter print_results: staterror_SRDF_1d_cuts                   :  1.000954 +/- 0.059985"
     ]
    },
    {
     "name": "stderr",
     "output_type": "stream",
     "text": [
      "\n"
     ]
    },
    {
     "name": "stderr",
     "output_type": "stream",
     "text": [
      "&lt;\u001b[1;32mINFO\u001b[0m&gt; simplify.logger.simplify.fitter print_results: staterror_SRDF_0e_cuts                   :  0.997349 +/- 0.056282\n"
     ]
    },
    {
     "name": "stderr",
     "output_type": "stream",
     "text": [
      "&lt;\u001b[1;32mINFO\u001b[0m&gt; simplify.logger.simplify.fitter print_results: staterror_SRDF_1e_cuts                   :  1.002261 +/- 0.080439\n"
     ]
    },
    {
     "name": "stderr",
     "output_type": "stream",
     "text": [
      "&lt;\u001b[1;32mINFO\u001b[0m&gt; simplify.logger.simplify.fitter print_results: staterror_SRDF_0f_cuts                   :  1.010376 +/- 0.073751\n"
     ]
    },
    {
     "name": "stderr",
     "output_type": "stream",
     "text": [
      "&lt;\u001b[1;32mINFO\u001b[0m&gt; simplify.logger.simplify.fitter print_results: staterror_SRDF_1f_cuts                   :  0.997251 +/- 0.085708\n"
     ]
    },
    {
     "name": "stderr",
     "output_type": "stream",
     "text": [
      "&lt;\u001b[1;32mINFO\u001b[0m&gt; simplify.logger.simplify.fitter print_results: staterror_SRDF_0g_cuts                   :  1.013615 +/- 0.072844\n"
     ]
    },
    {
     "name": "stderr",
     "output_type": "stream",
     "text": [
      "&lt;\u001b[1;32mINFO\u001b[0m&gt; simplify.logger.simplify.fitter print_results: staterror_SRDF_1g_cuts                   :  0.998596 +/- 0.092353\n"
     ]
    },
    {
     "name": "stderr",
     "output_type": "stream",
     "text": [
      "&lt;\u001b[1;32mINFO\u001b[0m&gt; simplify.logger.simplify.fitter print_results: staterror_SRDF_0h_cuts                   :  0.951252 +/- 0.119621\n"
     ]
    },
    {
     "name": "stderr",
     "output_type": "stream",
     "text": [
      "&lt;\u001b[1;32mINFO\u001b[0m&gt; simplify.logger.simplify.fitter print_results: staterror_SRDF_1h_cuts                   :  1.008256 +/- 0.142218\n"
     ]
    },
    {
     "name": "stderr",
     "output_type": "stream",
     "text": [
      "&lt;\u001b[1;32mINFO\u001b[0m&gt; simplify.logger.simplify.fitter print_results: staterror_SRDF_0i_cuts                   :  1.013946 +/- 0.110598\n"
     ]
    },
    {
     "name": "stderr",
     "output_type": "stream",
     "text": [
      "&lt;\u001b[1;32mINFO\u001b[0m&gt; simplify.logger.simplify.fitter print_results: staterror_SRDF_1i_cuts                   :  1.001164 +/- 0.155604"
     ]
    },
    {
     "name": "stderr",
     "output_type": "stream",
     "text": [
      "\n"
     ]
    },
    {
     "name": "stderr",
     "output_type": "stream",
     "text": [
      "&lt;\u001b[1;32mINFO\u001b[0m&gt; simplify.logger.simplify.fitter print_results: JET_Pileup_OffsetNPV                     :  0.047328 +/- 0.957457\n"
     ]
    },
    {
     "name": "stderr",
     "output_type": "stream",
     "text": [
      "&lt;\u001b[1;32mINFO\u001b[0m&gt; simplify.logger.simplify.fitter print_results: JET_Pileup_PtTerm                        :  0.020265 +/- 0.815602\n"
     ]
    },
    {
     "name": "stderr",
     "output_type": "stream",
     "text": [
      "&lt;\u001b[1;32mINFO\u001b[0m&gt; simplify.logger.simplify.fitter print_results: JET_Pileup_RhoTopology                   : -0.151332 +/- 0.851898\n"
     ]
    },
    {
     "name": "stderr",
     "output_type": "stream",
     "text": [
      "&lt;\u001b[1;32mINFO\u001b[0m&gt; simplify.logger.simplify.fitter print_results: MET_ResoPara                             :  0.129441 +/- 1.089430\n"
     ]
    },
    {
     "name": "stderr",
     "output_type": "stream",
     "text": [
      "&lt;\u001b[1;32mINFO\u001b[0m&gt; simplify.logger.simplify.fitter print_results: MET_ResoPerp                             : -0.059273 +/- 0.871015\n"
     ]
    },
    {
     "name": "stderr",
     "output_type": "stream",
     "text": [
      "&lt;\u001b[1;32mINFO\u001b[0m&gt; simplify.logger.simplify.fitter print_results: MET_ScaleDown                            :  0.525451 +/- 0.881074\n"
     ]
    },
    {
     "name": "stderr",
     "output_type": "stream",
     "text": [
      "&lt;\u001b[1;32mINFO\u001b[0m&gt; simplify.logger.simplify.fitter print_results: MET_ScaleUp                              :  0.075246 +/- 1.076434\n"
     ]
    },
    {
     "name": "stderr",
     "output_type": "stream",
     "text": [
      "&lt;\u001b[1;32mINFO\u001b[0m&gt; simplify.logger.simplify.fitter print_results: MUONS_ID                                 : -0.729708 +/- 0.711937\n"
     ]
    },
    {
     "name": "stderr",
     "output_type": "stream",
     "text": [
      "&lt;\u001b[1;32mINFO\u001b[0m&gt; simplify.logger.simplify.fitter print_results: MUONS_MS                                 :  0.750613 +/- 0.744349\n"
     ]
    },
    {
     "name": "stderr",
     "output_type": "stream",
     "text": [
      "&lt;\u001b[1;32mINFO\u001b[0m&gt; simplify.logger.simplify.fitter print_results: MUONS_SCALE                              : -0.081169 +/- 1.892285\n"
     ]
    },
    {
     "name": "stderr",
     "output_type": "stream",
     "text": [
      "&lt;\u001b[1;32mINFO\u001b[0m&gt; simplify.logger.simplify.fitter print_results: MUONS_SagReb                             :  0.105519 +/- 0.893909\n"
     ]
    },
    {
     "name": "stderr",
     "output_type": "stream",
     "text": [
      "&lt;\u001b[1;32mINFO\u001b[0m&gt; simplify.logger.simplify.fitter print_results: MUONS_SagRho                             :  0.580866 +/- 0.826422\n"
     ]
    },
    {
     "name": "stderr",
     "output_type": "stream",
     "text": [
      "&lt;\u001b[1;32mINFO\u001b[0m&gt; simplify.logger.simplify.fitter print_results: fakesSyst                                : -0.057150 +/- 1.018315\n"
     ]
    },
    {
     "name": "stderr",
     "output_type": "stream",
     "text": [
      "&lt;\u001b[1;32mINFO\u001b[0m&gt; simplify.logger.simplify.fitter print_results: mu_ttbar                                 :  0.811163 +/- 0.056783\n"
     ]
    },
    {
     "name": "stderr",
     "output_type": "stream",
     "text": [
      "&lt;\u001b[1;32mINFO\u001b[0m&gt; simplify.logger.simplify.fitter print_results: syst_wt_DS                               : -0.116189 +/- 0.751836\n"
     ]
    },
    {
     "name": "stderr",
     "output_type": "stream",
     "text": [
      "&lt;\u001b[1;32mINFO\u001b[0m&gt; simplify.logger.simplify.fitter print_results: syst_ttbar_gen                           : -0.179366 +/- 0.602581\n"
     ]
    },
    {
     "name": "stderr",
     "output_type": "stream",
     "text": [
      "&lt;\u001b[1;32mINFO\u001b[0m&gt; simplify.logger.simplify.fitter print_results: syst_ttbar_rad                           :  0.257686 +/- 0.742640\n"
     ]
    },
    {
     "name": "stderr",
     "output_type": "stream",
     "text": [
      "&lt;\u001b[1;32mINFO\u001b[0m&gt; simplify.logger.simplify.fitter print_results: syst_ttbar_show                          :  0.088534 +/- 0.697184\n"
     ]
    },
    {
     "name": "stderr",
     "output_type": "stream",
     "text": [
      "&lt;\u001b[1;32mINFO\u001b[0m&gt; simplify.logger.simplify.fitter print_results: mu_VZ                                    :  1.177714 +/- 0.048078\n"
     ]
    },
    {
     "name": "stderr",
     "output_type": "stream",
     "text": [
      "&lt;\u001b[1;32mINFO\u001b[0m&gt; simplify.logger.simplify.fitter print_results: Factorization_VV                         :  0.071193 +/- 0.949260\n"
     ]
    },
    {
     "name": "stderr",
     "output_type": "stream",
     "text": [
      "&lt;\u001b[1;32mINFO\u001b[0m&gt; simplify.logger.simplify.fitter print_results: Renormalization_VV                       : -0.002360 +/- 0.970907\n"
     ]
    },
    {
     "name": "stderr",
     "output_type": "stream",
     "text": [
      "&lt;\u001b[1;32mINFO\u001b[0m&gt; simplify.logger.simplify.fitter print_results: mu_WW                                    :  1.248331 +/- 0.084176\n"
     ]
    },
    {
     "name": "stderr",
     "output_type": "stream",
     "text": [
      "&lt;\u001b[1;32mINFO\u001b[0m&gt; simplify.logger.simplify.fitter print_results: syst_VV_PDF                              : -0.153931 +/- 0.977175\n"
     ]
    },
    {
     "name": "stderr",
     "output_type": "stream",
     "text": [
      "&lt;\u001b[1;32mINFO\u001b[0m&gt; simplify.logger.simplify.fitter print_results: syst_VV_gen                              :  0.348925 +/- 0.420512\n"
     ]
    },
    {
     "name": "stderr",
     "output_type": "stream",
     "text": [
      "&lt;\u001b[1;32mINFO\u001b[0m&gt; simplify.logger.simplify.fitter print_results: staterror_CRWW_cuts                      :  1.000377 +/- 0.008730\n"
     ]
    },
    {
     "name": "stderr",
     "output_type": "stream",
     "text": [
      "&lt;\u001b[1;32mINFO\u001b[0m&gt; simplify.logger.simplify.fitter print_results: staterror_CRtop_cuts                     :  1.000135 +/- 0.014546\n"
     ]
    },
    {
     "name": "stderr",
     "output_type": "stream",
     "text": [
      "&lt;\u001b[1;32mINFO\u001b[0m&gt; simplify.logger.simplify.fitter print_results: staterror_SRSF_0a_cuts                   :  0.994458 +/- 0.066139\n"
     ]
    },
    {
     "name": "stderr",
     "output_type": "stream",
     "text": [
      "&lt;\u001b[1;32mINFO\u001b[0m&gt; simplify.logger.simplify.fitter print_results: staterror_SRSF_1a_cuts                   :  0.982034 +/- 0.076582\n"
     ]
    },
    {
     "name": "stderr",
     "output_type": "stream",
     "text": [
      "&lt;\u001b[1;32mINFO\u001b[0m&gt; simplify.logger.simplify.fitter print_results: staterror_SRSF_0b_cuts                   :  1.004334 +/- 0.061914\n"
     ]
    },
    {
     "name": "stderr",
     "output_type": "stream",
     "text": [
      "&lt;\u001b[1;32mINFO\u001b[0m&gt; simplify.logger.simplify.fitter print_results: staterror_SRSF_1b_cuts                   :  0.995208 +/- 0.087854\n"
     ]
    },
    {
     "name": "stderr",
     "output_type": "stream",
     "text": [
      "&lt;\u001b[1;32mINFO\u001b[0m&gt; simplify.logger.simplify.fitter print_results: JET_JER_EffectiveNP_11                   :  0.026400 +/- 0.739410\n"
     ]
    },
    {
     "name": "stderr",
     "output_type": "stream",
     "text": [
      "&lt;\u001b[1;32mINFO\u001b[0m&gt; simplify.logger.simplify.fitter print_results: JET_JER_EffectiveNP_12restTerm           :  0.059448 +/- 0.873033\n"
     ]
    },
    {
     "name": "stderr",
     "output_type": "stream",
     "text": [
      "&lt;\u001b[1;32mINFO\u001b[0m&gt; simplify.logger.simplify.fitter print_results: JET_JER_EffectiveNP_2                    : -0.050233 +/- 0.932481\n"
     ]
    },
    {
     "name": "stderr",
     "output_type": "stream",
     "text": [
      "&lt;\u001b[1;32mINFO\u001b[0m&gt; simplify.logger.simplify.fitter print_results: JET_JER_EffectiveNP_3                    : -0.013387 +/- 0.722792\n"
     ]
    },
    {
     "name": "stderr",
     "output_type": "stream",
     "text": [
      "&lt;\u001b[1;32mINFO\u001b[0m&gt; simplify.logger.simplify.fitter print_results: JET_JER_EffectiveNP_4                    :  0.023683 +/- 0.650979\n"
     ]
    },
    {
     "name": "stderr",
     "output_type": "stream",
     "text": [
      "&lt;\u001b[1;32mINFO\u001b[0m&gt; simplify.logger.simplify.fitter print_results: JET_JER_EffectiveNP_5                    : -0.068925 +/- 0.949318\n"
     ]
    },
    {
     "name": "stderr",
     "output_type": "stream",
     "text": [
      "&lt;\u001b[1;32mINFO\u001b[0m&gt; simplify.logger.simplify.fitter print_results: JET_JER_EffectiveNP_6                    : -0.042754 +/- 0.824342\n"
     ]
    },
    {
     "name": "stderr",
     "output_type": "stream",
     "text": [
      "&lt;\u001b[1;32mINFO\u001b[0m&gt; simplify.logger.simplify.fitter print_results: JET_JER_EffectiveNP_7                    :  0.085951 +/- 0.832692\n"
     ]
    },
    {
     "name": "stderr",
     "output_type": "stream",
     "text": [
      "&lt;\u001b[1;32mINFO\u001b[0m&gt; simplify.logger.simplify.fitter print_results: JET_JER_EffectiveNP_8                    : -0.005232 +/- 0.859215\n"
     ]
    },
    {
     "name": "stderr",
     "output_type": "stream",
     "text": [
      "&lt;\u001b[1;32mINFO\u001b[0m&gt; simplify.logger.simplify.fitter print_results: JET_EffectiveNP_Statistical6             :  0.004906 +/- 0.784111\n"
     ]
    },
    {
     "name": "stderr",
     "output_type": "stream",
     "text": [
      "&lt;\u001b[1;32mINFO\u001b[0m&gt; simplify.logger.simplify.fitter print_results: JET_EtaIntercalibration_Modelling        : -0.038530 +/- 0.818924\n"
     ]
    },
    {
     "name": "stderr",
     "output_type": "stream",
     "text": [
      "&lt;\u001b[1;32mINFO\u001b[0m&gt; simplify.logger.simplify.fitter print_results: JET_EtaIntercalibration_NonClosure_negEta:  0.001361 +/- 0.791267\n"
     ]
    },
    {
     "name": "stderr",
     "output_type": "stream",
     "text": [
      "&lt;\u001b[1;32mINFO\u001b[0m&gt; simplify.logger.simplify.fitter print_results: JET_EtaIntercalibration_NonClosure_posEta:  0.004543 +/- 0.804035\n"
     ]
    },
    {
     "name": "stderr",
     "output_type": "stream",
     "text": [
      "&lt;\u001b[1;32mINFO\u001b[0m&gt; simplify.logger.simplify.fitter print_results: JET_EtaIntercalibration_TotalStat        : -0.010843 +/- 0.807213\n"
     ]
    },
    {
     "name": "stderr",
     "output_type": "stream",
     "text": [
      "&lt;\u001b[1;32mINFO\u001b[0m&gt; simplify.logger.simplify.fitter print_results: JET_Flavor_Composition                   : -0.250129 +/- 0.716786\n"
     ]
    },
    {
     "name": "stderr",
     "output_type": "stream",
     "text": [
      "&lt;\u001b[1;32mINFO\u001b[0m&gt; simplify.logger.simplify.fitter print_results: JET_Flavor_Response                      :  0.353414 +/- 1.001201\n"
     ]
    },
    {
     "name": "stderr",
     "output_type": "stream",
     "text": [
      "&lt;\u001b[1;32mINFO\u001b[0m&gt; simplify.logger.simplify.fitter print_results: JET_JER_DataVsMC                         : -0.043513 +/- 0.842974\n"
     ]
    },
    {
     "name": "stderr",
     "output_type": "stream",
     "text": [
      "&lt;\u001b[1;32mINFO\u001b[0m&gt; simplify.logger.simplify.fitter print_results: JET_EffectiveNP_Statistical4             : -0.006459 +/- 0.799442\n"
     ]
    },
    {
     "name": "stderr",
     "output_type": "stream",
     "text": [
      "&lt;\u001b[1;32mINFO\u001b[0m&gt; simplify.logger.simplify.fitter print_results: JET_EffectiveNP_Statistical2             : -0.011322 +/- 0.791146\n"
     ]
    },
    {
     "name": "stderr",
     "output_type": "stream",
     "text": [
      "&lt;\u001b[1;32mINFO\u001b[0m&gt; simplify.logger.simplify.fitter print_results: MUON_EFF_TrigSystUncertainty             :  0.000000 +/- 0.993347\n"
     ]
    },
    {
     "name": "stderr",
     "output_type": "stream",
     "text": [
      "&lt;\u001b[1;32mINFO\u001b[0m&gt; simplify.logger.simplify.fitter print_results: PRW_syst                                 : -0.039776 +/- 0.942609\n"
     ]
    },
    {
     "name": "stderr",
     "output_type": "stream",
     "text": [
      "&lt;\u001b[1;32mINFO\u001b[0m&gt; simplify.logger.simplify.fitter print_results: EG_RES                                   : -0.113343 +/- 0.964131\n"
     ]
    },
    {
     "name": "stderr",
     "output_type": "stream",
     "text": [
      "&lt;\u001b[1;32mINFO\u001b[0m&gt; simplify.logger.simplify.fitter print_results: EG_SCALE                                 : -0.227293 +/- 1.277818\n"
     ]
    },
    {
     "name": "stderr",
     "output_type": "stream",
     "text": [
      "&lt;\u001b[1;32mINFO\u001b[0m&gt; simplify.logger.simplify.fitter print_results: JET_EffectiveNP_Detector1                :  0.016457 +/- 0.800477\n"
     ]
    },
    {
     "name": "stderr",
     "output_type": "stream",
     "text": [
      "&lt;\u001b[1;32mINFO\u001b[0m&gt; simplify.logger.simplify.fitter print_results: FT_EFF_C                                 :  0.023291 +/- 0.992976\n"
     ]
    },
    {
     "name": "stderr",
     "output_type": "stream",
     "text": [
      "&lt;\u001b[1;32mINFO\u001b[0m&gt; simplify.logger.simplify.fitter print_results: FT_EFF_Light                             :  0.057845 +/- 0.991799\n"
     ]
    },
    {
     "name": "stderr",
     "output_type": "stream",
     "text": [
      "&lt;\u001b[1;32mINFO\u001b[0m&gt; simplify.logger.simplify.fitter print_results: FT_EFF_extrapolation                     :  0.000650 +/- 0.993344\n"
     ]
    },
    {
     "name": "stderr",
     "output_type": "stream",
     "text": [
      "&lt;\u001b[1;32mINFO\u001b[0m&gt; simplify.logger.simplify.fitter print_results: FT_EFF_extrapolation_from_charm          :  0.009501 +/- 0.993315\n"
     ]
    },
    {
     "name": "stderr",
     "output_type": "stream",
     "text": [
      "&lt;\u001b[1;32mINFO\u001b[0m&gt; simplify.logger.simplify.fitter print_results: JET_JvtEfficiency                        : -0.024970 +/- 0.974083\n"
     ]
    },
    {
     "name": "stderr",
     "output_type": "stream",
     "text": [
      "&lt;\u001b[1;32mINFO\u001b[0m&gt; simplify.logger.simplify.fitter print_results: MUON_EFF_ISO_STAT                        : -0.002582 +/- 0.993350\n"
     ]
    },
    {
     "name": "stderr",
     "output_type": "stream",
     "text": [
      "&lt;\u001b[1;32mINFO\u001b[0m&gt; simplify.logger.simplify.fitter print_results: MUON_EFF_ISO_SYS                         : -0.003131 +/- 0.993349\n"
     ]
    },
    {
     "name": "stderr",
     "output_type": "stream",
     "text": [
      "&lt;\u001b[1;32mINFO\u001b[0m&gt; simplify.logger.simplify.fitter print_results: staterror_CRVZ_cuts                      :  1.000168 +/- 0.010011\n"
     ]
    },
    {
     "name": "stderr",
     "output_type": "stream",
     "text": [
      "&lt;\u001b[1;32mINFO\u001b[0m&gt; simplify.logger.simplify.fitter print_results: EL_EFF_ID                                : -0.121078 +/- 0.989207\n"
     ]
    }
   ],
   "source": [
    "# run fit for every ws\n",
    "original_fit_result = simplify.fitter.fit((original_model,original_data))\n",
    "\n",
    "# pruned_fit_result = simplify.fitter.fit((pruned_model,pruned_data))\n",
    "# no_staterror_fit_result = simplify.fitter.fit((no_staterror_model,no_staterror_data))"
   ]
  },
  {
   "cell_type": "code",
   "execution_count": 9,
   "metadata": {},
   "outputs": [
    {
     "data": {
      "text/plain": "Yields(regions=[&#39;SRHMEM_mct2&#39;, &#39;SRLMEM_mct2&#39;, &#39;SRMMEM_mct2&#39;, &#39;STCREM_cuts&#39;, &#39;TRHMEM_cuts&#39;, &#39;TRLMEM_cuts&#39;, &#39;TRMMEM_cuts&#39;, &#39;WREM_cuts&#39;], samples=[&#39;diboson&#39;, &#39;multiboson&#39;, &#39;singletop&#39;, &#39;ttbar&#39;, &#39;tth&#39;, &#39;ttv&#39;, &#39;vh&#39;, &#39;wjets&#39;, &#39;zjets&#39;], yields={&#39;SRHMEM_mct2&#39;: array([[0.0632191 , 0.07246621, 0.10172258],\n       [0.        , 0.        , 0.        ],\n       [3.75302015, 2.65783516, 0.50767731],\n       [0.51750445, 0.17511258, 0.24253512],\n       [0.02887177, 0.02100665, 0.02574003],\n       [0.24845997, 0.1753172 , 0.2087737 ],\n       [0.0091588 , 0.00875104, 0.00628611],\n       [1.81969673, 1.50564236, 0.5112493 ],\n       [0.        , 0.        , 0.        ]]), &#39;SRLMEM_mct2&#39;: array([[3.82052204e-01, 1.35593506e-01, 1.94599462e-01],\n       [0.00000000e+00, 1.45691835e-03, 2.90519926e-03],\n       [4.61457081e+00, 8.81572109e-01, 8.42905564e-01],\n       [5.09308434e+00, 5.71825876e+00, 3.62723699e+00],\n       [4.06822821e-02, 4.40236482e-02, 3.31321951e-02],\n       [5.26759341e-01, 2.49699573e-01, 2.57289805e-01],\n       [1.10285727e-01, 2.73633320e-01, 4.59391534e-01],\n       [2.12651312e+00, 2.44634767e+00, 1.20104185e+00],\n       [1.12644783e-01, 9.19285982e-02, 5.03640630e-02]]), &#39;SRMMEM_mct2&#39;: array([[9.91915980e-02, 7.44665532e-02, 1.36874077e-01],\n       [3.19024185e-03, 0.00000000e+00, 0.00000000e+00],\n       [9.85802708e-01, 4.55489738e+00, 5.24715540e-01],\n       [1.38164451e+00, 2.92517993e-01, 3.56283632e-01],\n       [3.85231733e-02, 4.34261408e-02, 3.30349523e-02],\n       [7.15405209e-01, 3.54111585e-01, 1.89516278e-01],\n       [8.46001404e-03, 1.53464041e-02, 1.26969534e-02],\n       [6.11133190e-01, 5.93492881e-01, 5.83999648e-01],\n       [0.00000000e+00, 0.00000000e+00, 0.00000000e+00]]), &#39;STCREM_cuts&#39;: array([[3.14170478e+00],\n       [4.11742126e-03],\n       [7.26788434e+01],\n       [4.53738929e+01],\n       [4.51782167e-01],\n       [1.09129178e+01],\n       [5.11802769e-02],\n       [2.45695897e+01],\n       [9.09511597e-01]]), &#39;TRHMEM_cuts&#39;: array([[2.89235253e+00],\n       [1.11293936e-02],\n       [1.10744803e+02],\n       [4.68985225e+02],\n       [6.40599196e-01],\n       [9.54506079e+00],\n       [5.17006891e-02],\n       [4.77496034e+01],\n       [5.30824799e-01]]), &#39;TRLMEM_cuts&#39;: array([[5.18440476e+00],\n       [5.96901744e-03],\n       [1.61542115e+02],\n       [4.62154229e+02],\n       [6.16222757e-01],\n       [8.66493429e+00],\n       [1.12160379e-01],\n       [3.36647913e+01],\n       [9.33575323e-01]]), &#39;TRMMEM_cuts&#39;: array([[2.10852426e+00],\n       [2.54630610e-03],\n       [1.01141610e+02],\n       [3.52178905e+02],\n       [5.09472416e-01],\n       [9.96279674e+00],\n       [1.96465747e-02],\n       [1.15796296e+01],\n       [2.60654270e-01]]), &#39;WREM_cuts&#39;: array([[5.78477012e+00],\n       [1.97377199e-03],\n       [1.26671582e+01],\n       [3.64393053e+01],\n       [7.21030905e-02],\n       [1.86307622e-01],\n       [1.09717400e+00],\n       [8.76147633e+01],\n       [9.78814535e-01]])}, uncertainties={&#39;SRHMEM_mct2&#39;: &lt;Array [1.99, 1.43, 0.629] type=&#39;3 * float64&#39;&gt;, &#39;SRLMEM_mct2&#39;: &lt;Array [2.63, 2.3, 1.45] type=&#39;3 * float64&#39;&gt;, &#39;SRMMEM_mct2&#39;: &lt;Array [1.59, 2.03, 0.627] type=&#39;3 * float64&#39;&gt;, &#39;STCREM_cuts&#39;: &lt;Array [12.5] type=&#39;1 * float64&#39;&gt;, &#39;TRHMEM_cuts&#39;: &lt;Array [24.4] type=&#39;1 * float64&#39;&gt;, &#39;TRLMEM_cuts&#39;: &lt;Array [24.9] type=&#39;1 * float64&#39;&gt;, &#39;TRMMEM_cuts&#39;: &lt;Array [18.3] type=&#39;1 * float64&#39;&gt;, &#39;WREM_cuts&#39;: &lt;Array [12.2] type=&#39;1 * float64&#39;&gt;}, data={&#39;SRHMEM_mct2&#39;: array([6., 5., 3.]), &#39;SRLMEM_mct2&#39;: array([16., 11.,  7.]), &#39;SRMMEM_mct2&#39;: array([4., 7., 2.]), &#39;STCREM_cuts&#39;: array([155.]), &#39;TRHMEM_cuts&#39;: array([641.]), &#39;TRLMEM_cuts&#39;: array([657.]), &#39;TRMMEM_cuts&#39;: array([491.]), &#39;WREM_cuts&#39;: array([144.,   0.,   0.,   0.,   0.,   0.,   0.,   0.,   0.,   0.,   0.,\n         0.,   0.,   0.,   0.,   0.,   0.,   0.,   0.,   0.,   0.,   0.,\n         0.,   0.,   0.,   0.,   0.,   0.,   0.,   0.,   0.,   0.,   0.,\n         0.,   0.,   0.,   0.,   0.,   0.,   0.,   0.,   0.,   0.,   0.,\n         0.,   0.,   0.,   0.,   0.,   0.,   0.,   0.,   0.,   0.,   0.,\n         0.,   0.,   0.,   0.,   0.,   0.,   0.,   0.,   0.,   0.,   0.,\n         0.,   0.,   0.,   0.,   0.,   0.,   0.,   0.,   0.,   0.,   0.,\n         0.,   0.,   0.,   0.,   0.,   0.,   1.,   0.,   0.,   0.,   0.,\n         0.,   0.,   0.,   0.,   1.,   1.,   1.,   1.,   1.,   1.,   1.,\n         1.,   1.,   1.,   1.,   1.,   1.,   1.,   0.,   0.,   0.,   0.,\n         0.,   0.,   0.,   0.,   0.,   0.,   0.,   0.,   0.])})"
     },
     "metadata": {},
     "output_type": "execute_result"
    }
   ],
   "source": [
    "yields = simplify.yields.get_yields((original_model,original_data), original_fit_result)\n",
    "yields"
   ]
  },
  {
   "cell_type": "code",
   "execution_count": 5,
   "metadata": {},
   "outputs": [],
   "source": [
    "# Correlation matrix\n",
    "plt = simplify.plot.correlation_matrix(original_fit_result,\"test/ANA-SUSY-2018-32/figures/\",pruning_threshold=0.15)\n"
   ]
  },
  {
   "cell_type": "code",
   "execution_count": 6,
   "metadata": {},
   "outputs": [
    {
     "name": "stdout",
     "output_type": "stream",
     "text": [
      "[72 71 70 69 68 67 66 65 64 63 62 61 60 59 58 57 56 55 54 53 52 51 50 49\n",
      " 48 47 46 45 44 43 42 41 40 39 38 37 36 35 34 33 32 31 30 29 28 27 26 25\n",
      " 24 23 22 21 20 19 18 17 16 15 14 13 12 11 10  9  8  7  6  5  4  3  2  1\n",
      "  0]\n",
      "[114 113 112 111 110 109 108 107 106 105 104 103 102 101 100  99  98  97\n",
      "  96  95  94  93  92  91  90  89  88  87  86  85  84  83  82  81  80  79\n",
      "  78  77  76  75  74  73]\n"
     ]
    }
   ],
   "source": [
    "# Pull plot\n",
    "plt = simplify.plot.pulls(original_fit_result,\"test/ANA-SUSY-2018-32/figures/\")\n"
   ]
  },
  {
   "cell_type": "code",
   "execution_count": 16,
   "metadata": {},
   "outputs": [],
   "source": [
    "tables = simplify.plot.yieldsTable(spec, \"test/ANA-SUSY-2018-32/figures/\", original_fit_result)"
   ]
  },
  {
   "cell_type": "code",
   "execution_count": null,
   "metadata": {},
   "outputs": [],
   "source": [
    "stdevs = simplify.model_utils.calculate_stdev(model,fit_result.bestfit,fit_result.uncertainty,fit_result.corr_mat)\n"
   ]
  }
 ],
 "metadata": {
  "kernelspec": {
   "display_name": "Python 3.6.12 64-bit (conda)",
   "metadata": {
    "interpreter": {
     "hash": "a7c392076915a63be4ab0fe048661ebd9b40d96fcc4aae6d0f790effc979ac0f"
    }
   },
   "name": "Python 3.6.12 64-bit (conda)"
  },
  "language_info": {
   "codemirror_mode": {
    "name": "ipython",
    "version": 3
   },
   "file_extension": ".py",
   "mimetype": "text/x-python",
   "name": "python",
   "nbconvert_exporter": "python",
   "pygments_lexer": "ipython3",
   "version": "3.6.12-final"
  },
  "orig_nbformat": 2
 },
 "nbformat": 4,
 "nbformat_minor": 2
}
{
 "cells": [
  {
   "cell_type": "code",
   "execution_count": 1,
   "metadata": {},
   "outputs": [],
   "source": [
    "import pyhf\n",
    "import json\n",
    "import numpy as np\n",
    "\n",
    "import simplify\n",
    "\n",
    "# for uncertainties on fit results, I think we still need minuit as optimiser (performance isn't a problem for this tool)\n",
    "pyhf.set_backend(pyhf.tensorlib, \"minuit\")\n",
    "\n",
    "# Get the workspace from model spec\n",
    "\n",
    "spec = json.load(\n",
    "    open(\n",
    "        \"test/EwkOneLeptonTwoBjets2018/BkgOnly.json\", \"r\"\n",
    "    )\n",
    ")"
   ]
  },
  {
   "cell_type": "code",
   "execution_count": 2,
   "metadata": {},
   "outputs": [],
   "source": [
    "original_ws = pyhf.Workspace(spec) # origin ws from full LH\n",
    "pruned_ws = original_ws.prune(channels=['SRLMEM_mct2','SRMMEM_mct2','SRHMEM_mct2']) # prune out SRs from original ws\n",
    "no_staterror_ws = original_ws.prune(modifiers=['staterror_SRLMEM_mct2','staterror_SRMMEM_mct2','staterror_SRHMEM_mct2']) # prune out staterror from SRs, but leave SRs in place for now"
   ]
  },
  {
   "cell_type": "code",
   "execution_count": 3,
   "metadata": {},
   "outputs": [],
   "source": [
    "# get model and data for each ws we just created\n",
    "pruned_model = pruned_ws.model(modifier_settings = {\"normsys\": {\"interpcode\": \"code4\"},\"histosys\": {\"interpcode\": \"code4p\"},},poi_name = None)\n",
    "pruned_data = pruned_ws.data(pruned_model)\n",
    "original_model = original_ws.model(modifier_settings = {\"normsys\": {\"interpcode\": \"code4\"},\"histosys\": {\"interpcode\": \"code4p\"},},poi_name = None)\n",
    "original_data = original_ws.data(original_model)\n",
    "no_staterror_model = no_staterror_ws.model(modifier_settings = {\"normsys\": {\"interpcode\": \"code4\"},\"histosys\": {\"interpcode\": \"code4p\"},},poi_name = None)\n",
    "no_staterror_data = no_staterror_ws.data(no_staterror_model)"
   ]
  },
  {
   "cell_type": "code",
   "execution_count": null,
   "metadata": {},
   "outputs": [],
   "source": [
    "# run fit for every ws\n",
    "pruned_fit_result = simplify.fitter.fit((pruned_model,pruned_data))\n",
    "original_fit_result = simplify.fitter.fit((original_model,original_data))\n",
    "no_staterror_fit_result = simplify.fitter.fit((no_staterror_model,no_staterror_data))"
   ]
  },
  {
   "cell_type": "code",
   "execution_count": 9,
   "metadata": {},
   "outputs": [
    {
     "data": {
      "text/plain": "Yields(regions=[&#39;SRHMEM_mct2&#39;, &#39;SRLMEM_mct2&#39;, &#39;SRMMEM_mct2&#39;, &#39;STCREM_cuts&#39;, &#39;TRHMEM_cuts&#39;, &#39;TRLMEM_cuts&#39;, &#39;TRMMEM_cuts&#39;, &#39;WREM_cuts&#39;], samples=[&#39;diboson&#39;, &#39;multiboson&#39;, &#39;singletop&#39;, &#39;ttbar&#39;, &#39;tth&#39;, &#39;ttv&#39;, &#39;vh&#39;, &#39;wjets&#39;, &#39;zjets&#39;], yields={&#39;SRHMEM_mct2&#39;: array([[0.0632191 , 0.07246621, 0.10172258],\n       [0.        , 0.        , 0.        ],\n       [3.75302015, 2.65783516, 0.50767731],\n       [0.51750445, 0.17511258, 0.24253512],\n       [0.02887177, 0.02100665, 0.02574003],\n       [0.24845997, 0.1753172 , 0.2087737 ],\n       [0.0091588 , 0.00875104, 0.00628611],\n       [1.81969673, 1.50564236, 0.5112493 ],\n       [0.        , 0.        , 0.        ]]), &#39;SRLMEM_mct2&#39;: array([[3.82052204e-01, 1.35593506e-01, 1.94599462e-01],\n       [0.00000000e+00, 1.45691835e-03, 2.90519926e-03],\n       [4.61457081e+00, 8.81572109e-01, 8.42905564e-01],\n       [5.09308434e+00, 5.71825876e+00, 3.62723699e+00],\n       [4.06822821e-02, 4.40236482e-02, 3.31321951e-02],\n       [5.26759341e-01, 2.49699573e-01, 2.57289805e-01],\n       [1.10285727e-01, 2.73633320e-01, 4.59391534e-01],\n       [2.12651312e+00, 2.44634767e+00, 1.20104185e+00],\n       [1.12644783e-01, 9.19285982e-02, 5.03640630e-02]]), &#39;SRMMEM_mct2&#39;: array([[9.91915980e-02, 7.44665532e-02, 1.36874077e-01],\n       [3.19024185e-03, 0.00000000e+00, 0.00000000e+00],\n       [9.85802708e-01, 4.55489738e+00, 5.24715540e-01],\n       [1.38164451e+00, 2.92517993e-01, 3.56283632e-01],\n       [3.85231733e-02, 4.34261408e-02, 3.30349523e-02],\n       [7.15405209e-01, 3.54111585e-01, 1.89516278e-01],\n       [8.46001404e-03, 1.53464041e-02, 1.26969534e-02],\n       [6.11133190e-01, 5.93492881e-01, 5.83999648e-01],\n       [0.00000000e+00, 0.00000000e+00, 0.00000000e+00]]), &#39;STCREM_cuts&#39;: array([[3.14170478e+00],\n       [4.11742126e-03],\n       [7.26788434e+01],\n       [4.53738929e+01],\n       [4.51782167e-01],\n       [1.09129178e+01],\n       [5.11802769e-02],\n       [2.45695897e+01],\n       [9.09511597e-01]]), &#39;TRHMEM_cuts&#39;: array([[2.89235253e+00],\n       [1.11293936e-02],\n       [1.10744803e+02],\n       [4.68985225e+02],\n       [6.40599196e-01],\n       [9.54506079e+00],\n       [5.17006891e-02],\n       [4.77496034e+01],\n       [5.30824799e-01]]), &#39;TRLMEM_cuts&#39;: array([[5.18440476e+00],\n       [5.96901744e-03],\n       [1.61542115e+02],\n       [4.62154229e+02],\n       [6.16222757e-01],\n       [8.66493429e+00],\n       [1.12160379e-01],\n       [3.36647913e+01],\n       [9.33575323e-01]]), &#39;TRMMEM_cuts&#39;: array([[2.10852426e+00],\n       [2.54630610e-03],\n       [1.01141610e+02],\n       [3.52178905e+02],\n       [5.09472416e-01],\n       [9.96279674e+00],\n       [1.96465747e-02],\n       [1.15796296e+01],\n       [2.60654270e-01]]), &#39;WREM_cuts&#39;: array([[5.78477012e+00],\n       [1.97377199e-03],\n       [1.26671582e+01],\n       [3.64393053e+01],\n       [7.21030905e-02],\n       [1.86307622e-01],\n       [1.09717400e+00],\n       [8.76147633e+01],\n       [9.78814535e-01]])}, uncertainties={&#39;SRHMEM_mct2&#39;: &lt;Array [1.99, 1.43, 0.629] type=&#39;3 * float64&#39;&gt;, &#39;SRLMEM_mct2&#39;: &lt;Array [2.63, 2.3, 1.45] type=&#39;3 * float64&#39;&gt;, &#39;SRMMEM_mct2&#39;: &lt;Array [1.59, 2.03, 0.627] type=&#39;3 * float64&#39;&gt;, &#39;STCREM_cuts&#39;: &lt;Array [12.5] type=&#39;1 * float64&#39;&gt;, &#39;TRHMEM_cuts&#39;: &lt;Array [24.4] type=&#39;1 * float64&#39;&gt;, &#39;TRLMEM_cuts&#39;: &lt;Array [24.9] type=&#39;1 * float64&#39;&gt;, &#39;TRMMEM_cuts&#39;: &lt;Array [18.3] type=&#39;1 * float64&#39;&gt;, &#39;WREM_cuts&#39;: &lt;Array [12.2] type=&#39;1 * float64&#39;&gt;}, data={&#39;SRHMEM_mct2&#39;: array([6., 5., 3.]), &#39;SRLMEM_mct2&#39;: array([16., 11.,  7.]), &#39;SRMMEM_mct2&#39;: array([4., 7., 2.]), &#39;STCREM_cuts&#39;: array([155.]), &#39;TRHMEM_cuts&#39;: array([641.]), &#39;TRLMEM_cuts&#39;: array([657.]), &#39;TRMMEM_cuts&#39;: array([491.]), &#39;WREM_cuts&#39;: array([144.,   0.,   0.,   0.,   0.,   0.,   0.,   0.,   0.,   0.,   0.,\n         0.,   0.,   0.,   0.,   0.,   0.,   0.,   0.,   0.,   0.,   0.,\n         0.,   0.,   0.,   0.,   0.,   0.,   0.,   0.,   0.,   0.,   0.,\n         0.,   0.,   0.,   0.,   0.,   0.,   0.,   0.,   0.,   0.,   0.,\n         0.,   0.,   0.,   0.,   0.,   0.,   0.,   0.,   0.,   0.,   0.,\n         0.,   0.,   0.,   0.,   0.,   0.,   0.,   0.,   0.,   0.,   0.,\n         0.,   0.,   0.,   0.,   0.,   0.,   0.,   0.,   0.,   0.,   0.,\n         0.,   0.,   0.,   0.,   0.,   0.,   1.,   0.,   0.,   0.,   0.,\n         0.,   0.,   0.,   0.,   1.,   1.,   1.,   1.,   1.,   1.,   1.,\n         1.,   1.,   1.,   1.,   1.,   1.,   1.,   0.,   0.,   0.,   0.,\n         0.,   0.,   0.,   0.,   0.,   0.,   0.,   0.,   0.])})"
     },
     "metadata": {},
     "output_type": "execute_result"
    }
   ],
   "source": [
    "yields = simplify.yields.get_yields((original_model,original_data), original_fit_result)\n",
    "yields"
   ]
  },
  {
   "cell_type": "code",
   "execution_count": 10,
   "metadata": {},
   "outputs": [],
   "source": [
    "# Correlation matrix\n",
    "plt = simplify.plot.correlation_matrix(original_fit_result,\"test/figures/\",pruning_threshold=0.15)\n"
   ]
  },
  {
   "cell_type": "code",
   "execution_count": 11,
   "metadata": {},
   "outputs": [
    {
     "name": "stdout",
     "output_type": "stream",
     "text": [
      "[102 101 100  99  98  97  96  95  94  93  92  91  90  89  88  87  86  85\n",
      "  84  83  82  81  80  79  78  77  76  75  74  73  72  71  70  69  68  67\n",
      "  66  65  64  63  62  61  60  59  58  57  56  55  54  53  52  51  50  49\n",
      "  48  47  46  45  44  43  42  41  40  39  38  37  36  35  34  33  32  31\n",
      "  30  29  28  27  26  25  24  23  22  21  20  19  18  17  16  15  14  13\n",
      "  12  11  10   9   8   7   6   5   4   3   2   1   0]\n",
      "[119 118 117 116 115 114 113 112 111 110 109 108 107 106 105 104 103]\n"
     ]
    }
   ],
   "source": [
    "# Pull plot\n",
    "plt = simplify.plot.pulls(original_fit_result,\"test/figures/\")\n"
   ]
  },
  {
   "cell_type": "code",
   "execution_count": 12,
   "metadata": {},
   "outputs": [],
   "source": [
    "tables = simplify.plot.yieldsTable(spec, \"test/figures/\", original_fit_result)"
   ]
  },
  {
   "cell_type": "code",
   "execution_count": null,
   "metadata": {},
   "outputs": [],
   "source": [
    "stdevs = simplify.model_utils.calculate_stdev(model,fit_result.bestfit,fit_result.uncertainty,fit_result.corr_mat)\n"
   ]
  }
 ],
 "metadata": {
  "language_info": {
   "codemirror_mode": {
    "name": "ipython",
    "version": 3
   },
   "file_extension": ".py",
   "mimetype": "text/x-python",
   "name": "python",
   "nbconvert_exporter": "python",
   "pygments_lexer": "ipython3",
   "version": 3
  },
  "orig_nbformat": 2
 },
 "nbformat": 4,
 "nbformat_minor": 2
}
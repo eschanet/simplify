{
 "cells": [
  {
   "cell_type": "code",
   "execution_count": 2,
   "metadata": {},
   "outputs": [],
   "source": [
    "import pyhf\n",
    "import json\n",
    "import numpy as np\n",
    "\n",
    "import simplify\n",
    "\n",
    "# for uncertainties on fit results, I think we still need minuit as optimiser (performance isn't a problem for this tool)\n",
    "pyhf.set_backend(pyhf.tensorlib, \"minuit\")\n",
    "\n",
    "# Get the workspace from model spec\n",
    "\n",
    "spec = json.load(\n",
    "    open(\n",
    "        \"test/EwkOneLeptonTwoBjets2018/BkgOnly.json\", \"r\"\n",
    "    )\n",
    ")"
   ]
  },
  {
   "cell_type": "code",
   "execution_count": 3,
   "metadata": {},
   "outputs": [],
   "source": [
    "original_ws = pyhf.Workspace(spec)\n",
    "pruned_ws = original_ws.prune(channels=['SRLMEM_mct2','SRMMEM_mct2','SRHMEM_mct2'])\n",
    "no_staterror_ws = original_ws.prune(modifiers=['staterror_SRLMEM_mct2','staterror_SRMMEM_mct2','staterror_SRHMEM_mct2'])"
   ]
  },
  {
   "cell_type": "code",
   "execution_count": null,
   "metadata": {},
   "outputs": [],
   "source": [
    "pruned_model = pruned_ws.model(modifier_settings = {\"normsys\": {\"interpcode\": \"code4\"},\"histosys\": {\"interpcode\": \"code4p\"},},poi_name = None)\n",
    "pruned_data = pruned_ws.data(pruned_model)\n",
    "original_model = original_ws.model(modifier_settings = {\"normsys\": {\"interpcode\": \"code4\"},\"histosys\": {\"interpcode\": \"code4p\"},},poi_name = None)\n",
    "original_data = original_ws.data(original_model)\n",
    "no_staterror_model = no_staterror_ws.model(modifier_settings = {\"normsys\": {\"interpcode\": \"code4\"},\"histosys\": {\"interpcode\": \"code4p\"},},poi_name = None)\n",
    "no_staterror_data = no_staterror_ws.data(no_staterror_model)"
   ]
  },
  {
   "cell_type": "code",
   "execution_count": null,
   "metadata": {},
   "outputs": [],
   "source": [
    "pruned_fit_result = simplify.fitter.fit((pruned_model,pruned_data))\n",
    "original_fit_result = simplify.fitter.fit((original_model,original_data))\n",
    "no_staterror_fit_result = simplify.fitter.fit((no_staterror_model,no_staterror_data))"
   ]
  },
  {
   "cell_type": "code",
   "execution_count": null,
   "metadata": {},
   "outputs": [],
   "source": [
    "pruned_fit_result.labels\n",
    "original_fit_result.labels\n",
    "no_staterror_fit_result.labels.size"
   ]
  },
  {
   "cell_type": "code",
   "execution_count": null,
   "metadata": {},
   "outputs": [],
   "source": [
    "yields = simplify.yields.get_yields((no_staterror_model,no_staterror_data), pruned_fit_result)\n",
    "yields.yields['SRHMEM_mct2']\n",
    "np.sum(yields.yields['SRMMEM_mct2'], axis=0)\n",
    "yields.uncertainties['SRMMEM_mct2']"
   ]
  },
  {
   "cell_type": "code",
   "execution_count": null,
   "metadata": {},
   "outputs": [],
   "source": [
    "# Correlation matrix\n",
    "plt = simplify.plot.correlation_matrix(pruned_fit_result,\"test/figures/\",pruning_threshold=0.1)\n"
   ]
  },
  {
   "cell_type": "code",
   "execution_count": null,
   "metadata": {},
   "outputs": [],
   "source": [
    "# Pull plot\n",
    "plt = simplify.plot.pulls(pruned_fit_result,\"test/figures/\")\n"
   ]
  },
  {
   "cell_type": "code",
   "execution_count": null,
   "metadata": {},
   "outputs": [],
   "source": [
    "stdevs = simplify.model_utils.calculate_stdev(model,fit_result.bestfit,fit_result.uncertainty,fit_result.corr_mat)\n"
   ]
  }
 ],
 "metadata": {
  "language_info": {
   "codemirror_mode": {
    "name": "ipython",
    "version": 3
   },
   "file_extension": ".py",
   "mimetype": "text/x-python",
   "name": "python",
   "nbconvert_exporter": "python",
   "pygments_lexer": "ipython3",
   "version": 3
  },
  "orig_nbformat": 2
 },
 "nbformat": 4,
 "nbformat_minor": 2
}
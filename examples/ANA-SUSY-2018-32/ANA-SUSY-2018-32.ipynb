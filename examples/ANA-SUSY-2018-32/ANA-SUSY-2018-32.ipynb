{
 "cells": [
  {
   "cell_type": "code",
   "execution_count": 1,
   "metadata": {},
   "outputs": [],
   "source": [
    "import pyhf\n",
    "import json\n",
    "import numpy as np\n",
    "\n",
    "import simplify\n",
    "\n",
    "pyhf.set_backend(pyhf.tensorlib, \"minuit\")\n",
    "spec = json.load(open(\"BkgOnly.json\", \"r\"))\n",
    "\n",
    "original_ws = pyhf.Workspace(spec) # origin ws from full LH"
   ]
  },
  {
   "cell_type": "code",
   "execution_count": 3,
   "metadata": {},
   "outputs": [],
   "source": [
    "# get model and data for each ws we just created\n",
    "original_model = original_ws.model(modifier_settings = {\"normsys\": {\"interpcode\": \"code4\"},\"histosys\": {\"interpcode\": \"code4p\"},}, poi_name = None)\n",
    "original_data = original_ws.data(original_model)\n"
   ]
  },
  {
   "cell_type": "code",
   "execution_count": null,
   "metadata": {},
   "outputs": [],
   "source": [
    "# run fit for every ws\n",
    "original_fit_result = simplify.fitter.fit(original_ws)"
   ]
  },
  {
   "cell_type": "code",
   "execution_count": null,
   "metadata": {},
   "outputs": [],
   "source": [
    "yields = simplify.yields.get_yields(original_ws, pruned_fit_result)"
   ]
  },
  {
   "cell_type": "code",
   "execution_count": null,
   "metadata": {},
   "outputs": [],
   "source": [
    "# Correlation matrix\n",
    "plt = simplify.plot.correlation_matrix(pruned_fit_result,\"/Users/ericschanet/Documents/Physik_PhD/simplify/test/ANA-SUSY-2018-32/figures/\",pruning_threshold=0.15)"
   ]
  },
  {
   "cell_type": "code",
   "execution_count": null,
   "metadata": {},
   "outputs": [],
   "source": [
    "# Pull plot\n",
    "plt = simplify.plot.pulls(pruned_fit_result,\"/Users/ericschanet/Documents/Physik_PhD/simplify/test/ANA-SUSY-2018-32/figures/\")"
   ]
  },
  {
   "cell_type": "code",
   "execution_count": null,
   "metadata": {},
   "outputs": [],
   "source": [
    "# Yieldstables\n",
    "tables = simplify.plot.yieldsTable(spec, \"/Users/ericschanet/Documents/Physik_PhD/simplify/test/ANA-SUSY-2018-32/figures/\", original_fit_result)"
   ]
  }
 ],
 "metadata": {
  "kernelspec": {
   "display_name": "pyhf",
   "language": "python",
   "name": "pyhf"
  },
  "language_info": {
   "codemirror_mode": {
    "name": "ipython",
    "version": 3
   },
   "file_extension": ".py",
   "mimetype": "text/x-python",
   "name": "python",
   "nbconvert_exporter": "python",
   "pygments_lexer": "ipython3",
   "version": "3.6.12-final"
  }
 },
 "nbformat": 4,
 "nbformat_minor": 2
}
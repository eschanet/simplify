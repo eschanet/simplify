{
 "cells": [
  {
   "cell_type": "code",
   "execution_count": 13,
   "metadata": {},
   "outputs": [],
   "source": [
    "import pyhf\n",
    "import json\n",
    "import numpy as np\n",
    "\n",
    "import simplify\n",
    "\n",
    "pyhf.set_backend(pyhf.tensorlib, \"minuit\")\n",
    "spec = json.load(open(\"C1N2_Wh_hbb_700_250.json\", \"r\"))\n",
    "\n",
    "original_ws = pyhf.Workspace(spec) # origin ws from full LH\n",
    "ws = original_ws.prune(\n",
    "    #samples=['Signal']\n",
    ")  # prune out signal from original ws"
   ]
  },
  {
   "cell_type": "code",
   "execution_count": 14,
   "metadata": {},
   "outputs": [],
   "source": [
    "# get model and data for each ws we just created\n",
    "model = ws.model(modifier_settings = {\"normsys\": {\"interpcode\": \"code4\"},\"histosys\": {\"interpcode\": \"code4p\"},}, poi_name = None)\n",
    "data = ws.data(model)"
   ]
  },
  {
   "cell_type": "code",
   "execution_count": 15,
   "metadata": {},
   "outputs": [
    {
     "name": "stderr",
     "output_type": "stream",
     "text": [
      "<\u001b[1;32mINFO\u001b[0m> simplify.logger.simplify.fitter fit: performing maximum likelihood fit\n",
      "------------------------------------------------------------------\n",
      "| FCN = 68.22                   |      Ncalls=37 (37 total)      |\n",
      "| EDM = 1.42e-05 (Goal: 0.0002) |            up = 1.0            |\n",
      "------------------------------------------------------------------\n",
      "|  Valid Min.   | Valid Param.  | Above EDM | Reached call limit |\n",
      "------------------------------------------------------------------\n",
      "|     True      |     True      |   False   |       False        |\n",
      "------------------------------------------------------------------\n",
      "| Hesse failed  |   Has cov.    | Accurate  | Pos. def. | Forced |\n",
      "------------------------------------------------------------------\n",
      "|     False     |     True      |   True    |   True    | False  |\n",
      "------------------------------------------------------------------\n"
     ]
    }
   ],
   "source": [
    "# run fit for every ws\n",
    "fit_result = simplify.fitter.fit(ws)"
   ]
  },
  {
   "cell_type": "code",
   "execution_count": 17,
   "metadata": {},
   "outputs": [
    {
     "data": {
      "text/plain": "Yields(regions=['SRHMEM_mct2', 'SRLMEM_mct2', 'SRMMEM_mct2', 'STCREM_cuts', 'TRHMEM_cuts', 'TRLMEM_cuts', 'TRMMEM_cuts', 'WREM_cuts'], samples=['Bkg', 'C1N2_Wh_hbb_700_250'], yields={'SRHMEM_mct2': array([[6.52374832, 4.67633267, 1.63049909],\n       [0.56091697, 0.58828932, 1.09900692]]), 'SRLMEM_mct2': array([[13.11764798,  9.93930176,  6.73005524],\n       [ 0.06040653,  0.09185968,  0.27857808]]), 'SRMMEM_mct2': array([[3.91048419, 6.01382343, 1.86357055],\n       [0.08934173, 0.20183738, 0.37748191]]), 'STCREM_cuts': array([[1.58621093e+02],\n       [5.95553252e-02]]), 'TRHMEM_cuts': array([[6.42177938e+02],\n       [3.56787818e-01]]), 'TRLMEM_cuts': array([[6.73928724e+02],\n       [2.77146753e-02]]), 'TRMMEM_cuts': array([[4.78535031e+02],\n       [2.41988446e-02]]), 'WREM_cuts': array([[1.45356681e+02],\n       [7.17497514e-03]])}, uncertainties={'SRHMEM_mct2': <Array [0.807, 0.751, 1.37] type='3 * float64'>, 'SRLMEM_mct2': <Array [0.884, 0.758, 0.505] type='3 * float64'>, 'SRMMEM_mct2': <Array [0.52, 0.656, 0.462] type='3 * float64'>, 'STCREM_cuts': <Array [4.29] type='1 * float64'>, 'TRHMEM_cuts': <Array [8.25] type='1 * float64'>, 'TRLMEM_cuts': <Array [8.58] type='1 * float64'>, 'TRMMEM_cuts': <Array [6.3] type='1 * float64'>, 'WREM_cuts': <Array [4.2] type='1 * float64'>}, data={'SRHMEM_mct2': array([6, 5, 3]), 'SRLMEM_mct2': array([16, 11,  7]), 'SRMMEM_mct2': array([4, 7, 2]), 'STCREM_cuts': array([155]), 'TRHMEM_cuts': array([641]), 'TRLMEM_cuts': array([657]), 'TRMMEM_cuts': array([491]), 'WREM_cuts': array([144])})"
     },
     "execution_count": 17,
     "metadata": {},
     "output_type": "execute_result"
    }
   ],
   "source": [
    "yields = simplify.yields.get_yields(ws, fit_result)\n",
    "yields"
   ]
  },
  {
   "cell_type": "code",
   "execution_count": 14,
   "metadata": {},
   "outputs": [],
   "source": [
    "# Correlation matrix\n",
    "plt = simplify.plot.correlation_matrix(fit_result,\"/Users/ericschanet/Documents/Physik_PhD/simplify/test/ANA-SUSY-2019-08/figures/\",pruning_threshold=0.15)"
   ]
  },
  {
   "cell_type": "code",
   "execution_count": 15,
   "metadata": {},
   "outputs": [
    {
     "name": "stdout",
     "output_type": "stream",
     "text": [
      "[102 101 100  99  98  97  96  95  94  93  92  91  90  89  88  87  86  85\n",
      "  84  83  82  81  80  79  78  77  76  75  74  73  72  71  70  69  68  67\n",
      "  66  65  64  63  62  61  60  59  58  57  56  55  54  53  52  51  50  49\n",
      "  48  47  46  45  44  43  42  41  40  39  38  37  36  35  34  33  32  31\n",
      "  30  29  28  27  26  25  24  23  22  21  20  19  18  17  16  15  14  13\n",
      "  12  11  10   9   8   7   6   5   4   3   2   1   0]\n",
      "[110 109 108 107 106 105 104 103]\n"
     ]
    }
   ],
   "source": [
    "# Pull plot\n",
    "plt = simplify.plot.pulls(it_result,\"/Users/ericschanet/Documents/Physik_PhD/simplify/test/ANA-SUSY-2019-08/figures/\")"
   ]
  },
  {
   "cell_type": "code",
   "execution_count": 19,
   "metadata": {},
   "outputs": [
    {
     "name": "stdout",
     "output_type": "stream",
     "text": [
      "SRHMEM_mct2\n",
      "3\n",
      "['Bkg', 'C1N2_Wh_hbb_700_250']\n",
      "[6 5 3]\n",
      "[[6.52374832 4.67633267 1.63049909]\n",
      " [0.56091697 0.58828932 1.09900692]]\n",
      "[0.807, 0.751, 1.37]\n",
      "SRLMEM_mct2\n",
      "3\n",
      "['Bkg', 'C1N2_Wh_hbb_700_250']\n",
      "[16 11  7]\n",
      "[[13.11764798  9.93930176  6.73005524]\n",
      " [ 0.06040653  0.09185968  0.27857808]]\n",
      "[0.884, 0.758, 0.505]\n",
      "SRMMEM_mct2\n",
      "3\n",
      "['Bkg', 'C1N2_Wh_hbb_700_250']\n",
      "[4 7 2]\n",
      "[[3.91048419 6.01382343 1.86357055]\n",
      " [0.08934173 0.20183738 0.37748191]]\n",
      "[0.52, 0.656, 0.462]\n",
      "STCREM_cuts\n",
      "1\n",
      "['Bkg', 'C1N2_Wh_hbb_700_250']\n",
      "[155]\n",
      "[[1.58621093e+02]\n",
      " [5.95553252e-02]]\n",
      "[4.29]\n",
      "TRHMEM_cuts\n",
      "1\n",
      "['Bkg', 'C1N2_Wh_hbb_700_250']\n",
      "[641]\n",
      "[[6.42177938e+02]\n",
      " [3.56787818e-01]]\n",
      "[8.25]\n",
      "TRLMEM_cuts\n",
      "1\n",
      "['Bkg', 'C1N2_Wh_hbb_700_250']\n",
      "[657]\n",
      "[[6.73928724e+02]\n",
      " [2.77146753e-02]]\n",
      "[8.58]\n",
      "TRMMEM_cuts\n",
      "1\n",
      "['Bkg', 'C1N2_Wh_hbb_700_250']\n",
      "[491]\n",
      "[[4.78535031e+02]\n",
      " [2.41988446e-02]]\n",
      "[6.3]\n",
      "WREM_cuts\n",
      "1\n",
      "['Bkg', 'C1N2_Wh_hbb_700_250']\n",
      "[144]\n",
      "[[1.45356681e+02]\n",
      " [7.17497514e-03]]\n",
      "[4.2]\n"
     ]
    }
   ],
   "source": [
    "tables = simplify.plot.yieldsTable(no_staterror_ws, \"/Users/ericschanet/Documents/Physik_PhD/simplify/test/ANA-SUSY-2019-08/figures/\", pruned_fit_result)"
   ]
  },
  {
   "cell_type": "code",
   "execution_count": null,
   "metadata": {},
   "outputs": [],
   "source": [
    "stdevs = simplify.model_utils.calculate_stdev(model,fit_result.bestfit,fit_result.uncertainty,fit_result.corr_mat)\n"
   ]
  }
 ],
 "metadata": {
  "kernelspec": {
   "display_name": "Python 3.6.12 64-bit (conda)",
   "metadata": {
    "interpreter": {
     "hash": "a7c392076915a63be4ab0fe048661ebd9b40d96fcc4aae6d0f790effc979ac0f"
    }
   },
   "name": "Python 3.6.12 64-bit (conda)"
  },
  "language_info": {
   "codemirror_mode": {
    "name": "ipython",
    "version": 3
   },
   "file_extension": ".py",
   "mimetype": "text/x-python",
   "name": "python",
   "nbconvert_exporter": "python",
   "pygments_lexer": "ipython3",
   "version": "3.6.12-final"
  },
  "orig_nbformat": 2
 },
 "nbformat": 4,
 "nbformat_minor": 2
}
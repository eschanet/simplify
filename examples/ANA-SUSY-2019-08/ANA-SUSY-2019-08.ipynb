{
 "cells": [
  {
   "cell_type": "code",
   "execution_count": 2,
   "metadata": {},
   "outputs": [],
   "source": [
    "import pyhf\n",
    "import json\n",
    "import numpy as np\n",
    "\n",
    "import simplify\n",
    "\n",
    "pyhf.set_backend(pyhf.tensorlib, \"minuit\")\n",
    "spec = json.load(open(\"BkgOnly.json\", \"r\"))\n",
    "\n",
    "original_ws = pyhf.Workspace(spec) # origin ws from full LH\n",
    "pruned_ws = original_ws.prune(channels=['SRLMEM_mct2','SRMMEM_mct2','SRHMEM_mct2']) # prune out SRs from original ws\n",
    "sr_only_ws = original_ws.prune(channels=[])\n",
    "no_staterror_ws = original_ws.prune(modifiers=['staterror_SRLMEM_mct2','staterror_SRMMEM_mct2','staterror_SRHMEM_mct2']) # prune out staterror from SRs, but leave SRs in place for now"
   ]
  },
  {
   "cell_type": "code",
   "execution_count": 3,
   "metadata": {},
   "outputs": [],
   "source": [
    "# get model and data for each ws we just created\n",
    "original_model = original_ws.model(modifier_settings = {\"normsys\": {\"interpcode\": \"code4\"},\"histosys\": {\"interpcode\": \"code4p\"},}, poi_name = None)\n",
    "original_data = original_ws.data(original_model)\n",
    "pruned_model = pruned_ws.model(modifier_settings = {\"normsys\": {\"interpcode\": \"code4\"},\"histosys\": {\"interpcode\": \"code4p\"},},poi_name = None)\n",
    "pruned_data = pruned_ws.data(pruned_model)\n",
    "no_staterror_model = no_staterror_ws.model(modifier_settings = {\"normsys\": {\"interpcode\": \"code4\"},\"histosys\": {\"interpcode\": \"code4p\"},},poi_name = None)\n",
    "no_staterror_data = no_staterror_ws.data(no_staterror_model)"
   ]
  },
  {
   "cell_type": "code",
   "execution_count": 5,
   "metadata": {},
   "outputs": [
    {
     "name": "stderr",
     "output_type": "stream",
     "text": [
      "&lt;\u001b[1;32mINFO\u001b[0m&gt; simplify.logger.simplify.fitter fit: performing maximum likelihood fit\n"
     ]
    },
    {
     "name": "stderr",
     "output_type": "stream",
     "text": [
      "&lt;\u001b[1;32mINFO\u001b[0m&gt; simplify.logger.simplify.fitter fit: performing maximum likelihood fit\n"
     ]
    },
    {
     "name": "stdout",
     "output_type": "stream",
     "text": [
      "------------------------------------------------------------------\n",
      "| FCN = 216.3                   |   Ncalls=13471 (13471 total)   |\n",
      "| EDM = 0.0001 (Goal: 0.0002)   |            up = 1.0            |\n",
      "------------------------------------------------------------------\n",
      "|  Valid Min.   | Valid Param.  | Above EDM | Reached call limit |\n",
      "------------------------------------------------------------------\n",
      "|     True      |     True      |   False   |       False        |\n",
      "------------------------------------------------------------------\n",
      "| Hesse failed  |   Has cov.    | Accurate  | Pos. def. | Forced |\n",
      "------------------------------------------------------------------\n",
      "|     False     |     True      |   True    |   True    | False  |\n",
      "------------------------------------------------------------------\n"
     ]
    },
    {
     "name": "stderr",
     "output_type": "stream",
     "text": [
      "&lt;\u001b[1;32mINFO\u001b[0m&gt; simplify.logger.simplify.fitter fit: performing maximum likelihood fit\n"
     ]
    },
    {
     "name": "stdout",
     "output_type": "stream",
     "text": [
      "------------------------------------------------------------------\n",
      "| FCN = 192.5                   |   Ncalls=11741 (11741 total)   |\n",
      "| EDM = 6.24e-05 (Goal: 0.0002) |            up = 1.0            |\n",
      "------------------------------------------------------------------\n",
      "|  Valid Min.   | Valid Param.  | Above EDM | Reached call limit |\n",
      "------------------------------------------------------------------\n",
      "|     True      |     True      |   False   |       False        |\n",
      "------------------------------------------------------------------\n",
      "| Hesse failed  |   Has cov.    | Accurate  | Pos. def. | Forced |\n",
      "------------------------------------------------------------------\n",
      "|     False     |     True      |   True    |   True    | False  |\n",
      "------------------------------------------------------------------\n"
     ]
    },
    {
     "name": "stdout",
     "output_type": "stream",
     "text": [
      "------------------------------------------------------------------\n",
      "| FCN = 230.6                   |   Ncalls=11970 (11970 total)   |\n",
      "| EDM = 0.000122 (Goal: 0.0002) |            up = 1.0            |\n",
      "------------------------------------------------------------------\n",
      "|  Valid Min.   | Valid Param.  | Above EDM | Reached call limit |\n",
      "------------------------------------------------------------------\n",
      "|     True      |     True      |   False   |       False        |\n",
      "------------------------------------------------------------------\n",
      "| Hesse failed  |   Has cov.    | Accurate  | Pos. def. | Forced |\n",
      "------------------------------------------------------------------\n",
      "|     False     |     True      |   True    |   True    | False  |\n",
      "------------------------------------------------------------------\n"
     ]
    }
   ],
   "source": [
    "# run fit for every ws\n",
    "original_fit_result = simplify.fitter.fit(original_ws)\n",
    "pruned_fit_result = simplify.fitter.fit(pruned_ws)\n",
    "no_staterror_fit_result = simplify.fitter.fit(no_staterror_ws)"
   ]
  },
  {
   "cell_type": "code",
   "execution_count": 20,
   "metadata": {},
   "outputs": [
    {
     "ename": "IndexError",
     "evalue": "index 112 is out of bounds for axis 0 with size 112",
     "output_type": "error",
     "traceback": [
      "\u001b[0;31m---------------------------------------------------------------------------\u001b[0m",
      "\u001b[0;31mIndexError\u001b[0m                                Traceback (most recent call last)",
      "\u001b[0;32m<ipython-input-20-347295a4a63c>\u001b[0m in \u001b[0;36m<module>\u001b[0;34m\u001b[0m\n\u001b[0;32m----> 1\u001b[0;31m \u001b[0myields\u001b[0m \u001b[0;34m=\u001b[0m \u001b[0msimplify\u001b[0m\u001b[0;34m.\u001b[0m\u001b[0myields\u001b[0m\u001b[0;34m.\u001b[0m\u001b[0mget_yields\u001b[0m\u001b[0;34m(\u001b[0m\u001b[0moriginal_ws\u001b[0m\u001b[0;34m,\u001b[0m \u001b[0mpruned_fit_result\u001b[0m\u001b[0;34m)\u001b[0m\u001b[0;34m\u001b[0m\u001b[0;34m\u001b[0m\u001b[0m\n\u001b[0m",
      "\u001b[0;32m~/Documents/Physik_PhD/simplify/simplify/yields.py\u001b[0m in \u001b[0;36mget_yields\u001b[0;34m(spec, fit_results)\u001b[0m\n\u001b[1;32m    140\u001b[0m     \"\"\"\n\u001b[1;32m    141\u001b[0m \u001b[0;34m\u001b[0m\u001b[0m\n\u001b[0;32m--> 142\u001b[0;31m     \u001b[0;32mreturn\u001b[0m \u001b[0m_get_data_yield_uncertainties\u001b[0m\u001b[0;34m(\u001b[0m\u001b[0mspec\u001b[0m\u001b[0;34m,\u001b[0m \u001b[0mfit_results\u001b[0m\u001b[0;34m)\u001b[0m\u001b[0;34m\u001b[0m\u001b[0;34m\u001b[0m\u001b[0m\n\u001b[0m",
      "\u001b[0;32m~/Documents/Physik_PhD/simplify/simplify/yields.py\u001b[0m in \u001b[0;36m_get_data_yield_uncertainties\u001b[0;34m(spec, fit_results)\u001b[0m\n\u001b[1;32m    100\u001b[0m \u001b[0;34m\u001b[0m\u001b[0m\n\u001b[1;32m    101\u001b[0m     yields_combined = model.main_model.expected_data(\n\u001b[0;32m--> 102\u001b[0;31m         \u001b[0mparam_values\u001b[0m\u001b[0;34m,\u001b[0m \u001b[0mreturn_by_sample\u001b[0m\u001b[0;34m=\u001b[0m\u001b[0;32mTrue\u001b[0m\u001b[0;34m\u001b[0m\u001b[0;34m\u001b[0m\u001b[0m\n\u001b[0m\u001b[1;32m    103\u001b[0m     )  # all channels concatenated\n\u001b[1;32m    104\u001b[0m \u001b[0;34m\u001b[0m\u001b[0m\n",
      "\u001b[0;32m~/anaconda3/envs/pyhf/lib/python3.6/site-packages/pyhf/pdf.py\u001b[0m in \u001b[0;36mexpected_data\u001b[0;34m(self, pars, return_by_sample)\u001b[0m\n\u001b[1;32m    516\u001b[0m         \u001b[0mtensorlib\u001b[0m\u001b[0;34m,\u001b[0m \u001b[0m_\u001b[0m \u001b[0;34m=\u001b[0m \u001b[0mget_backend\u001b[0m\u001b[0;34m(\u001b[0m\u001b[0;34m)\u001b[0m\u001b[0;34m\u001b[0m\u001b[0;34m\u001b[0m\u001b[0m\n\u001b[1;32m    517\u001b[0m         \u001b[0mpars\u001b[0m \u001b[0;34m=\u001b[0m \u001b[0mtensorlib\u001b[0m\u001b[0;34m.\u001b[0m\u001b[0mastensor\u001b[0m\u001b[0;34m(\u001b[0m\u001b[0mpars\u001b[0m\u001b[0;34m)\u001b[0m\u001b[0;34m\u001b[0m\u001b[0;34m\u001b[0m\u001b[0m\n\u001b[0;32m--> 518\u001b[0;31m         \u001b[0mdeltas\u001b[0m\u001b[0;34m,\u001b[0m \u001b[0mfactors\u001b[0m \u001b[0;34m=\u001b[0m \u001b[0mself\u001b[0m\u001b[0;34m.\u001b[0m\u001b[0m_modifications\u001b[0m\u001b[0;34m(\u001b[0m\u001b[0mpars\u001b[0m\u001b[0;34m)\u001b[0m\u001b[0;34m\u001b[0m\u001b[0;34m\u001b[0m\u001b[0m\n\u001b[0m\u001b[1;32m    519\u001b[0m \u001b[0;34m\u001b[0m\u001b[0m\n\u001b[1;32m    520\u001b[0m         \u001b[0mallsum\u001b[0m \u001b[0;34m=\u001b[0m \u001b[0mtensorlib\u001b[0m\u001b[0;34m.\u001b[0m\u001b[0mconcatenate\u001b[0m\u001b[0;34m(\u001b[0m\u001b[0mdeltas\u001b[0m \u001b[0;34m+\u001b[0m \u001b[0;34m[\u001b[0m\u001b[0mself\u001b[0m\u001b[0;34m.\u001b[0m\u001b[0mnominal_rates\u001b[0m\u001b[0;34m]\u001b[0m\u001b[0;34m)\u001b[0m\u001b[0;34m\u001b[0m\u001b[0;34m\u001b[0m\u001b[0m\n",
      "\u001b[0;32m~/anaconda3/envs/pyhf/lib/python3.6/site-packages/pyhf/pdf.py\u001b[0m in \u001b[0;36m_modifications\u001b[0;34m(self, pars)\u001b[0m\n\u001b[1;32m    481\u001b[0m             filter(\n\u001b[1;32m    482\u001b[0m                 \u001b[0;32mlambda\u001b[0m \u001b[0mx\u001b[0m\u001b[0;34m:\u001b[0m \u001b[0mx\u001b[0m \u001b[0;32mis\u001b[0m \u001b[0;32mnot\u001b[0m \u001b[0;32mNone\u001b[0m\u001b[0;34m,\u001b[0m\u001b[0;34m\u001b[0m\u001b[0;34m\u001b[0m\u001b[0m\n\u001b[0;32m--> 483\u001b[0;31m                 \u001b[0;34m[\u001b[0m\u001b[0mself\u001b[0m\u001b[0;34m.\u001b[0m\u001b[0mmodifiers_appliers\u001b[0m\u001b[0;34m[\u001b[0m\u001b[0mk\u001b[0m\u001b[0;34m]\u001b[0m\u001b[0;34m.\u001b[0m\u001b[0mapply\u001b[0m\u001b[0;34m(\u001b[0m\u001b[0mpars\u001b[0m\u001b[0;34m)\u001b[0m \u001b[0;32mfor\u001b[0m \u001b[0mk\u001b[0m \u001b[0;32min\u001b[0m \u001b[0mself\u001b[0m\u001b[0;34m.\u001b[0m\u001b[0m_factor_mods\u001b[0m\u001b[0;34m]\u001b[0m\u001b[0;34m,\u001b[0m\u001b[0;34m\u001b[0m\u001b[0;34m\u001b[0m\u001b[0m\n\u001b[0m\u001b[1;32m    484\u001b[0m             )\n\u001b[1;32m    485\u001b[0m         )\n",
      "\u001b[0;32m~/anaconda3/envs/pyhf/lib/python3.6/site-packages/pyhf/pdf.py\u001b[0m in \u001b[0;36m<listcomp>\u001b[0;34m(.0)\u001b[0m\n\u001b[1;32m    481\u001b[0m             filter(\n\u001b[1;32m    482\u001b[0m                 \u001b[0;32mlambda\u001b[0m \u001b[0mx\u001b[0m\u001b[0;34m:\u001b[0m \u001b[0mx\u001b[0m \u001b[0;32mis\u001b[0m \u001b[0;32mnot\u001b[0m \u001b[0;32mNone\u001b[0m\u001b[0;34m,\u001b[0m\u001b[0;34m\u001b[0m\u001b[0;34m\u001b[0m\u001b[0m\n\u001b[0;32m--> 483\u001b[0;31m                 \u001b[0;34m[\u001b[0m\u001b[0mself\u001b[0m\u001b[0;34m.\u001b[0m\u001b[0mmodifiers_appliers\u001b[0m\u001b[0;34m[\u001b[0m\u001b[0mk\u001b[0m\u001b[0;34m]\u001b[0m\u001b[0;34m.\u001b[0m\u001b[0mapply\u001b[0m\u001b[0;34m(\u001b[0m\u001b[0mpars\u001b[0m\u001b[0;34m)\u001b[0m \u001b[0;32mfor\u001b[0m \u001b[0mk\u001b[0m \u001b[0;32min\u001b[0m \u001b[0mself\u001b[0m\u001b[0;34m.\u001b[0m\u001b[0m_factor_mods\u001b[0m\u001b[0;34m]\u001b[0m\u001b[0;34m,\u001b[0m\u001b[0;34m\u001b[0m\u001b[0;34m\u001b[0m\u001b[0m\n\u001b[0m\u001b[1;32m    484\u001b[0m             )\n\u001b[1;32m    485\u001b[0m         )\n",
      "\u001b[0;32m~/anaconda3/envs/pyhf/lib/python3.6/site-packages/pyhf/modifiers/staterror.py\u001b[0m in \u001b[0;36mapply\u001b[0;34m(self, pars)\u001b[0m\n\u001b[1;32m    126\u001b[0m         \u001b[0;32melse\u001b[0m\u001b[0;34m:\u001b[0m\u001b[0;34m\u001b[0m\u001b[0;34m\u001b[0m\u001b[0m\n\u001b[1;32m    127\u001b[0m             \u001b[0mflat_pars\u001b[0m \u001b[0;34m=\u001b[0m \u001b[0mtensorlib\u001b[0m\u001b[0;34m.\u001b[0m\u001b[0mreshape\u001b[0m\u001b[0;34m(\u001b[0m\u001b[0mpars\u001b[0m\u001b[0;34m,\u001b[0m \u001b[0;34m(\u001b[0m\u001b[0;34m-\u001b[0m\u001b[0;36m1\u001b[0m\u001b[0;34m,\u001b[0m\u001b[0;34m)\u001b[0m\u001b[0;34m)\u001b[0m\u001b[0;34m\u001b[0m\u001b[0;34m\u001b[0m\u001b[0m\n\u001b[0;32m--> 128\u001b[0;31m         \u001b[0mstatfactors\u001b[0m \u001b[0;34m=\u001b[0m \u001b[0mtensorlib\u001b[0m\u001b[0;34m.\u001b[0m\u001b[0mgather\u001b[0m\u001b[0;34m(\u001b[0m\u001b[0mflat_pars\u001b[0m\u001b[0;34m,\u001b[0m \u001b[0mself\u001b[0m\u001b[0;34m.\u001b[0m\u001b[0maccess_field\u001b[0m\u001b[0;34m)\u001b[0m\u001b[0;34m\u001b[0m\u001b[0;34m\u001b[0m\u001b[0m\n\u001b[0m\u001b[1;32m    129\u001b[0m         \u001b[0mresults_staterr\u001b[0m \u001b[0;34m=\u001b[0m \u001b[0mtensorlib\u001b[0m\u001b[0;34m.\u001b[0m\u001b[0meinsum\u001b[0m\u001b[0;34m(\u001b[0m\u001b[0;34m'mab,s->msab'\u001b[0m\u001b[0;34m,\u001b[0m \u001b[0mstatfactors\u001b[0m\u001b[0;34m,\u001b[0m \u001b[0mself\u001b[0m\u001b[0;34m.\u001b[0m\u001b[0msample_ones\u001b[0m\u001b[0;34m)\u001b[0m\u001b[0;34m\u001b[0m\u001b[0;34m\u001b[0m\u001b[0m\n\u001b[1;32m    130\u001b[0m         results_staterr = tensorlib.where(\n",
      "\u001b[0;32m~/anaconda3/envs/pyhf/lib/python3.6/site-packages/pyhf/tensor/numpy_backend.py\u001b[0m in \u001b[0;36mgather\u001b[0;34m(self, tensor, indices)\u001b[0m\n\u001b[1;32m    175\u001b[0m \u001b[0;34m\u001b[0m\u001b[0m\n\u001b[1;32m    176\u001b[0m     \u001b[0;32mdef\u001b[0m \u001b[0mgather\u001b[0m\u001b[0;34m(\u001b[0m\u001b[0mself\u001b[0m\u001b[0;34m,\u001b[0m \u001b[0mtensor\u001b[0m\u001b[0;34m,\u001b[0m \u001b[0mindices\u001b[0m\u001b[0;34m)\u001b[0m\u001b[0;34m:\u001b[0m\u001b[0;34m\u001b[0m\u001b[0;34m\u001b[0m\u001b[0m\n\u001b[0;32m--> 177\u001b[0;31m         \u001b[0;32mreturn\u001b[0m \u001b[0mtensor\u001b[0m\u001b[0;34m[\u001b[0m\u001b[0mindices\u001b[0m\u001b[0;34m]\u001b[0m\u001b[0;34m\u001b[0m\u001b[0;34m\u001b[0m\u001b[0m\n\u001b[0m\u001b[1;32m    178\u001b[0m \u001b[0;34m\u001b[0m\u001b[0m\n\u001b[1;32m    179\u001b[0m     \u001b[0;32mdef\u001b[0m \u001b[0mboolean_mask\u001b[0m\u001b[0;34m(\u001b[0m\u001b[0mself\u001b[0m\u001b[0;34m,\u001b[0m \u001b[0mtensor\u001b[0m\u001b[0;34m,\u001b[0m \u001b[0mmask\u001b[0m\u001b[0;34m)\u001b[0m\u001b[0;34m:\u001b[0m\u001b[0;34m\u001b[0m\u001b[0;34m\u001b[0m\u001b[0m\n",
      "\u001b[0;31mIndexError\u001b[0m: index 112 is out of bounds for axis 0 with size 112"
     ]
    }
   ],
   "source": [
    "yields = simplify.yields.get_yields(original_ws, pruned_fit_result)"
   ]
  },
  {
   "cell_type": "code",
   "execution_count": 14,
   "metadata": {},
   "outputs": [],
   "source": [
    "# Correlation matrix\n",
    "plt = simplify.plot.correlation_matrix(pruned_fit_result,\"/Users/ericschanet/Documents/Physik_PhD/simplify/test/ANA-SUSY-2019-08/figures/\",pruning_threshold=0.15)"
   ]
  },
  {
   "cell_type": "code",
   "execution_count": 15,
   "metadata": {},
   "outputs": [
    {
     "name": "stdout",
     "output_type": "stream",
     "text": [
      "[102 101 100  99  98  97  96  95  94  93  92  91  90  89  88  87  86  85\n",
      "  84  83  82  81  80  79  78  77  76  75  74  73  72  71  70  69  68  67\n",
      "  66  65  64  63  62  61  60  59  58  57  56  55  54  53  52  51  50  49\n",
      "  48  47  46  45  44  43  42  41  40  39  38  37  36  35  34  33  32  31\n",
      "  30  29  28  27  26  25  24  23  22  21  20  19  18  17  16  15  14  13\n",
      "  12  11  10   9   8   7   6   5   4   3   2   1   0]\n",
      "[110 109 108 107 106 105 104 103]\n"
     ]
    }
   ],
   "source": [
    "# Pull plot\n",
    "plt = simplify.plot.pulls(pruned_fit_result,\"/Users/ericschanet/Documents/Physik_PhD/simplify/test/ANA-SUSY-2019-08/figures/\")"
   ]
  },
  {
   "cell_type": "code",
   "execution_count": 19,
   "metadata": {},
   "outputs": [
    {
     "name": "stdout",
     "output_type": "stream",
     "text": [
      "SRHMEM_mct2\n",
      "3\n",
      "[&#39;diboson&#39;, &#39;multiboson&#39;, &#39;singletop&#39;, &#39;ttbar&#39;, &#39;tth&#39;, &#39;ttv&#39;, &#39;vh&#39;, &#39;wjets&#39;, &#39;zjets&#39;]\n",
      "[6. 5. 3.]\n",
      "[[0.05658858 0.07467265 0.07639083]\n",
      " [0.         0.         0.        ]\n",
      " [0.92094008 0.91788417 0.16163591]\n",
      " [0.83047799 0.35888064 0.22377861]\n",
      " [0.02855027 0.02428722 0.0226739 ]\n",
      " [0.2985188  0.16084469 0.17998547]\n",
      " [0.00980493 0.00849921 0.00567341]\n",
      " [1.91251501 1.37325671 0.44915412]\n",
      " [0.         0.         0.        ]]\n",
      "[1.69, 1.07, 0.312]\n",
      "SRLMEM_mct2\n",
      "3\n",
      "[&#39;diboson&#39;, &#39;multiboson&#39;, &#39;singletop&#39;, &#39;ttbar&#39;, &#39;tth&#39;, &#39;ttv&#39;, &#39;vh&#39;, &#39;wjets&#39;, &#39;zjets&#39;]\n",
      "[16. 11.  7.]\n",
      "[[3.92604699e-01 8.79654422e-02 1.83989358e-01]\n",
      " [0.00000000e+00 3.96619511e-03 4.74127585e-04]\n",
      " [1.26582472e+00 8.73986196e-01 6.02316203e-01]\n",
      " [4.34996128e+00 7.27007547e+00 4.59165819e+00]\n",
      " [4.02627522e-02 4.19713043e-02 3.44786553e-02]\n",
      " [5.35742596e-01 2.48660162e-01 2.34057514e-01]\n",
      " [9.87307981e-02 2.77733424e-01 4.59474808e-01]\n",
      " [2.00485630e+00 2.41494326e+00 1.12657608e+00]\n",
      " [1.38027530e-01 7.06974198e-02 4.59581173e-02]]\n",
      "[2.51, 2.77, 1.33]\n",
      "SRMMEM_mct2\n",
      "3\n",
      "[&#39;diboson&#39;, &#39;multiboson&#39;, &#39;singletop&#39;, &#39;ttbar&#39;, &#39;tth&#39;, &#39;ttv&#39;, &#39;vh&#39;, &#39;wjets&#39;, &#39;zjets&#39;]\n",
      "[4. 7. 2.]\n",
      "[[0.08254552 0.06528097 0.14278665]\n",
      " [0.00334413 0.         0.        ]\n",
      " [1.58424041 1.01036005 0.15070632]\n",
      " [1.61975968 0.8139109  0.2977556 ]\n",
      " [0.03752225 0.04127302 0.03473129]\n",
      " [0.64450003 0.34159937 0.19397323]\n",
      " [0.00778088 0.01495082 0.01141724]\n",
      " [0.60671881 0.34527402 0.57285284]\n",
      " [0.         0.         0.        ]]\n",
      "[1.51, 1.08, 0.334]\n",
      "STCREM_cuts\n",
      "1\n",
      "[&#39;diboson&#39;, &#39;multiboson&#39;, &#39;singletop&#39;, &#39;ttbar&#39;, &#39;tth&#39;, &#39;ttv&#39;, &#39;vh&#39;, &#39;wjets&#39;, &#39;zjets&#39;]\n",
      "[155.]\n",
      "[[2.83862962e+00]\n",
      " [4.08515630e-03]\n",
      " [5.66980340e+01]\n",
      " [5.90115637e+01]\n",
      " [4.52711254e-01]\n",
      " [1.09842316e+01]\n",
      " [5.17022053e-02]\n",
      " [2.33736499e+01]\n",
      " [8.55033038e-01]]\n",
      "[12.3]\n",
      "TRHMEM_cuts\n",
      "1\n",
      "[&#39;diboson&#39;, &#39;multiboson&#39;, &#39;singletop&#39;, &#39;ttbar&#39;, &#39;tth&#39;, &#39;ttv&#39;, &#39;vh&#39;, &#39;wjets&#39;, &#39;zjets&#39;]\n",
      "[641.]\n",
      "[[2.81211270e+00]\n",
      " [1.10480908e-02]\n",
      " [3.27536260e+01]\n",
      " [5.53891017e+02]\n",
      " [6.59878236e-01]\n",
      " [9.74757198e+00]\n",
      " [5.25073586e-02]\n",
      " [4.42146689e+01]\n",
      " [6.03711301e-01]]\n",
      "[24.1]\n",
      "TRLMEM_cuts\n",
      "1\n",
      "[&#39;diboson&#39;, &#39;multiboson&#39;, &#39;singletop&#39;, &#39;ttbar&#39;, &#39;tth&#39;, &#39;ttv&#39;, &#39;vh&#39;, &#39;wjets&#39;, &#39;zjets&#39;]\n",
      "[657.]\n",
      "[[4.27465692e+00]\n",
      " [7.31587735e-03]\n",
      " [5.63339402e+01]\n",
      " [5.59890443e+02]\n",
      " [6.28591840e-01]\n",
      " [8.78516426e+00]\n",
      " [9.55258844e-02]\n",
      " [3.44516107e+01]\n",
      " [1.01581548e+00]]\n",
      "[24.5]\n",
      "TRMMEM_cuts\n",
      "1\n",
      "[&#39;diboson&#39;, &#39;multiboson&#39;, &#39;singletop&#39;, &#39;ttbar&#39;, &#39;tth&#39;, &#39;ttv&#39;, &#39;vh&#39;, &#39;wjets&#39;, &#39;zjets&#39;]\n",
      "[491.]\n",
      "[[2.01366390e+00]\n",
      " [2.47174098e-03]\n",
      " [2.70567895e+01]\n",
      " [4.29774391e+02]\n",
      " [5.20273564e-01]\n",
      " [9.80299695e+00]\n",
      " [1.06509673e-02]\n",
      " [1.04882059e+01]\n",
      " [3.09695809e-01]]\n",
      "[18.9]\n",
      "WREM_cuts\n",
      "1\n",
      "[&#39;diboson&#39;, &#39;multiboson&#39;, &#39;singletop&#39;, &#39;ttbar&#39;, &#39;tth&#39;, &#39;ttv&#39;, &#39;vh&#39;, &#39;wjets&#39;, &#39;zjets&#39;]\n",
      "[144.]\n",
      "[[5.64938467e+00]\n",
      " [1.96931547e-03]\n",
      " [5.20081349e+00]\n",
      " [4.69251957e+01]\n",
      " [7.78449749e-02]\n",
      " [1.98058777e-01]\n",
      " [1.20889898e+00]\n",
      " [8.32021898e+01]\n",
      " [9.36264994e-01]]\n",
      "[12]\n"
     ]
    }
   ],
   "source": [
    "tables = simplify.plot.yieldsTable(no_staterror_ws, \"/Users/ericschanet/Documents/Physik_PhD/simplify/test/ANA-SUSY-2019-08/figures/\", pruned_fit_result)"
   ]
  },
  {
   "cell_type": "code",
   "execution_count": null,
   "metadata": {},
   "outputs": [],
   "source": [
    "stdevs = simplify.model_utils.calculate_stdev(model,fit_result.bestfit,fit_result.uncertainty,fit_result.corr_mat)\n"
   ]
  }
 ],
 "metadata": {
  "kernelspec": {
   "display_name": "Python 3.6.12 64-bit (conda)",
   "metadata": {
    "interpreter": {
     "hash": "a7c392076915a63be4ab0fe048661ebd9b40d96fcc4aae6d0f790effc979ac0f"
    }
   },
   "name": "Python 3.6.12 64-bit (conda)"
  },
  "language_info": {
   "codemirror_mode": {
    "name": "ipython",
    "version": 3
   },
   "file_extension": ".py",
   "mimetype": "text/x-python",
   "name": "python",
   "nbconvert_exporter": "python",
   "pygments_lexer": "ipython3",
   "version": "3.6.12-final"
  },
  "orig_nbformat": 2
 },
 "nbformat": 4,
 "nbformat_minor": 2
}
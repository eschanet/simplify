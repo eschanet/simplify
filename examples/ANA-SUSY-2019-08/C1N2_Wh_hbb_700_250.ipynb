{
 "cells": [
  {
   "cell_type": "code",
   "execution_count": 16,
   "metadata": {},
   "outputs": [
    {
     "name": "stderr",
     "output_type": "stream",
     "text": [
      "<\u001b[1;32mINFO\u001b[0m> simplify.logger.simplify.fitter fit: performing maximum likelihood fit\n",
      "------------------------------------------------------------------\n",
      "| FCN = 215.4                   |   Ncalls=14621 (14621 total)   |\n",
      "| EDM = 0.000153 (Goal: 0.0002) |            up = 1.0            |\n",
      "------------------------------------------------------------------\n",
      "|  Valid Min.   | Valid Param.  | Above EDM | Reached call limit |\n",
      "------------------------------------------------------------------\n",
      "|     True      |     True      |   False   |       False        |\n",
      "------------------------------------------------------------------\n",
      "| Hesse failed  |   Has cov.    | Accurate  | Pos. def. | Forced |\n",
      "------------------------------------------------------------------\n",
      "|     False     |     True      |   True    |   True    | False  |\n",
      "------------------------------------------------------------------\n"
     ]
    }
   ],
   "source": [
    "import pyhf\n",
    "import json\n",
    "import numpy as np\n",
    "\n",
    "import simplify\n",
    "\n",
    "prefix=\"full_\"\n",
    "pyhf.set_backend(pyhf.tensorlib, \"minuit\")\n",
    "spec = json.load(open(prefix+\"C1N2_Wh_hbb_700_250.json\", \"r\"))\n",
    "\n",
    "ws = pyhf.Workspace(spec) # origin ws from full LH\n",
    "\n",
    "# get model and data for each ws we just created\n",
    "model = ws.model(modifier_settings = {\"normsys\": {\"interpcode\": \"code4\"},\"histosys\": {\"interpcode\": \"code4p\"},})\n",
    "data = ws.data(model)\n",
    "\n",
    "# run fit\n",
    "fit_result = simplify.fitter.fit(ws)"
   ]
  },
  {
   "cell_type": "code",
   "execution_count": 18,
   "metadata": {},
   "outputs": [],
   "source": [
    "# Correlation matrix\n",
    "plt = simplify.plot.correlation_matrix(fit_result,\"/Users/ericschanet/Documents/Physik_PhD/simplify/test/ANA-SUSY-2019-08/\"+prefix+\"figures/\",pruning_threshold=0)"
   ]
  },
  {
   "cell_type": "code",
   "execution_count": 19,
   "metadata": {},
   "outputs": [
    {
     "name": "stdout",
     "output_type": "stream",
     "text": [
      "[106 105 104 103 102 101 100  99  98  97  96  95  94  93  92  91  90  89\n",
      "  88  87  86  85  84  83  82  81  80  79  78  77  76  75  74  73  72  71\n",
      "  70  69  68  67  66  65  64  63  62  61  60  59  58  57  56  55  54  53\n",
      "  52  51  50  49  48  47  46  45  44  43  42  41  40  39  38  37  36  35\n",
      "  34  33  32  31  30  29  28  27  26  25  24  23  22  21  20  19  18  17\n",
      "  16  15  14  13  12  11  10   9   8   7   6   5   4   3   2   1   0]\n",
      "[124 123 122 121 120 119 118 117 116 115 114 113 112 111 110 109 108 107]\n"
     ]
    }
   ],
   "source": [
    "# Pull plot\n",
    "plt = simplify.plot.pulls(\n",
    "    fit_result,\n",
    "    \"/Users/ericschanet/Documents/Physik_PhD/simplify/test/ANA-SUSY-2019-08/\"+prefix+\"figures/\"\n",
    ")"
   ]
  },
  {
   "cell_type": "code",
   "execution_count": 20,
   "metadata": {},
   "outputs": [],
   "source": [
    "tables = simplify.plot.yieldsTable(\n",
    "    ws,\n",
    "    \"/Users/ericschanet/Documents/Physik_PhD/simplify/test/ANA-SUSY-2019-08/\"+prefix+\"figures/\",\n",
    "    fit_result\n",
    ")"
   ]
  }
 ],
 "metadata": {
  "kernelspec": {
   "display_name": "Python 3.6.12 64-bit (conda)",
   "metadata": {
    "interpreter": {
     "hash": "a7c392076915a63be4ab0fe048661ebd9b40d96fcc4aae6d0f790effc979ac0f"
    }
   },
   "name": "Python 3.6.12 64-bit (conda)"
  },
  "language_info": {
   "codemirror_mode": {
    "name": "ipython",
    "version": 3
   },
   "file_extension": ".py",
   "mimetype": "text/x-python",
   "name": "python",
   "nbconvert_exporter": "python",
   "pygments_lexer": "ipython3",
   "version": "3.6.12-final"
  },
  "orig_nbformat": 2
 },
 "nbformat": 4,
 "nbformat_minor": 2
}